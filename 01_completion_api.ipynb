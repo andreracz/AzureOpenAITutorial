{
 "cells": [
  {
   "cell_type": "markdown",
   "metadata": {
    "nteract": {
     "transient": {
      "deleting": false
     }
    },
    "tags": []
   },
   "source": [
    "# API de Completion\n",
    "\n",
    "Este notebook serve para mostrar o funcionamento das APIS de completion.\n",
    "Primeiro montamos o ambiente:\n"
   ]
  },
  {
   "cell_type": "code",
   "execution_count": 1,
   "metadata": {
    "tags": []
   },
   "outputs": [],
   "source": [
    "from dotenv import load_dotenv\n",
    "load_dotenv()\n",
    "import openai\n",
    "import re\n",
    "import requests\n",
    "import sys\n",
    "import os\n",
    "from dotenv import load_dotenv\n",
    "load_dotenv()\n",
    "\n",
    "openai.api_type = \"azure\"\n",
    "openai.api_version = \"2022-12-01\"\n",
    "\n",
    "API_KEY = os.getenv(\"OPENAI_API_KEY\",\"\").strip()\n",
    "assert API_KEY, \"ERROR: Azure OpenAI Key is missing\"\n",
    "openai.api_key = API_KEY\n",
    "\n",
    "RESOURCE_ENDPOINT = os.getenv(\"OPENAI_API_BASE\",\"\").strip()\n",
    "assert RESOURCE_ENDPOINT, \"ERROR: Azure OpenAI Endpoint is missing\"\n",
    "assert \"openai.azure.com\" in RESOURCE_ENDPOINT.lower(), \"ERROR: Azure OpenAI Endpoint should be in the form: \\n\\n\\t<your unique endpoint identifier>.openai.azure.com\"\n",
    "openai.api_base = RESOURCE_ENDPOINT\n",
    "COMPLETIONS_MODEL = os.getenv('DEPLOYMENT_NAME')"
   ]
  },
  {
   "cell_type": "markdown",
   "metadata": {
    "nteract": {
     "transient": {
      "deleting": false
     }
    },
    "tags": []
   },
   "source": [
    "## Chamada básica\n",
    "\n",
    "Para chamar, passamos o parametro Prompt, com o texto que queremos que ele complete.\n",
    "\n",
    "### Zero Shot Prompt\n"
   ]
  },
  {
   "cell_type": "code",
   "execution_count": 2,
   "metadata": {
    "tags": []
   },
   "outputs": [
    {
     "data": {
      "text/plain": [
       "'How are you going?'"
      ]
     },
     "execution_count": 2,
     "metadata": {},
     "output_type": "execute_result"
    }
   ],
   "source": [
    "prompt = \"\"\"Traduza do Português para inglês:\n",
    "\n",
    "Como você vai? -> \"\"\"\n",
    "openai.Completion.create(\n",
    "    prompt=prompt,\n",
    "    temperature=0,\n",
    "    max_tokens=1000,\n",
    "    top_p=1,\n",
    "    frequency_penalty=0,\n",
    "    presence_penalty=0,\n",
    "    engine=COMPLETIONS_MODEL\n",
    ")[\"choices\"][0][\"text\"].strip(\" \\n\")"
   ]
  },
  {
   "cell_type": "markdown",
   "metadata": {
    "nteract": {
     "transient": {
      "deleting": false
     }
    },
    "tags": []
   },
   "source": [
    "### One Shot Prompt\n"
   ]
  },
  {
   "cell_type": "code",
   "execution_count": 3,
   "metadata": {
    "tags": []
   },
   "outputs": [
    {
     "data": {
      "text/plain": [
       "'How are you doing?'"
      ]
     },
     "execution_count": 3,
     "metadata": {},
     "output_type": "execute_result"
    }
   ],
   "source": [
    "prompt = \"\"\"Traduza do Português para inglês:\n",
    "\n",
    "Oi, tudo bem? -> Hi, how are you?\n",
    "Como você vai?-> \"\"\"\n",
    "openai.Completion.create(\n",
    "    prompt=prompt,\n",
    "    temperature=0,\n",
    "    max_tokens=1000,\n",
    "    top_p=1,\n",
    "    frequency_penalty=0,\n",
    "    presence_penalty=0,\n",
    "    engine=COMPLETIONS_MODEL\n",
    ")[\"choices\"][0][\"text\"].strip(\" \\n\")"
   ]
  },
  {
   "cell_type": "markdown",
   "metadata": {
    "nteract": {
     "transient": {
      "deleting": false
     }
    },
    "tags": []
   },
   "source": [
    "### Few Shot Prompt\n"
   ]
  },
  {
   "cell_type": "code",
   "execution_count": 4,
   "metadata": {
    "tags": []
   },
   "outputs": [
    {
     "data": {
      "text/plain": [
       "'How are you doing?'"
      ]
     },
     "execution_count": 4,
     "metadata": {},
     "output_type": "execute_result"
    }
   ],
   "source": [
    "prompt = \"\"\"Traduza do Português para inglês:\n",
    "\n",
    "Oi, tudo bem? -> Hi, how are you?\n",
    "Me chamo André -> My name is André\n",
    "Como você vai? -> \"\"\"\n",
    "openai.Completion.create(\n",
    "    prompt=prompt,\n",
    "    temperature=0,\n",
    "    max_tokens=1000,\n",
    "    top_p=1,\n",
    "    frequency_penalty=0,\n",
    "    presence_penalty=0,\n",
    "    engine=COMPLETIONS_MODEL\n",
    ")[\"choices\"][0][\"text\"].strip(\" \\n\")"
   ]
  },
  {
   "cell_type": "markdown",
   "metadata": {
    "nteract": {
     "transient": {
      "deleting": false
     }
    },
    "tags": []
   },
   "source": [
    "### Tradução\n"
   ]
  },
  {
   "cell_type": "code",
   "execution_count": 6,
   "metadata": {
    "tags": []
   },
   "outputs": [
    {
     "name": "stdout",
     "output_type": "stream",
     "text": [
      "1. Please, I would like a Water.\n",
      "2. Por favor, me gustaría un Agua.\n",
      "3. お願いします、水をお願いします。\n",
      "4. من فضلك، أود ماء.\n"
     ]
    }
   ],
   "source": [
    "prompt = \"\"\"Traduza a seguinte frase para 1. Inglês, 2. Espanhol, 3. Japonês, 4. Arábe: Por favor, gostaria de uma Água\n",
    "\"\"\"\n",
    "print(openai.Completion.create(\n",
    "    prompt=prompt,\n",
    "    temperature=0,\n",
    "    max_tokens=1000,\n",
    "    top_p=1,\n",
    "    frequency_penalty=0,\n",
    "    presence_penalty=0,\n",
    "    engine=COMPLETIONS_MODEL\n",
    ")[\"choices\"][0][\"text\"].strip(\" \\n\"))"
   ]
  },
  {
   "cell_type": "markdown",
   "metadata": {
    "nteract": {
     "transient": {
      "deleting": false
     }
    },
    "tags": []
   },
   "source": [
    "### Geração de Ideias\n"
   ]
  },
  {
   "cell_type": "code",
   "execution_count": 7,
   "metadata": {
    "tags": []
   },
   "outputs": [
    {
     "name": "stdout",
     "output_type": "stream",
     "text": [
      "1. \"Aprendendo a analisar o complexo panorama de Arquitetura de Sistemas\" - Esta postagem abordaria técnicas para os desenvolvedores senior avaliarem as necessidades de arquitetura de sistemas e tomar decisões informadas. O post também cobriria boas práticas como documentação e testes de código para garantir a qualidade da arquitetura desenvolvida. \n",
      "\n",
      "2. \"Desenvolvendo um modelo de Arquitetura de Sistemas escalonável\" - Neste post, os desenvolvedores senior poderiam explorar os fundamentos para criar arquiteturas de sistemas escalonáveis. O post também discutiria como dimensionar sistemas computacionais para suprir as necessidades de processamento de dados e computação em nuvem.\n",
      "\n",
      "3. \"Usando bibliotecas para aprimorar a Arquitetura de Sistemas\" - O post discutiria sobre como os desenvolvedores senior podem usar bibliotecas para aprimorar o desempenho e a manutenção mais rápida de seus sistemas de arquitetura. O post também incluiria maneiras criativas de usar bibliotecas para solucionar problemas comuns.\n"
     ]
    }
   ],
   "source": [
    "prompt = \"\"\"Gere 3 idéias de posts de blog sobre Arquitetura de sistemas para profissionais senior:\n",
    "\n",
    "\"\"\"\n",
    "print(openai.Completion.create(\n",
    "    prompt=prompt,\n",
    "    temperature=0.9,\n",
    "    max_tokens=1000,\n",
    "    top_p=1,\n",
    "    frequency_penalty=0,\n",
    "    presence_penalty=0,\n",
    "    engine=COMPLETIONS_MODEL\n",
    ")[\"choices\"][0][\"text\"].strip(\" \\n\"))"
   ]
  },
  {
   "cell_type": "markdown",
   "metadata": {
    "nteract": {
     "transient": {
      "deleting": false
     }
    },
    "tags": []
   },
   "source": [
    "### Classificação\n"
   ]
  },
  {
   "cell_type": "code",
   "execution_count": 8,
   "metadata": {
    "tags": []
   },
   "outputs": [
    {
     "name": "stdout",
     "output_type": "stream",
     "text": [
      "Positivo\n"
     ]
    }
   ],
   "source": [
    "prompt = \"\"\"Decida se o Tweet abaixo é positivo, negativo ou neutro.\n",
    "\n",
    "Tweet: Estou adorando a nova temporada do Mandalorian!\n",
    "Sentimento:\"\"\"\n",
    "print(openai.Completion.create(\n",
    "    prompt=prompt,\n",
    "    temperature=0,\n",
    "    max_tokens=1000,\n",
    "    top_p=1,\n",
    "    frequency_penalty=0,\n",
    "    presence_penalty=0,\n",
    "    engine=COMPLETIONS_MODEL\n",
    ")[\"choices\"][0][\"text\"].strip(\" \\n\"))"
   ]
  },
  {
   "cell_type": "code",
   "execution_count": 9,
   "metadata": {
    "tags": []
   },
   "outputs": [
    {
     "name": "stdout",
     "output_type": "stream",
     "text": [
      "Neutro\n"
     ]
    }
   ],
   "source": [
    "prompt = \"\"\"Decida se o Tweet abaixo é positivo, negativo ou neutro. \n",
    "\n",
    "Tweet: Estou adorando a nova temporada do Mandalorian, mas o último episódio foi bem ruim!\n",
    "Sentimento:\"\"\"\n",
    "print(openai.Completion.create(\n",
    "    prompt=prompt,\n",
    "    temperature=0,\n",
    "    max_tokens=1000,\n",
    "    top_p=1,\n",
    "    frequency_penalty=0,\n",
    "    presence_penalty=0,\n",
    "    engine=COMPLETIONS_MODEL\n",
    ")[\"choices\"][0][\"text\"].strip(\" \\n\"))"
   ]
  },
  {
   "cell_type": "code",
   "execution_count": 13,
   "metadata": {
    "tags": []
   },
   "outputs": [
    {
     "name": "stdout",
     "output_type": "stream",
     "text": [
      "Positivo\n",
      "Sarcasmo: Não\n"
     ]
    }
   ],
   "source": [
    "prompt = \"\"\"Decida se o Tweet abaixo é positivo, negativo ou neutro. Avalie se tem sarcasmo.\n",
    "\n",
    "Tweet: O Hotel é bom que dói.\n",
    "Sentimento: Negativo\n",
    "Sarcasmo: Sim\n",
    "\n",
    "Tweet: O Hotel é tão chique que até as baratas usam gravatas.\n",
    "Sentimento:\"\"\"\n",
    "print(openai.Completion.create(\n",
    "    prompt=prompt,\n",
    "    temperature=0,\n",
    "    max_tokens=1000,\n",
    "    top_p=1,\n",
    "    frequency_penalty=0,\n",
    "    presence_penalty=0,\n",
    "    engine=COMPLETIONS_MODEL\n",
    ")[\"choices\"][0][\"text\"].strip(\" \\n\"))"
   ]
  },
  {
   "cell_type": "code",
   "execution_count": null,
   "metadata": {},
   "outputs": [],
   "source": []
  }
 ],
 "metadata": {
  "kernelspec": {
   "display_name": "Python 3 (ipykernel)",
   "language": "python",
   "name": "python3"
  },
  "language_info": {
   "codemirror_mode": {
    "name": "ipython",
    "version": 3
   },
   "file_extension": ".py",
   "mimetype": "text/x-python",
   "name": "python",
   "nbconvert_exporter": "python",
   "pygments_lexer": "ipython3",
   "version": "3.10.9"
  },
  "vscode": {
   "interpreter": {
    "hash": "0ac0e7d245f35f05656c1dae54880a0902b050693b3e66826fb0a7033a44f77d"
   }
  }
 },
 "nbformat": 4,
 "nbformat_minor": 4
}
