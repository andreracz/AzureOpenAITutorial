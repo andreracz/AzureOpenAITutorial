{
 "cells": [
  {
   "cell_type": "markdown",
   "metadata": {
    "nteract": {
     "transient": {
      "deleting": false
     }
    },
    "tags": []
   },
   "source": [
    "# API de Completion\n",
    "\n",
    "Este notebook serve para mostrar o funcionamento das APIS de completion.\n",
    "Primeiro montamos o ambiente:\n"
   ]
  },
  {
   "cell_type": "code",
   "execution_count": 1,
   "metadata": {
    "tags": []
   },
   "outputs": [
    {
     "data": {
      "text/plain": [
       "'gpt-35-turbo-instruct'"
      ]
     },
     "execution_count": 1,
     "metadata": {},
     "output_type": "execute_result"
    }
   ],
   "source": [
    "import os\n",
    "from openai import AzureOpenAI\n",
    "from dotenv import load_dotenv\n",
    "load_dotenv()\n",
    "\n",
    "API_KEY = os.getenv(\"AZURE_OPENAI_API_KEY\",\"\").strip()\n",
    "assert API_KEY, \"ERROR: Azure OpenAI Key is missing\"\n",
    "\n",
    "RESOURCE_ENDPOINT = os.getenv(\"AZURE_OPENAI_API_BASE\",\"\").strip()\n",
    "assert RESOURCE_ENDPOINT, \"ERROR: Azure OpenAI Endpoint is missing\"\n",
    "assert \"openai.azure.com\" in RESOURCE_ENDPOINT.lower(), \"ERROR: Azure OpenAI Endpoint should be in the form: \\n\\n\\t<your unique endpoint identifier>.openai.azure.com\"\n",
    "\n",
    "client = AzureOpenAI(\n",
    "    api_version=os.getenv(\"AZURE_OPENAI_VERSION\",\"\"),\n",
    "    azure_endpoint=RESOURCE_ENDPOINT,\n",
    "    api_key = API_KEY,\n",
    ")\n",
    "\n",
    "\n",
    "COMPLETIONS_MODEL = os.getenv('DEPLOYMENT_NAME')\n"
   ]
  },
  {
   "cell_type": "markdown",
   "metadata": {
    "nteract": {
     "transient": {
      "deleting": false
     }
    },
    "tags": []
   },
   "source": [
    "## Chamada básica\n",
    "\n",
    "Para chamar, passamos o parametro Prompt, com o texto que queremos que ele complete.\n",
    "\n",
    "### Zero Shot Prompt\n"
   ]
  },
  {
   "cell_type": "code",
   "execution_count": 2,
   "metadata": {
    "tags": []
   },
   "outputs": [
    {
     "data": {
      "text/plain": [
       "'How are you?'"
      ]
     },
     "execution_count": 2,
     "metadata": {},
     "output_type": "execute_result"
    }
   ],
   "source": [
    "prompt = \"\"\"Traduza do Português para inglês:\n",
    "\n",
    "Como você vai? -> \"\"\"\n",
    "client.completions.create(\n",
    "    prompt=prompt,\n",
    "    temperature=0,\n",
    "    max_tokens=1000,\n",
    "    top_p=1,\n",
    "    frequency_penalty=0,\n",
    "    presence_penalty=0,\n",
    "    model=COMPLETIONS_MODEL\n",
    ").choices[0].text.strip(\" \\n\")"
   ]
  },
  {
   "cell_type": "markdown",
   "metadata": {
    "nteract": {
     "transient": {
      "deleting": false
     }
    },
    "tags": []
   },
   "source": [
    "### One Shot Prompt\n"
   ]
  },
  {
   "cell_type": "code",
   "execution_count": 3,
   "metadata": {
    "tags": []
   },
   "outputs": [
    {
     "data": {
      "text/plain": [
       "'How are you doing?'"
      ]
     },
     "execution_count": 3,
     "metadata": {},
     "output_type": "execute_result"
    }
   ],
   "source": [
    "prompt = \"\"\"Traduza do Português para inglês:\n",
    "\n",
    "Oi, tudo bem? -> Hi, how are you?\n",
    "Como você vai?-> \"\"\"\n",
    "client.completions.create(\n",
    "    prompt=prompt,\n",
    "    temperature=0,\n",
    "    max_tokens=1000,\n",
    "    top_p=1,\n",
    "    frequency_penalty=0,\n",
    "    presence_penalty=0,\n",
    "    model=COMPLETIONS_MODEL\n",
    ").choices[0].text.strip(\" \\n\")"
   ]
  },
  {
   "cell_type": "markdown",
   "metadata": {
    "nteract": {
     "transient": {
      "deleting": false
     }
    },
    "tags": []
   },
   "source": [
    "### Few Shot Prompt\n"
   ]
  },
  {
   "cell_type": "code",
   "execution_count": 4,
   "metadata": {
    "tags": []
   },
   "outputs": [
    {
     "data": {
      "text/plain": [
       "\"How are you doing?\\nEu estou bem, obrigado -> I'm fine, thank you\""
      ]
     },
     "execution_count": 4,
     "metadata": {},
     "output_type": "execute_result"
    }
   ],
   "source": [
    "prompt = \"\"\"Traduza do Português para inglês:\n",
    "\n",
    "Oi, tudo bem? -> Hi, how are you?\n",
    "Me chamo André -> My name is André\n",
    "Como você vai? -> \"\"\"\n",
    "client.completions.create(\n",
    "    prompt=prompt,\n",
    "    temperature=0,\n",
    "    max_tokens=1000,\n",
    "    top_p=1,\n",
    "    frequency_penalty=0,\n",
    "    presence_penalty=0,\n",
    "    model=COMPLETIONS_MODEL\n",
    ").choices[0].text.strip(\" \\n\")"
   ]
  },
  {
   "cell_type": "markdown",
   "metadata": {
    "nteract": {
     "transient": {
      "deleting": false
     }
    },
    "tags": []
   },
   "source": [
    "### Tradução\n"
   ]
  },
  {
   "cell_type": "code",
   "execution_count": 5,
   "metadata": {
    "tags": []
   },
   "outputs": [
    {
     "name": "stdout",
     "output_type": "stream",
     "text": [
      "1. Please, I would like a water.\n",
      "2. Por favor, me gustaría un agua.\n",
      "3. お願いします、水をお願いします。\n",
      "4. من فضلك، أود ماء واحد.\n"
     ]
    }
   ],
   "source": [
    "prompt = \"\"\"Traduza a seguinte frase para 1. Inglês, 2. Espanhol, 3. Japonês, 4. Arábe: Por favor, gostaria de uma Água\n",
    "\"\"\"\n",
    "print(client.completions.create(\n",
    "    prompt=prompt,\n",
    "    temperature=0,\n",
    "    max_tokens=1000,\n",
    "    top_p=1,\n",
    "    frequency_penalty=0,\n",
    "    presence_penalty=0,\n",
    "    model=COMPLETIONS_MODEL\n",
    ").choices[0].text.strip(\" \\n\"))"
   ]
  },
  {
   "cell_type": "markdown",
   "metadata": {
    "nteract": {
     "transient": {
      "deleting": false
     }
    },
    "tags": []
   },
   "source": [
    "### Geração de Ideias\n"
   ]
  },
  {
   "cell_type": "code",
   "execution_count": 6,
   "metadata": {
    "tags": []
   },
   "outputs": [
    {
     "name": "stdout",
     "output_type": "stream",
     "text": [
      "1. \"5 tendências de Arquitetura de Sistemas que todo profissional sênior precisa conhecer\"\n",
      "Neste post, o autor poderia abordar as principais mudanças e inovações na área de Arquitetura de Sistemas, destacando as tendências mais relevantes para profissionais sênior. Isso incluiria tecnologias emergentes, como computação em nuvem, Internet das Coisas e inteligência artificial, e como elas estão impactando a forma como arquitetos de sistemas trabalham hoje em dia.\n",
      "\n",
      "2. \"O papel do profissional sênior de Arquitetura de Sistemas na transformação digital das empresas\"\n",
      "Neste post, o autor poderia explorar o papel vital que os arquitetos de sistemas desempenham na jornada de transformação digital das empresas. Ele poderia discutir como esses profissionais são responsáveis por projetar e implementar infraestruturas tecnológicas que permitem a digitalização e modernização de processos e operações, e como eles podem ajudar as empresas a se manterem competitivas em um mercado cada vez mais digital.\n",
      "\n",
      "3. \"Desafios e soluções avançadas na Arquitetura de Sistemas: insights de profissionais experientes\"\n",
      "Neste post, o autor poderia entrevistar profissionais sênior de Arquitetura de Sistemas e pedir que compartilhassem seus maiores desafios e como eles os enfrentaram. Isso poderia incluir questões como lidar com sistemas legados, garantir a segurança de dados sensíveis e lidar com a escalabilidade e adaptação de sistemas em constante evolução. Os arquitetos de sistemas entrevistados também poderiam compartilhar suas soluções e dicas valiosas para outros profissionais enfrentando situações semelhantes.\n"
     ]
    }
   ],
   "source": [
    "prompt = \"\"\"Gere 3 idéias de posts de blog sobre Arquitetura de sistemas para profissionais senior:\n",
    "\n",
    "\"\"\"\n",
    "print(client.completions.create(\n",
    "    prompt=prompt,\n",
    "    temperature=0.9,\n",
    "    max_tokens=1000,\n",
    "    top_p=1,\n",
    "    frequency_penalty=0,\n",
    "    presence_penalty=0,\n",
    "    model=COMPLETIONS_MODEL\n",
    ").choices[0].text.strip(\" \\n\"))"
   ]
  },
  {
   "cell_type": "markdown",
   "metadata": {
    "nteract": {
     "transient": {
      "deleting": false
     }
    },
    "tags": []
   },
   "source": [
    "### Classificação\n"
   ]
  },
  {
   "cell_type": "code",
   "execution_count": 11,
   "metadata": {
    "tags": []
   },
   "outputs": [
    {
     "name": "stdout",
     "output_type": "stream",
     "text": [
      "Positivo\n"
     ]
    }
   ],
   "source": [
    "prompt = \"\"\"Decida se o Tweet abaixo é positivo, negativo ou neutro.\n",
    "\n",
    "Tweet: Estou animado para estréia do Rings of Power amanhã!\n",
    "Sentimento:\"\"\"\n",
    "print(client.completions.create(\n",
    "    prompt=prompt,\n",
    "    temperature=0,\n",
    "    max_tokens=1000,\n",
    "    top_p=1,\n",
    "    frequency_penalty=0,\n",
    "    presence_penalty=0,\n",
    "    model=COMPLETIONS_MODEL\n",
    ").choices[0].text.strip(\" \\n\"))"
   ]
  },
  {
   "cell_type": "code",
   "execution_count": 15,
   "metadata": {
    "tags": []
   },
   "outputs": [
    {
     "name": "stdout",
     "output_type": "stream",
     "text": [
      "Negativo\n"
     ]
    }
   ],
   "source": [
    "prompt = \"\"\"Decida se o Tweet abaixo é positivo, negativo ou neutro. \n",
    "\n",
    "Tweet: Estou animado para estréia do Rings of Power amanhã! SQN!\n",
    "Sentimento:\"\"\"\n",
    "print(client.completions.create(\n",
    "    prompt=prompt,\n",
    "    temperature=0,\n",
    "    max_tokens=1000,\n",
    "    top_p=1,\n",
    "    frequency_penalty=0,\n",
    "    presence_penalty=0,\n",
    "    model=COMPLETIONS_MODEL\n",
    ").choices[0].text.strip(\" \\n\"))"
   ]
  },
  {
   "cell_type": "code",
   "execution_count": 16,
   "metadata": {
    "tags": []
   },
   "outputs": [
    {
     "name": "stdout",
     "output_type": "stream",
     "text": [
      "Positivo\n",
      "Sarcasmo: Sim\n"
     ]
    }
   ],
   "source": [
    "prompt = \"\"\"Decida se o Tweet abaixo é positivo, negativo ou neutro. Avalie se tem sarcasmo.\n",
    "\n",
    "Tweet: O Hotel é bom que dói.\n",
    "Sentimento: Negativo\n",
    "Sarcasmo: Sim\n",
    "\n",
    "Tweet: O Hotel é tão chique que até as baratas usam gravatas.\n",
    "Sentimento:\"\"\"\n",
    "print(client.completions.create(\n",
    "    prompt=prompt,\n",
    "    temperature=0,\n",
    "    max_tokens=1000,\n",
    "    top_p=1,\n",
    "    frequency_penalty=0,\n",
    "    presence_penalty=0,\n",
    "    model=COMPLETIONS_MODEL\n",
    ").choices[0].text.strip(\" \\n\"))"
   ]
  },
  {
   "cell_type": "code",
   "execution_count": 17,
   "metadata": {
    "tags": []
   },
   "outputs": [
    {
     "name": "stdout",
     "output_type": "stream",
     "text": [
      "Positivo\n",
      "Sarcasmo: Não\n"
     ]
    }
   ],
   "source": [
    "prompt = \"\"\"Decida se o Tweet abaixo é positivo, negativo ou neutro. Avalie se tem sarcasmo.\n",
    "\n",
    "Tweet: O Hotel é bom que dói.\n",
    "Sentimento: Negativo\n",
    "Sarcasmo: Sim\n",
    "\n",
    "Tweet: O Hotel é muito chique.\n",
    "Sentimento:\"\"\"\n",
    "print(client.completions.create(\n",
    "    prompt=prompt,\n",
    "    temperature=0,\n",
    "    max_tokens=1000,\n",
    "    top_p=1,\n",
    "    frequency_penalty=0,\n",
    "    presence_penalty=0,\n",
    "    model=COMPLETIONS_MODEL\n",
    ").choices[0].text.strip(\" \\n\"))"
   ]
  }
 ],
 "metadata": {
  "kernelspec": {
   "display_name": "Python 3 (ipykernel)",
   "language": "python",
   "name": "python3"
  },
  "language_info": {
   "codemirror_mode": {
    "name": "ipython",
    "version": 3
   },
   "file_extension": ".py",
   "mimetype": "text/x-python",
   "name": "python",
   "nbconvert_exporter": "python",
   "pygments_lexer": "ipython3",
   "version": "3.12.4"
  },
  "vscode": {
   "interpreter": {
    "hash": "0ac0e7d245f35f05656c1dae54880a0902b050693b3e66826fb0a7033a44f77d"
   }
  }
 },
 "nbformat": 4,
 "nbformat_minor": 4
}
