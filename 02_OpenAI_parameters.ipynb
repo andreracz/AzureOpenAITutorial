{
 "cells": [
  {
   "cell_type": "markdown",
   "metadata": {},
   "source": [
    "# Parametros da OpenAI"
   ]
  },
  {
   "cell_type": "code",
   "execution_count": 1,
   "metadata": {
    "tags": []
   },
   "outputs": [],
   "source": [
    "import os\n",
    "from openai import AzureOpenAI\n",
    "from dotenv import load_dotenv\n",
    "load_dotenv()\n",
    "\n",
    "API_KEY = os.getenv(\"AZURE_OPENAI_API_KEY\",\"\").strip()\n",
    "assert API_KEY, \"ERROR: Azure OpenAI Key is missing\"\n",
    "\n",
    "RESOURCE_ENDPOINT = os.getenv(\"AZURE_OPENAI_API_BASE\",\"\").strip()\n",
    "assert RESOURCE_ENDPOINT, \"ERROR: Azure OpenAI Endpoint is missing\"\n",
    "assert \"openai.azure.com\" in RESOURCE_ENDPOINT.lower(), \"ERROR: Azure OpenAI Endpoint should be in the form: \\n\\n\\t<your unique endpoint identifier>.openai.azure.com\"\n",
    "\n",
    "client = AzureOpenAI(\n",
    "    api_version=os.getenv(\"AZURE_OPENAI_VERSION\",\"\"),\n",
    "    azure_endpoint=RESOURCE_ENDPOINT,\n",
    "    api_key = API_KEY,\n",
    ")"
   ]
  },
  {
   "cell_type": "markdown",
   "metadata": {},
   "source": [
    "# temperature\n",
    "\n",
    "Padrão é 1.\n",
    "\n",
    "Pode ser visto como a \"Criatividade\" do modelo. Um valor mais algo, significa que o modelo vai tomar mais risco. Usamos 0.9 para aplicações mais criativas e 0 para as que queremos uma resposta bem definida.\n",
    "\n",
    "Não é recomendado alterar temperature e top_p ao mesmo tempo."
   ]
  },
  {
   "cell_type": "code",
   "execution_count": 2,
   "metadata": {
    "tags": []
   },
   "outputs": [],
   "source": [
    "def call_openai(num_times, prompt, temperature):\n",
    "    for i in range(num_times):\n",
    "        \n",
    "        response = client.completions.create(\n",
    "            model=os.getenv('DEPLOYMENT_NAME'),\n",
    "            prompt=prompt,\n",
    "            max_tokens=60,\n",
    "            temperature = temperature\n",
    "        )\n",
    "        print(response.choices[0].text)"
   ]
  },
  {
   "cell_type": "code",
   "execution_count": 3,
   "metadata": {
    "tags": []
   },
   "outputs": [
    {
     "name": "stdout",
     "output_type": "stream",
     "text": [
      "cão. Eles são leais, amorosos, companheiros e sempre estão prontos para nos fazer companhia e nos alegrar. Além disso, os cães são ótimos para praticar exercícios e nos ajudam a manter uma\n",
      "cão. Eles são leais, amorosos, companheiros e sempre estão prontos para nos fazer companhia e nos alegrar. Além disso, os cães são ótimos para praticar exercícios e nos ajudam a manter uma\n",
      "cão. Eles são leais, amorosos, companheiros e sempre estão prontos para nos fazer companhia e nos alegrar. Além disso, os cães são ótimos para praticar exercícios e nos ajudam a manter uma\n"
     ]
    }
   ],
   "source": [
    "call_openai(3, 'O melhor animal de estimação é o ', temperature = 0)"
   ]
  },
  {
   "cell_type": "code",
   "execution_count": 4,
   "metadata": {
    "tags": []
   },
   "outputs": [
    {
     "name": "stdout",
     "output_type": "stream",
     "text": [
      "cão. Existem várias raças de cães, cada uma com suas próprias características e temperamentos, o que permite que cada pessoa encontre um cão que se encaixa em seu estilo de vida e personalidade. Além disso, os cães foram\n",
      "cão. Eles são fiéis, dese\n",
      "cachorro, pois além de serem fiéis e amorosos, também são excelentes companheiros para todas as horas. Eles estão sempre dispostos a fazer atividades físicas, brincar e dar carinho aos seus donos. Além disso, os c\n",
      "cão.\n",
      "\n",
      "Existem muitas razões pelas quais o cão é considerado o melhor animal de estimação. Aqui estão alguns motivos que comprovam isso:\n",
      "\n",
      "1. Lealdade e companheirismo: Os cães são extremamente leais\n",
      "que se encaixa melhor no estilo de vida e no ambiente da pessoa ou família que irá cuidar dele. Não existe um \"melhor\" animal de estimação universal, pois cada animal tem suas próprias necessidades e características. Algumas pessoas podem preferir um cachorro\n",
      "cão.\n",
      "\n",
      "Os cães são leais, amorosos, protetores e ótimos companheiros. Eles são excelentes para fazer companhia, brincar e até mesmo para ajudar em tarefas simples, como buscar objetos. Além disso\n",
      "cão.\n",
      "\n",
      "Existem muitas razões pelas quais o cão é considerado o melhor animal de estimação. Aqui estão algumas delas:\n",
      "\n",
      "1. Companheirismo: Os cães são conhecidos por serem excelentes companheiros de seus don\n",
      "que se encaixa melhor nas necessidades e condições de vida do dono. Algumas pessoas preferem animais de estimação mais tranquilos, que não precisem de muitos cuidados ou espaços grandes, como peixes, hamsters ou gatos. Outras\n",
      "cão, pois ele é fiel, companheiro, brincalhão, protetor e pode ser treinado para realizar diversas atividades, como ser um cão guia para pessoas com necessidades especiais ou um cão de resgate em situações de emerg\n",
      "que mais se adapta às necessidades e ao estilo de vida de seus donos. Portanto, não existe uma resposta certa para essa pergunta, já que cada pessoa tem preferências e necessidades diferentes. Algumas pessoas podem preferir cães, enquanto outras preferem gatos\n"
     ]
    }
   ],
   "source": [
    "call_openai(10, 'O melhor animal de estimação é o ', temperature = 1)"
   ]
  },
  {
   "cell_type": "markdown",
   "metadata": {},
   "source": [
    "# top_p\n",
    "\n",
    "Padrão é 1\n",
    "\n",
    "Uma alternativa à temperatura. O Modelo irá considerar apenas os tokens com probabilidade igual a esse parametro. Então 0.1 significa que apenas as respostas com até 10% de probabilidae serão consideradas.\n",
    "\n",
    "Não é recomendado alterar temperature e top_p ao mesmo tempo."
   ]
  },
  {
   "cell_type": "code",
   "execution_count": 7,
   "metadata": {
    "tags": []
   },
   "outputs": [],
   "source": [
    "def call_openai_top_p(num_times, prompt, top_p):\n",
    "    for i in range(num_times):\n",
    "        \n",
    "        response = client.completions.create(\n",
    "            model=os.getenv('DEPLOYMENT_NAME'),\n",
    "            prompt=prompt,\n",
    "            max_tokens=70,\n",
    "            top_p = top_p\n",
    "        )\n",
    "        print(response.choices[0].text)"
   ]
  },
  {
   "cell_type": "code",
   "execution_count": 8,
   "metadata": {
    "tags": []
   },
   "outputs": [
    {
     "name": "stdout",
     "output_type": "stream",
     "text": [
      "cão, pois eles são fieis, amorosos, companheiros e excelentes para praticar exercícios e atividades físicas. Além disso, são ótimos protetores e possuem uma grande capacidade de aprendizado e obediência, facilitando o convívio entre animal e dono. Al\n",
      "cão.\n",
      "\n",
      "Há muitas razões pelas quais os cães são considerados os melhores animais de estimação. Aqui estão algumas delas:\n",
      "\n",
      "1. Lealdade e companheirismo: Os cães são animais extremamente leais e adoram estar perto de seus donos.\n",
      "cão, pois ele é leal, companheiro, amoroso e cheio de energia. Além disso, ele é capaz de se adaptar à rotina e ao estilo de vida do dono, sendo um ótimo companheiro em todas as horas. Os cães também são excelentes para incentivar a pr\n"
     ]
    }
   ],
   "source": [
    "call_openai_top_p(3, 'O melhor animal de estimação é o ', top_p = 1)"
   ]
  },
  {
   "cell_type": "code",
   "execution_count": 9,
   "metadata": {
    "tags": []
   },
   "outputs": [
    {
     "name": "stdout",
     "output_type": "stream",
     "text": [
      "cão. Eles são leais, amorosos, companheiros e sempre estão prontos para nos fazer companhia e nos alegrar. Além disso, os cães são ótimos para praticar exercícios e nos ajudam a manter uma rotina saudável. Eles também são\n",
      "cão. Eles são leais, amorosos, companheiros e sempre estão prontos para nos fazer companhia e nos alegrar. Além disso, os cães são ótimos para praticar exercícios e nos ajudam a manter uma rotina saudável. Eles também são\n",
      "cão. Eles são leais, amorosos, companheiros e sempre estão prontos para nos fazer companhia e nos alegrar. Além disso, os cães são ótimos para praticar exercícios e nos ajudam a manter uma rotina saudável. Eles também são\n"
     ]
    }
   ],
   "source": [
    "call_openai_top_p(3, 'O melhor animal de estimação é o ', top_p = 0.1)"
   ]
  },
  {
   "cell_type": "markdown",
   "metadata": {},
   "source": [
    "# n\n",
    "\n",
    "Padrão é 1\n",
    "\n",
    "Quantas alternativas serão geradas para cada prompt.\n",
    "\n",
    "Nota: Cada alternativa irá consumir tokens separadamente."
   ]
  },
  {
   "cell_type": "code",
   "execution_count": 10,
   "metadata": {
    "tags": []
   },
   "outputs": [
    {
     "name": "stdout",
     "output_type": "stream",
     "text": [
      "cão. Além de serem extremamente leais, os cães também são companheiros fiéis e estão sempre prontos para nos dar amor e carinho. Eles são ótimos para nos mantermos em forma, pois precisam de passeios diários\n",
      "cachorro. Existem muitas razões para isso, incluindo seu amor incondicional, sua lealdade e companheirismo, além de sua capacidade de proteger e servir como um excelente companheiro. Os cães também são altamente adaptáveis ​​\n"
     ]
    }
   ],
   "source": [
    "response = client.completions.create(\n",
    "            model=os.getenv('DEPLOYMENT_NAME'),\n",
    "            prompt='O melhor animal de estimação é o ',\n",
    "            max_tokens=60,\n",
    "            n=2\n",
    "        )\n",
    "\n",
    "for c in response.choices:\n",
    "    print(c.text)"
   ]
  },
  {
   "cell_type": "markdown",
   "metadata": {},
   "source": [
    "# logprobs\n",
    "\n",
    "Padrão é null (não retornar)\n",
    "\n",
    "Retorna a probabilidade dos tokens. Por exemplo, se logprobs for 5, a API irár retornar a lista dos 5 tokens mais provaveis. \n",
    "\n",
    "O maior valor permitido para logprobs é 5"
   ]
  },
  {
   "cell_type": "code",
   "execution_count": 11,
   "metadata": {
    "tags": []
   },
   "outputs": [
    {
     "name": "stdout",
     "output_type": "stream",
     "text": [
      "Logprobs(text_offset=[33, 34, 36, 37, 39, 41, 43, 44, 46, 50, 52, 55, 57, 64, 66, 70, 71, 74, 77, 79, 82, 87, 88, 90, 93, 99, 110, 112, 119, 120, 122, 123, 125, 128, 131, 133, 138, 141, 145, 152, 156, 161, 165, 167, 168, 171, 173, 177, 179, 180, 184, 192, 197, 199, 205, 209, 213, 215, 219, 224], token_logprobs=[-0.37068087, -0.11525744, -0.5718856, -1.6498972, -0.7589191, -0.003051266, -0.00011319869, -0.00020234835, -0.013512647, -3.7061224, -0.00013131031, -0.0093852235, -0.14033379, -8.363618e-05, -0.00054957584, -0.6830064, -0.46161383, -0.00039218477, -0.9765954, -5.344917, -0.79890585, -0.033406842, -0.07059861, -1.7478143e-05, -4.011511, -5.02813, -0.00012308525, -2.437781, -0.013807803, -8.709308e-05, -0.1385327, -0.9905475, -0.010962335, -0.00029458632, -0.21449941, -0.58988446, -0.04651296, -1.5928495e-05, -0.001206423, -0.5994541, -0.020370547, -0.016599994, -8.506662e-05, -0.0062943297, -0.07286421, -0.0003092447, -0.00044866532, -7.13582e-05, -3.5313153e-06, -0.6219576, -1.2503133, -0.00024965755, -0.1155642, -0.07712901, -0.057599906, -0.024919301, -3.3809047e-05, -0.00019936825, -0.0028870215, -0.15871769], tokens=['c', 'ão', '.', '\\n\\n', 'Os', ' c', 'ã', 'es', ' são', ' ó', 'tim', 'os', ' compan', 'he', 'iros', ',', ' le', 'ais', ' e', ' am', 'áveis', '.', ' E', 'les', ' podem', ' proporcion', 'ar', ' compan', 'h', 'ia', ',', ' a', 'leg', 'ria', ' e', ' amor', ' in', 'cond', 'icional', ' aos', ' seus', ' don', 'os', '.', ' Al', 'ém', ' dis', 'so', ',', ' são', ' intelig', 'entes', ' e', ' podem', ' ser', ' tre', 'in', 'ados', ' para', ' realizar'], top_logprobs=[{'c': -0.37068087, 'que': -1.5234213}, {'ão': -0.11525744, 'ach': -2.2398226}, {'.': -0.5718856, ',': -1.1922011}, {'\\n\\n': -1.6498972, ' E': -1.2594439}, {'Os': -0.7589191, 'Exist': -1.2952121}, {' c': -0.003051266, ' cach': -5.8447185}, {'ã': -0.00011319869, '<|endoftext|>': -9.215816}, {'es': -0.00020234835, 'e': -8.955904}, {' são': -0.013512647, ' têm': -4.836938}, {' conhec': -1.2461653, ' compan': -1.7547159}, {'tim': -0.00013131031, 't': -9.173004}, {'os': -0.0093852235, 'as': -4.7136946}, {' compan': -0.14033379, ' anim': -2.0715816}, {'he': -8.363618e-05, 'h': -9.719582}, {'iros': -0.00054957584, 'ir': -8.418545}, {',': -0.6830064, ' e': -0.8085519}, {' le': -0.46161383, ' fi': -1.9880974}, {'ais': -0.00039218477, 'a': -8.551637}, {' e': -0.9765954, ',': -0.4725747}, {' amor': -0.8058106, ' car': -0.86362994}, {'áveis': -0.79890585, 'ig': -0.63811636}, {'.': -0.033406842, ',': -3.9096675}, {' E': -0.07059861, ' Al': -3.1149216}, {'les': -1.7478143e-05, '<|endoftext|>': -11.155987}, {' são': -0.3542385, ' tr': -2.7999077}, {' ser': -0.14247772, ' tr': -3.162608}, {'ar': -0.00012308525, 'a': -9.258874}, {' amor': -1.3193004, ' muit': -1.3727672}, {'h': -0.013807803, 'he': -4.291056}, {'ia': -8.709308e-05, 'i': -9.468953}, {',': -0.1385327, ' e': -2.0720196}, {' a': -0.9905475, ' amor': -1.5566428}, {'leg': -0.010962335, 'fe': -4.60604}, {'ria': -0.00029458632, 'r': -9.156947}, {' e': -0.21449941, ',': -1.644824}, {' amor': -0.58988446, ' prote': -2.1208541}, {' in': -0.04651296, ' aos': -4.0895104}, {'cond': -1.5928495e-05, 'es': -12.445491}, {'icional': -0.001206423, 'icion': -7.0107565}, {' aos': -0.5994541, ' para': -1.6466668}, {' seus': -0.020370547, ' don': -3.9363747}, {' don': -0.016599994, ' propriet': -4.761414}, {'os': -8.506662e-05, 'o': -9.581403}, {'.': -0.0062943297, ',': -5.306467}, {' Al': -0.07286421, ' São': -3.0497434}, {'ém': -0.0003092447, 'guns': -8.164108}, {' dis': -0.00044866532, ' de': -7.7351575}, {'so': -7.13582e-05, 's': -9.645188}, {',': -3.5313153e-06, '<|endoftext|>': -13.784374}, {' são': -0.6219576, ' os': -1.2229631}, {' intelig': -1.2503133, ' anim': -1.1490788}, {'entes': -0.00024965755, 'ent': -9.165918}, {' e': -0.1155642, ',': -2.215986}, {' podem': -0.07712901, ' f': -3.6580405}, {' ser': -0.057599906, ' aprender': -3.0114727}, {' tre': -0.024919301, ' facil': -4.092188}, {'in': -3.3809047e-05, 'i': -10.42961}, {'ados': -0.00019936825, 'a': -9.594108}, {' para': -0.0028870215, ' facil': -6.149469}, {' realizar': -0.15871769, ' diversas': -3.0252376}])\n",
      "cão.\n",
      "\n",
      "Os cães são ótimos companheiros, leais e amáveis. Eles podem proporcionar companhia, alegria e amor incondicional aos seus donos. Além disso, são inteligentes e podem ser treinados para realizar\n"
     ]
    }
   ],
   "source": [
    "response = client.completions.create(\n",
    "            model=os.getenv('DEPLOYMENT_NAME'),\n",
    "            prompt='O melhor animal de estimação é o ',\n",
    "            max_tokens=60,\n",
    "            logprobs = 2,\n",
    "        )\n",
    "\n",
    "print(response.choices[0].logprobs)\n",
    "print(response.choices[0].text)"
   ]
  }
 ],
 "metadata": {
  "kernelspec": {
   "display_name": "Python 3 (ipykernel)",
   "language": "python",
   "name": "python3"
  },
  "language_info": {
   "codemirror_mode": {
    "name": "ipython",
    "version": 3
   },
   "file_extension": ".py",
   "mimetype": "text/x-python",
   "name": "python",
   "nbconvert_exporter": "python",
   "pygments_lexer": "ipython3",
   "version": "3.12.4"
  },
  "vscode": {
   "interpreter": {
    "hash": "2139c70ac98f3202d028164a545621647e07f47fd6f5d8ac55cf952bf7c15ed1"
   }
  }
 },
 "nbformat": 4,
 "nbformat_minor": 4
}
