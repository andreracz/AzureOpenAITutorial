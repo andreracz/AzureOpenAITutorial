{
 "cells": [
  {
   "cell_type": "markdown",
   "metadata": {},
   "source": [
    "# Parametros da OpenAI"
   ]
  },
  {
   "cell_type": "code",
   "execution_count": 1,
   "metadata": {
    "tags": []
   },
   "outputs": [],
   "source": [
    "import os\n",
    "from openai import AzureOpenAI\n",
    "from dotenv import load_dotenv\n",
    "load_dotenv()\n",
    "\n",
    "API_KEY = os.getenv(\"AZURE_OPENAI_API_KEY\",\"\").strip()\n",
    "assert API_KEY, \"ERROR: Azure OpenAI Key is missing\"\n",
    "\n",
    "RESOURCE_ENDPOINT = os.getenv(\"AZURE_OPENAI_API_BASE\",\"\").strip()\n",
    "assert RESOURCE_ENDPOINT, \"ERROR: Azure OpenAI Endpoint is missing\"\n",
    "assert \"openai.azure.com\" in RESOURCE_ENDPOINT.lower(), \"ERROR: Azure OpenAI Endpoint should be in the form: \\n\\n\\t<your unique endpoint identifier>.openai.azure.com\"\n",
    "\n",
    "client = AzureOpenAI(\n",
    "    api_version=os.getenv(\"AZURE_OPENAI_VERSION\",\"\"),\n",
    "    azure_endpoint=RESOURCE_ENDPOINT,\n",
    "    api_key = API_KEY,\n",
    ")"
   ]
  },
  {
   "cell_type": "markdown",
   "metadata": {},
   "source": [
    "# temperature\n",
    "\n",
    "Padrão é 1.\n",
    "\n",
    "Pode ser visto como a \"Criatividade\" do modelo. Um valor mais algo, significa que o modelo vai tomar mais risco. Usamos 0.9 para aplicações mais criativas e 0 para as que queremos uma resposta bem definida.\n",
    "\n",
    "Não é recomendado alterar temperature e top_p ao mesmo tempo."
   ]
  },
  {
   "cell_type": "code",
   "execution_count": 2,
   "metadata": {
    "tags": []
   },
   "outputs": [],
   "source": [
    "def call_openai(num_times, prompt, temperature):\n",
    "    for i in range(num_times):\n",
    "        \n",
    "        response = client.completions.create(\n",
    "            model=os.getenv('DEPLOYMENT_NAME'),\n",
    "            prompt=prompt,\n",
    "            max_tokens=60,\n",
    "            temperature = temperature\n",
    "        )\n",
    "        print(response.choices[0].text)"
   ]
  },
  {
   "cell_type": "code",
   "execution_count": 3,
   "metadata": {
    "tags": []
   },
   "outputs": [
    {
     "name": "stdout",
     "output_type": "stream",
     "text": [
      "cão. Eles são leais, amorosos, companheiros e sempre estão prontos para nos fazer companhia e nos alegrar. Além disso, os cães são ótimos para praticar exercícios e nos ajudam a manter uma\n",
      "cão. Eles são leais, amorosos, companheiros e sempre estão prontos para nos fazer companhia e nos alegrar. Além disso, os cães são ótimos para praticar exercícios e nos ajudam a manter uma\n",
      "cão. Eles são leais, amorosos, companheiros e sempre estão prontos para nos fazer companhia e nos alegrar. Além disso, os cães são ótimos para praticar exercícios e nos ajudam a manter uma\n"
     ]
    }
   ],
   "source": [
    "call_openai(3, 'O melhor animal de estimação é o ', temperature = 0)"
   ]
  },
  {
   "cell_type": "code",
   "execution_count": 4,
   "metadata": {
    "tags": []
   },
   "outputs": [
    {
     "name": "stdout",
     "output_type": "stream",
     "text": [
      "cão. Existem várias raças de cães, cada uma com suas próprias características e temperamentos, o que permite que cada pessoa encontre um cão que se encaixa em seu estilo de vida e personalidade. Além disso, os cães foram\n",
      "cão. Eles são fiéis, dese\n",
      "cachorro, pois além de serem fiéis e amorosos, também são excelentes companheiros para todas as horas. Eles estão sempre dispostos a fazer atividades físicas, brincar e dar carinho aos seus donos. Além disso, os c\n",
      "cão.\n",
      "\n",
      "Existem muitas razões pelas quais o cão é considerado o melhor animal de estimação. Aqui estão alguns motivos que comprovam isso:\n",
      "\n",
      "1. Lealdade e companheirismo: Os cães são extremamente leais\n",
      "que se encaixa melhor no estilo de vida e no ambiente da pessoa ou família que irá cuidar dele. Não existe um \"melhor\" animal de estimação universal, pois cada animal tem suas próprias necessidades e características. Algumas pessoas podem preferir um cachorro\n",
      "cão.\n",
      "\n",
      "Os cães são leais, amorosos, protetores e ótimos companheiros. Eles são excelentes para fazer companhia, brincar e até mesmo para ajudar em tarefas simples, como buscar objetos. Além disso\n",
      "cão.\n",
      "\n",
      "Existem muitas razões pelas quais o cão é considerado o melhor animal de estimação. Aqui estão algumas delas:\n",
      "\n",
      "1. Companheirismo: Os cães são conhecidos por serem excelentes companheiros de seus don\n",
      "que se encaixa melhor nas necessidades e condições de vida do dono. Algumas pessoas preferem animais de estimação mais tranquilos, que não precisem de muitos cuidados ou espaços grandes, como peixes, hamsters ou gatos. Outras\n",
      "cão, pois ele é fiel, companheiro, brincalhão, protetor e pode ser treinado para realizar diversas atividades, como ser um cão guia para pessoas com necessidades especiais ou um cão de resgate em situações de emerg\n",
      "que mais se adapta às necessidades e ao estilo de vida de seus donos. Portanto, não existe uma resposta certa para essa pergunta, já que cada pessoa tem preferências e necessidades diferentes. Algumas pessoas podem preferir cães, enquanto outras preferem gatos\n"
     ]
    }
   ],
   "source": [
    "call_openai(10, 'O melhor animal de estimação é o ', temperature = 1)"
   ]
  },
  {
   "cell_type": "markdown",
   "metadata": {},
   "source": [
    "# top_p\n",
    "\n",
    "Padrão é 1\n",
    "\n",
    "Uma alternativa à temperatura. O Modelo irá considerar apenas os tokens com probabilidade igual a esse parametro. Então 0.1 significa que apenas as respostas com até 10% de probabilidae serão consideradas.\n",
    "\n",
    "Não é recomendado alterar temperature e top_p ao mesmo tempo."
   ]
  },
  {
   "cell_type": "code",
   "execution_count": 5,
   "metadata": {
    "tags": []
   },
   "outputs": [],
   "source": [
    "def call_openai_top_p(num_times, prompt, top_p):\n",
    "    for i in range(num_times):\n",
    "        \n",
    "        response = client.completions.create(\n",
    "            model=os.getenv('DEPLOYMENT_NAME'),\n",
    "            prompt=prompt,\n",
    "            max_tokens=70,\n",
    "            top_p = top_p\n",
    "        )\n",
    "        print(response.choices[0].text)"
   ]
  },
  {
   "cell_type": "code",
   "execution_count": 6,
   "metadata": {
    "tags": []
   },
   "outputs": [
    {
     "name": "stdout",
     "output_type": "stream",
     "text": [
      "cão.\n",
      "\n",
      "Existem alguns motivos para considerar o cão como o melhor animal de estimação:\n",
      "\n",
      "1. Fidelidade e companheirismo: os cães são conhecidos por sua lealdade e afeto incondicional aos seus donos. Eles são excelentes companheiros e estão sempre dis\n",
      "que mais se encaixa com o estilo de vida e preferências de seu dono. Algumas pessoas preferem animais mais independentes e de baixa manutenção, enquanto outras gostam de animais mais ativos e carinhosos.\n",
      "\n",
      "Para algumas pessoas, o melhor animal de estimação pode ser um gato, pois\n",
      "cachorro, sem dúvida. \n",
      "\n",
      "Os cachorros são animais muito leais, companheiros e amorosos. Eles se tornam parte da família e trazem muita alegria e amor para o lar. Além disso, eles são excelentes para fazer atividades ao ar livre, como\n"
     ]
    }
   ],
   "source": [
    "call_openai_top_p(3, 'O melhor animal de estimação é o ', top_p = 1)"
   ]
  },
  {
   "cell_type": "code",
   "execution_count": 11,
   "metadata": {
    "tags": []
   },
   "outputs": [
    {
     "name": "stdout",
     "output_type": "stream",
     "text": [
      "\n",
      "gato. Gatos são animais muito inteligentes, carinhosos e independentes. Eles também são muito divertidos de se ter por perto e podem se adaptar facilmente a novos ambientes. Além disso, e\n",
      "\n",
      "gato. Gatos são animais muito inteligentes, carinhosos e independentes. Eles também são muito divertidos de se ter por perto e podem se adaptar facilmente a novos ambientes. Além disso, e\n",
      "\n",
      "gato. Gatos são animais muito inteligentes, carinhosos e independentes. Eles também são muito divertidos de se ter por perto e podem se adaptar facilmente a novos ambientes. Além disso, e\n"
     ]
    }
   ],
   "source": [
    "call_openai(3, 'O melhor animal de estimação é o ', top_p = 0.1)"
   ]
  },
  {
   "cell_type": "markdown",
   "metadata": {},
   "source": [
    "# n\n",
    "\n",
    "Padrão é 1\n",
    "\n",
    "Quantas alternativas serão geradas para cada prompt.\n",
    "\n",
    "Nota: Cada alternativa irá consumir tokens separadamente."
   ]
  },
  {
   "cell_type": "code",
   "execution_count": 13,
   "metadata": {
    "tags": []
   },
   "outputs": [
    {
     "name": "stdout",
     "output_type": "stream",
     "text": [
      "\n",
      "cão. Os cães oferecem incríveis níveis de afeto e amizade. Eles são muito leais e obedientes, e muitas vezes, mais inteligentes do que outros animais\n",
      "\n",
      "gato. Os gatos são inteligentes, carinhosos e divertidos. Eles podem ser ótimos companheiros e oferecer muita diversão para sua família. Eles também são m\n"
     ]
    }
   ],
   "source": [
    "response = client.completions.create(\n",
    "            model=os.getenv('DEPLOYMENT_NAME'),\n",
    "            prompt='O melhor animal de estimação é o ',\n",
    "            max_tokens=60,\n",
    "            n=2\n",
    "        )\n",
    "\n",
    "for c in response.choices:\n",
    "    print(c.text)"
   ]
  },
  {
   "cell_type": "markdown",
   "metadata": {},
   "source": [
    "# logprobs\n",
    "\n",
    "Padrão é null (não retornar)\n",
    "\n",
    "Retorna a probabilidade dos tokens. Por exemplo, se logprobs for 5, a API irár retornar a lista dos 5 tokens mais provaveis. \n",
    "\n",
    "O maior valor permitido para logprobs é 5"
   ]
  },
  {
   "cell_type": "code",
   "execution_count": 14,
   "metadata": {
    "tags": []
   },
   "outputs": [
    {
     "name": "stdout",
     "output_type": "stream",
     "text": [
      "Logprobs(text_offset=[33, 35, 37, 38, 40, 42, 45, 46, 48, 49, 52, 53, 56, 58, 59, 63, 65, 66, 69, 70, 76, 78, 82, 84, 87, 90, 97, 98, 100, 101, 104, 105, 106, 110, 112, 113, 115, 119, 121, 124, 125, 128, 131, 134, 136, 138, 140, 146, 151, 153, 155, 156, 158, 161, 165, 167, 171, 172, 175, 177], token_logprobs=[-1.3301988, -0.4735153, -0.016822224, -3.96447, -3.006615, -0.06315459, -0.006457674, -2.9797366, -0.48928025, -3.225932e-05, -0.36237803, -0.69494504, -0.000370047, -0.9362797, -1.6838806, -0.0008823119, -1.1991961e-05, -0.0010398775, -1.5965402, -1.5267385, -5.4552278e-05, -3.7148744e-05, -0.15849821, -3.669395, -0.07290235, -1.3814511, -0.00012799047, -0.00016840879, -0.14270648, -1.5461779, -0.044355705, -6.746778e-06, -0.046897728, -4.277735e-07, -0.0038993303, -5.1975946, -1.7298675, -3.960658, -0.0005627192, -0.00018653227, -0.008180393, -0.5712295, -0.00017055642, -0.028090002, -0.345385, -1.3449742, -6.457387, -1.9820721, -1.7400124e-06, -0.00065265695, -2.4777427, -5.072298, -0.16623619, -0.0044146664, -0.21242961, -4.82951, -0.00019082283, -8.173468e-05, -0.063459136, -2.2160952], tokens=[' c', 'ão', '.', ' É', ' m', 'uit', 'o', ' d', 'ó', 'cil', ',', ' le', 'al', ',', ' car', 'in', 'h', 'oso', ',', ' intel', 'ig', 'ente', ' e', ' ad', 'ora', ' compan', 'h', 'ia', '.', ' Al', 'é', 'm', ' dis', 'so', ',', ' g', 'osta', ' m', 'uit', 'o', ' de', ' br', 'inc', 'ar', ' e', ' é', ' super', ' prot', 'et', 'or', ',', ' a', 'jud', 'ando', ' a', ' fam', 'í', 'lia', ' a', ' sent'], top_logprobs=[{'\\n': -0.6929422, ' c': -1.3301988}, {'ão': -0.4735153, 'ach': -1.0630406}, {',': -4.761303, '.': -0.016822224}, {' Os': -0.39248586, ' O': -2.4201908}, {' um': -1.4958975, ' o': -1.768701}, {'ais': -2.7957573, 'uit': -0.06315459}, {'as': -5.056909, 'o': -0.006457674}, {' le': -0.45346197, ' f': -2.5257246}, {'ó': -0.48928025, 'if': -0.9546276}, {'cil': -3.225932e-05, 'ce': -11.102387}, {',': -0.36237803, ' e': -1.2030648}, {' car': -2.1853683, ' le': -0.69494504}, {'ald': -8.333592, 'al': -0.000370047}, {',': -0.9362797, ' e': -0.5127929}, {' car': -1.6838806, ' af': -2.053273}, {'ism': -7.5723157, 'in': -0.0008823119}, {'ha': -11.932168, 'h': -1.1991961e-05}, {'oso': -0.0010398775, 'osa': -7.10145}, {',': -1.5965402, ' e': -0.22853442}, {' prot': -1.9577297, ' intel': -1.5267385}, {'ig': -5.4552278e-05, 'igent': -9.862138}, {'ente': -3.7148744e-05, 'ê': -10.233381}, {',': -1.9277701, ' e': -0.15849821}, {' f': -2.0195727, ' divert': -2.0849328}, {'or': -2.6792638, 'ora': -0.07290235}, {' compan': -1.3814511, ' a': -1.4060653}, {'ia': -9.580618, 'h': -0.00012799047}, {'ias': -8.724236, 'ia': -0.00016840879}, {'.': -0.14270648, ' human': -2.6073346}, {' É': -1.4739798, ' Al': -1.5461779}, {'é': -0.044355705, 'guns': -3.2888622}, {'ma': -13.617595, 'm': -6.746778e-06}, {' de': -3.208082, ' dis': -0.046897728}, {'so': -4.277735e-07, 'o': -15.221058}, {',': -0.0038993303, ' é': -6.4525585}, {' é': -1.2908525, ' os': -1.6792774}, {'eral': -0.3658042, 'osta': -1.7298675}, {' m': -3.960658, ' de': -0.02232116}, {'ais': -7.489069, 'uit': -0.0005627192}, {'os': -9.155901, 'o': -0.00018653227}, {' da': -5.7912126, ' de': -0.008180393}, {' se': -2.6028764, ' br': -0.5712295}, {'inqu': -8.786518, 'inc': -0.00017055642}, {'ar': -0.028090002, 'ade': -3.5897143}, {',': -1.5548137, ' e': -0.345385}, {' p': -1.9564759, ' é': -1.3449742}, {' m': -1.101417, ' f': -1.6257012}, {' prot': -1.9820721, ' f': -1.5640358}, {'ett': -14.492876, 'et': -1.7400124e-06}, {'or': -0.00065265695, 'ora': -7.7800064}, {'.': -0.7112414, ' com': -1.394608}, {' o': -0.6118026, ' torn': -2.6976082}, {'jud': -0.16623619, 'compan': -2.7316837}, {'ando': -0.0044146664, 'a': -5.4743605}, {' a': -0.21242961, ' se': -3.0503924}, {' man': -1.0953041, ' prote': -2.0690916}, {'ilia': -8.621975, 'í': -0.00019082283}, {'lia': -8.173468e-05, 'l': -10.195179}, {' a': -0.063459136, ' e': -4.0720687}, {' sent': -2.2160952, ' se': -0.41089466}])\n",
      " cão. É muito dócil, leal, carinhoso, inteligente e adora companhia. Além disso, gosta muito de brincar e é super protetor, ajudando a família a sent\n"
     ]
    }
   ],
   "source": [
    "response = client.completions.create(\n",
    "            model=os.getenv('DEPLOYMENT_NAME'),\n",
    "            prompt='O melhor animal de estimação é o ',\n",
    "            max_tokens=60,\n",
    "            logprobs = 2,\n",
    "        )\n",
    "\n",
    "print(response.choices[0].logprobs)\n",
    "print(response.choices[0].text)"
   ]
  }
 ],
 "metadata": {
  "kernelspec": {
   "display_name": "Python 3 (ipykernel)",
   "language": "python",
   "name": "python3"
  },
  "language_info": {
   "codemirror_mode": {
    "name": "ipython",
    "version": 3
   },
   "file_extension": ".py",
   "mimetype": "text/x-python",
   "name": "python",
   "nbconvert_exporter": "python",
   "pygments_lexer": "ipython3",
   "version": "3.12.4"
  },
  "vscode": {
   "interpreter": {
    "hash": "2139c70ac98f3202d028164a545621647e07f47fd6f5d8ac55cf952bf7c15ed1"
   }
  }
 },
 "nbformat": 4,
 "nbformat_minor": 4
}
