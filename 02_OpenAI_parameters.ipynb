{
 "cells": [
  {
   "cell_type": "markdown",
   "metadata": {},
   "source": [
    "# Parametros da OpenAI"
   ]
  },
  {
   "cell_type": "code",
   "execution_count": 1,
   "metadata": {
    "tags": []
   },
   "outputs": [],
   "source": [
    "import os\n",
    "from openai import AzureOpenAI\n",
    "from dotenv import load_dotenv\n",
    "load_dotenv()\n",
    "\n",
    "API_KEY = os.getenv(\"AZURE_OPENAI_API_KEY\",\"\").strip()\n",
    "assert API_KEY, \"ERROR: Azure OpenAI Key is missing\"\n",
    "\n",
    "RESOURCE_ENDPOINT = os.getenv(\"AZURE_OPENAI_API_BASE\",\"\").strip()\n",
    "assert RESOURCE_ENDPOINT, \"ERROR: Azure OpenAI Endpoint is missing\"\n",
    "assert \"openai.azure.com\" in RESOURCE_ENDPOINT.lower(), \"ERROR: Azure OpenAI Endpoint should be in the form: \\n\\n\\t<your unique endpoint identifier>.openai.azure.com\"\n",
    "\n",
    "client = AzureOpenAI(\n",
    "    api_version=os.getenv(\"AZURE_OPENAI_VERSION\",\"\"),\n",
    "    azure_endpoint=RESOURCE_ENDPOINT,\n",
    "    api_key = API_KEY,\n",
    ")"
   ]
  },
  {
   "cell_type": "markdown",
   "metadata": {},
   "source": [
    "# temperature\n",
    "\n",
    "Padrão é 1.\n",
    "\n",
    "Pode ser visto como a \"Criatividade\" do modelo. Um valor mais algo, significa que o modelo vai tomar mais risco. Usamos 0.9 para aplicações mais criativas e 0 para as que queremos uma resposta bem definida.\n",
    "\n",
    "Não é recomendado alterar temperature e top_p ao mesmo tempo."
   ]
  },
  {
   "cell_type": "code",
   "execution_count": 12,
   "metadata": {
    "tags": []
   },
   "outputs": [],
   "source": [
    "def call_openai(num_times, prompt, temperature):\n",
    "    for i in range(num_times):\n",
    "        \n",
    "        response = client.completions.create(\n",
    "            model=os.getenv('DEPLOYMENT_NAME'),\n",
    "            prompt=prompt,\n",
    "            max_tokens=60,\n",
    "            temperature = temperature\n",
    "        )\n",
    "        print(response.choices[0].text)"
   ]
  },
  {
   "cell_type": "code",
   "execution_count": 13,
   "metadata": {
    "tags": []
   },
   "outputs": [
    {
     "name": "stdout",
     "output_type": "stream",
     "text": [
      "cão. Eles são leais, amorosos, companheiros e sempre estão prontos para nos fazer companhia e nos alegrar. Além disso, os cães são ótimos para praticar exercícios e nos ajudam a manter uma\n",
      "cão. Eles são leais, amorosos, companheiros e sempre estão prontos para nos fazer companhia e nos alegrar. Além disso, os cães são ótimos para praticar exercícios e nos ajudam a manter uma\n",
      "cão. Eles são leais, amorosos, companheiros e sempre estão prontos para nos fazer companhia e nos alegrar. Além disso, os cães são ótimos para praticar exercícios e nos ajudam a manter uma\n"
     ]
    }
   ],
   "source": [
    "call_openai(3, 'O melhor animal de estimação é o ', temperature = 0)"
   ]
  },
  {
   "cell_type": "code",
   "execution_count": 14,
   "metadata": {
    "tags": []
   },
   "outputs": [
    {
     "name": "stdout",
     "output_type": "stream",
     "text": [
      "cão.\n",
      "\n",
      "Os cães são conhecidos por serem leais, carinhosos e fiéis companheiros. Eles são capazes de criar laços fortes com seus donos e estão sempre prontos para dar amor e proteção. Além disso, os\n",
      "cão, pois ele é um excelente companheiro, fiel e leal ao seu dono. Além disso, os cães são inteligentes e podem ser treinados para realizar diversas atividades, como proteção, auxílio a pessoas com necessidades especiais e\n",
      "que melhor se adapta às suas necessidades, estilo de vida e capacidade de cuidar dele de forma responsável. Algumas pessoas preferem animais de estimação mais independentes, como gatos, enquanto outras gostam de animais mais interativos, como cachorros.\n",
      "cão. Eles são leais, amorosos e companheiros fiéis. Além disso, os cães têm a capacidade de se adaptar facilmente à rotina de suas famílias, seja vivendo em casa ou em espaços menores. Eles\n",
      "cão.\n",
      "\n",
      "Os cães são conhecidos por serem leais, carinhosos e protetores de seus donos. Eles também são ótimos companheiros e estão sempre prontos para brincar e fazer atividades com seus donos.\n",
      "\n",
      "Além dis\n",
      "que se encaixa perfeitamente ao estilo de vida e às necessidades do dono.\n",
      "\n",
      "Cada pessoa tem preferências e rotinas diferentes, o que pode influenciar na escolha do animal de estimação ideal. Algumas das características a serem consideradas ao escolher\n",
      "cão.\n",
      "\n",
      "Isso porque os cães possuem uma série de características que os tornam excelentes companheiros para nós humanos. Além disso, eles possuem habilidades únicas que os tornam úteis em diversas situações, tais como:\n",
      "\n",
      "1\n",
      "cachorro, pois eles são fiéis, amorosos, companheiros e sempre estarão ao nosso lado, nos dando carinho e proteção. Além disso, os cães também são ótimos para ajudar na segurança da casa, podem ser treinados\n",
      "cachorro. Existem várias razões pelas quais o cachorro é um excelente companheiro e animal de estimação. \n",
      "\n",
      "1. Amor e lealdade: Os cães são conhecidos por seu amor incondicional e lealdade aos seus donos\n",
      "que se encaixa melhor no estilo de vida e nas preferências de cada pessoa. Algumas pessoas podem preferir cães pela sua companhia e lealdade, outras podem preferir gatos pela sua independência e tranquilidade. Além disso, outros animais como\n"
     ]
    }
   ],
   "source": [
    "call_openai(10, 'O melhor animal de estimação é o ', temperature = 1)"
   ]
  },
  {
   "cell_type": "markdown",
   "metadata": {},
   "source": [
    "# top_p\n",
    "\n",
    "Padrão é 1\n",
    "\n",
    "Uma alternativa à temperatura. O Modelo irá considerar apenas os tokens com probabilidade igual a esse parametro. Então 0.1 significa que apenas as respostas com até 10% de probabilidae serão consideradas.\n",
    "\n",
    "Não é recomendado alterar temperature e top_p ao mesmo tempo."
   ]
  },
  {
   "cell_type": "code",
   "execution_count": 15,
   "metadata": {
    "tags": []
   },
   "outputs": [],
   "source": [
    "def call_openai_top_p(num_times, prompt, top_p):\n",
    "    for i in range(num_times):\n",
    "        \n",
    "        response = client.completions.create(\n",
    "            model=os.getenv('DEPLOYMENT_NAME'),\n",
    "            prompt=prompt,\n",
    "            max_tokens=70,\n",
    "            top_p = top_p\n",
    "        )\n",
    "        print(response.choices[0].text)"
   ]
  },
  {
   "cell_type": "code",
   "execution_count": 16,
   "metadata": {
    "tags": []
   },
   "outputs": [
    {
     "name": "stdout",
     "output_type": "stream",
     "text": [
      "cão, pois além de ser um companheiro fiel e carinhoso, também oferece muitos benefícios para a saúde física e mental de seus donos. Além disso, os cães são excelentes para exercícios físicos, são inteligentes e podem ser facilmente treinados para diversos fins\n",
      "cão. O cão é um animal extremamente leal e amoroso, que estará sempre ao lado do seu dono, independente das circunstâncias. Além disso, é um ótimo companheiro para atividades físicas, como caminhadas e corridas, o que pode ser benéf\n",
      "cão\n",
      "\n",
      "O cão é considerado o melhor animal de estimação por diversos motivos. Primeiramente, eles são extremamente leais e fiéis aos seus donos, formando laços afetivos muito fortes. Além disso, são excelentes companheiros, sempre prontos para brincar\n"
     ]
    }
   ],
   "source": [
    "call_openai_top_p(3, 'O melhor animal de estimação é o ', top_p = 1)"
   ]
  },
  {
   "cell_type": "code",
   "execution_count": 17,
   "metadata": {
    "tags": []
   },
   "outputs": [
    {
     "name": "stdout",
     "output_type": "stream",
     "text": [
      "cão. Eles são leais, amorosos, companheiros e sempre estão prontos para nos fazer companhia e nos alegrar. Além disso, os cães são ótimos para praticar exercícios e nos ajudam a manter uma rotina saudável. Eles também são\n",
      "cão. Eles são leais, amorosos, companheiros e sempre estão prontos para nos fazer companhia e nos alegrar. Além disso, os cães são ótimos para praticar exercícios e nos ajudam a manter uma rotina saudável. Eles também são\n",
      "cão. Eles são leais, amorosos, companheiros e sempre estão prontos para nos fazer companhia e nos alegrar. Além disso, os cães são ótimos para praticar exercícios e nos ajudam a manter uma rotina saudável. Eles também são\n"
     ]
    }
   ],
   "source": [
    "call_openai_top_p(3, 'O melhor animal de estimação é o ', top_p = 0.1)"
   ]
  },
  {
   "cell_type": "markdown",
   "metadata": {},
   "source": [
    "# n\n",
    "\n",
    "Padrão é 1\n",
    "\n",
    "Quantas alternativas serão geradas para cada prompt.\n",
    "\n",
    "Nota: Cada alternativa irá consumir tokens separadamente."
   ]
  },
  {
   "cell_type": "code",
   "execution_count": 18,
   "metadata": {
    "tags": []
   },
   "outputs": [
    {
     "name": "stdout",
     "output_type": "stream",
     "text": [
      "cão. Isso pode variar de acordo com as preferências pessoais de cada indivíduo, mas há diversas razões que fazem do cão um ótimo animal de estimação:\n",
      "\n",
      "1. Fidelidade e companheirismo: os cães são\n",
      "cão.\n",
      "\n",
      "Os cães são conhecidos como os melhores animais de estimação por várias razões:\n",
      "\n",
      "1. Lealdade: Os cães são extremamente leais aos seus donos. Eles criam laços fortes e duradouros com\n"
     ]
    }
   ],
   "source": [
    "response = client.completions.create(\n",
    "            model=os.getenv('DEPLOYMENT_NAME'),\n",
    "            prompt='O melhor animal de estimação é o ',\n",
    "            max_tokens=60,\n",
    "            n=2\n",
    "        )\n",
    "\n",
    "for c in response.choices:\n",
    "    print(c.text)"
   ]
  },
  {
   "cell_type": "markdown",
   "metadata": {},
   "source": [
    "# logprobs\n",
    "\n",
    "Padrão é null (não retornar)\n",
    "\n",
    "Retorna a probabilidade dos tokens. Por exemplo, se logprobs for 5, a API irár retornar a lista dos 5 tokens mais provaveis. \n",
    "\n",
    "O maior valor permitido para logprobs é 5"
   ]
  },
  {
   "cell_type": "code",
   "execution_count": 19,
   "metadata": {
    "tags": []
   },
   "outputs": [
    {
     "name": "stdout",
     "output_type": "stream",
     "text": [
      "Logprobs(text_offset=[33, 34, 37, 41, 42, 44, 47, 51, 58, 60, 64, 67, 70, 71, 75, 78, 82, 83, 86, 89, 91, 98, 104, 107, 113, 118, 125, 132, 136, 137, 140, 142, 146, 148, 149, 152, 157, 159, 162, 169, 173, 175, 178, 180, 185, 191, 197, 199, 202, 204, 215, 217, 222, 223, 225, 228, 231, 233, 240, 242], token_logprobs=[-0.37068087, -2.2398226, -0.0007965237, -0.5204445, -0.65042126, -0.0018291725, -0.0061275144, -1.046762, -0.00012356207, -0.00055398635, -0.69070584, -0.00066954794, -0.18299137, -1.4567846, -3.7623562e-05, -0.0011242642, -0.91026133, -0.7796487, -0.000685391, -0.059264258, -0.9698842, -0.57317513, -2.6178446, -0.052738994, -2.4272753e-05, -4.794611, -0.044157088, -0.00021521868, -0.28012067, -0.045092937, -0.0003361774, -0.0015728296, -0.00035012423, -2.6418418e-05, -1.6409781, -0.25089437, -0.00011188744, -0.00040874677, -1.589285, -0.61052316, -0.29629022, -0.00036037207, -0.011165371, -0.073080085, -1.6651225, -0.35204545, -0.038400967, -0.00026848805, -0.8902388, -5.2898097, -0.27823377, -0.7508502, -0.24130169, -0.57642287, -0.00079247804, -0.00051717076, -0.014497827, -0.0036538835, -0.00030733744, -0.46892318], tokens=['c', 'ach', 'orro', '.', ' E', 'les', ' são', ' compan', 'he', 'iros', ' fi', 'éis', ',', ' car', 'inh', 'osos', ',', ' le', 'ais', ' e', ' sempre', ' estão', ' ao', ' nosso', ' lado', ' quando', ' precis', 'amos', '.', ' Al', 'ém', ' dis', 'so', ',', ' os', ' cach', 'or', 'ros', ' também', ' são', ' ó', 'tim', 'os', ' para', ' fazer', ' exerc', 'íc', 'ios', ' e', ' proporcion', 'am', ' muit', 'a', ' a', 'leg', 'ria', ' e', ' divers', 'ão', ' para'], top_logprobs=[{'c': -0.37068087, 'que': -1.5234213}, {'ach': -2.2398226, 'ão': -0.11525744}, {'orro': -0.0007965237, 'orr': -7.958745}, {'.': -0.5204445, ',': -1.1988274}, {' E': -0.65042126, ' Al': -2.0913029}, {'les': -0.0018291725, '<|endoftext|>': -6.7320538}, {' são': -0.0061275144, ' ofere': -6.494933}, {' compan': -1.046762, ' le': -0.91539335}, {'he': -0.00012356207, 'h': -9.61219}, {'iros': -0.00055398635, 'ir': -8.043096}, {' fi': -0.69070584, ' le': -0.71915585}, {'éis': -0.00066954794, 'é': -7.4498405}, {',': -0.18299137, ' e': -1.7985462}, {' amor': -1.0364965, ' le': -1.2736963}, {'inh': -3.7623562e-05, 'i': -11.275004}, {'osos': -0.0011242642, 'os': -7.1778936}, {',': -0.91026133, ' e': -0.5149023}, {' le': -0.7796487, ' prot': -1.5358686}, {'ais': -0.000685391, 'ias': -8.078412}, {' e': -0.059264258, ',': -2.8556395}, {' sempre': -0.9698842, ' divert': -1.8993218}, {' estão': -0.57317513, ' pr': -1.1982038}, {' pr': -0.35935506, ' dis': -1.7702876}, {' nosso': -0.052738994, ' lado': -3.0610435}, {' lado': -2.4272753e-05, ' ': -11.50126}, {',': -0.38691527, ' nos': -1.9437199}, {' precis': -0.044157088, ' mais': -3.1489658}, {'amos': -0.00021521868, 'am': -9.561825}, {'.': -0.28012067, ' de': -1.4170263}, {' Al': -0.045092937, ' E': -4.0433173}, {'ém': -0.0003361774, 'é': -8.62127}, {' dis': -0.0015728296, ' de': -6.4769735}, {'so': -0.00035012423, 's': -8.157981}, {',': -2.6418418e-05, '<|endoftext|>': -10.827799}, {' os': -1.6409781, ' são': -0.481621}, {' cach': -0.25089437, ' c': -1.5065515}, {'or': -0.00011188744, 'o': -9.575637}, {'ros': -0.00040874677, 'r': -8.5766}, {' também': -1.589285, ' são': -0.6017934}, {' são': -0.61052316, ' podem': -1.6754799}, {' ó': -0.29629022, ' excel': -1.7373054}, {'tim': -0.00036037207, 't': -7.9906425}, {'os': -0.011165371, 'as': -4.513799}, {' para': -0.073080085, ' prot': -3.1094685}, {' pratic': -0.9487757, ' nos': -1.3287578}, {' exerc': -0.35204545, ' ativ': -1.3460678}, {'íc': -0.038400967, 'ício': -3.2801745}, {'ios': -0.00026848805, 'io': -8.953222}, {' e': -0.8902388, ',': -0.9772902}, {' nos': -0.9924502, ' br': -1.3497443}, {'am': -0.27823377, 'ar': -1.4223702}, {' muit': -0.7508502, ' momentos': -1.3004813}, {'a': -0.24130169, 'os': -1.8745147}, {' a': -0.57642287, ' divers': -0.83000106}, {'leg': -0.00079247804, 'le': -7.264592}, {'ria': -0.00051717076, 'ri': -8.056204}, {' e': -0.014497827, ' para': -5.3186474}, {' divers': -0.0036538835, ' fel': -7.2349944}, {'ão': -0.00030733744, 'ã': -8.203463}, {' para': -0.46892318, ' em': -1.4441773}])\n",
      "cachorro. Eles são companheiros fiéis, carinhosos, leais e sempre estão ao nosso lado quando precisamos. Além disso, os cachorros também são ótimos para fazer exercícios e proporcionam muita alegria e diversão para\n"
     ]
    }
   ],
   "source": [
    "response = client.completions.create(\n",
    "            model=os.getenv('DEPLOYMENT_NAME'),\n",
    "            prompt='O melhor animal de estimação é o ',\n",
    "            max_tokens=60,\n",
    "            logprobs = 2,\n",
    "        )\n",
    "\n",
    "print(response.choices[0].logprobs)\n",
    "print(response.choices[0].text)"
   ]
  }
 ],
 "metadata": {
  "kernelspec": {
   "display_name": "Python 3 (ipykernel)",
   "language": "python",
   "name": "python3"
  },
  "language_info": {
   "codemirror_mode": {
    "name": "ipython",
    "version": 3
   },
   "file_extension": ".py",
   "mimetype": "text/x-python",
   "name": "python",
   "nbconvert_exporter": "python",
   "pygments_lexer": "ipython3",
   "version": "3.12.4"
  },
  "vscode": {
   "interpreter": {
    "hash": "2139c70ac98f3202d028164a545621647e07f47fd6f5d8ac55cf952bf7c15ed1"
   }
  }
 },
 "nbformat": 4,
 "nbformat_minor": 4
}
