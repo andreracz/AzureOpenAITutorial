{
 "cells": [
  {
   "cell_type": "markdown",
   "metadata": {
    "nteract": {
     "transient": {
      "deleting": false
     }
    }
   },
   "source": [
    "## Table of Contents  \n",
    "\n",
    "[Overview](#overview)  \n",
    "[How to use OpenAI Service](#how-to-use-openai-service)  \n",
    "[1. Creating your OpenAI Service](#1.-creating-your-openai-service)  \n",
    "[2. Installation](#2.-installation)    \n",
    "[3. Credentials](#3.-credentials)  \n",
    "\n",
    "[Use Cases](#use-cases)    \n",
    "[1. Summarize Text](#1.-summarize-text)  \n",
    "[2. Classify Text](#2.-classify-text)  \n",
    "[3. Generate New Product Names](#3.-generate-new-product-names)  \n",
    "[4. Fine Tune a Classifier](#4.fine-tune-a-classifier)  \n",
    "[5. Embeddings!]((#5.-embeddings!))\n",
    "\n",
    "[References](#references)"
   ]
  },
  {
   "cell_type": "markdown",
   "metadata": {
    "nteract": {
     "transient": {
      "deleting": false
     }
    }
   },
   "source": [
    "### Getting started with Azure OpenAI Service\n",
    "\n",
    "New customers will need to [apply for access](https://aka.ms/oai/access) to Azure OpenAI Service.  \n",
    "After approval is complete, customers can log into the Azure portal, create an Azure OpenAI Service resource, and start experimenting with models via the studio  \n",
    "\n",
    "[Great resource for getting started quickly](https://techcommunity.microsoft.com/t5/educator-developer-blog/azure-openai-is-now-generally-available/ba-p/3719177 )\n"
   ]
  },
  {
   "cell_type": "markdown",
   "metadata": {
    "nteract": {
     "transient": {
      "deleting": false
     }
    }
   },
   "source": [
    "### Build your first prompt  \n",
    "This short exercise will provide a basic introduction for submitting prompts to an OpenAI model for a simple task \"summarization\".  \n",
    "\n",
    "![](images/generative-AI-models-reduced.jpg)  \n",
    "\n",
    "\n",
    "**Steps**:  \n",
    "1. Install OpenAI library in your python environment  \n",
    "2. Load standard helper libraries and set your typical OpenAI security credentials for the OpenAI Service that you've created  \n",
    "3. Choose a model for your task  \n",
    "4. Create a simple prompt for the model  \n",
    "5. Submit your request to the model API!"
   ]
  },
  {
   "cell_type": "markdown",
   "metadata": {
    "nteract": {
     "transient": {
      "deleting": false
     }
    }
   },
   "source": [
    "### 1. Install OpenAI"
   ]
  },
  {
   "cell_type": "code",
   "execution_count": 1,
   "metadata": {
    "gather": {
     "logged": 1674254990318
    },
    "nteract": {
     "transient": {
      "deleting": false
     }
    },
    "tags": []
   },
   "outputs": [
    {
     "name": "stdout",
     "output_type": "stream",
     "text": [
      "Collecting openai\n",
      "  Downloading openai-0.27.4-py3-none-any.whl (70 kB)\n",
      "\u001b[2K     \u001b[90m━━━━━━━━━━━━━━━━━━━━━━━━━━━━━━━━━━━━━━━━\u001b[0m \u001b[32m70.3/70.3 kB\u001b[0m \u001b[31m3.4 MB/s\u001b[0m eta \u001b[36m0:00:00\u001b[0m\n",
      "\u001b[?25hCollecting python-dotenv\n",
      "  Downloading python_dotenv-1.0.0-py3-none-any.whl (19 kB)\n",
      "Requirement already satisfied: tqdm in /opt/conda/lib/python3.10/site-packages (from openai) (4.64.1)\n",
      "Requirement already satisfied: requests>=2.20 in /opt/conda/lib/python3.10/site-packages (from openai) (2.28.2)\n",
      "Collecting aiohttp\n",
      "  Downloading aiohttp-3.8.4-cp310-cp310-manylinux_2_17_x86_64.manylinux2014_x86_64.whl (1.0 MB)\n",
      "\u001b[2K     \u001b[90m━━━━━━━━━━━━━━━━━━━━━━━━━━━━━━━━━━━━━━━━\u001b[0m \u001b[32m1.0/1.0 MB\u001b[0m \u001b[31m11.1 MB/s\u001b[0m eta \u001b[36m0:00:00\u001b[0ma \u001b[36m0:00:01\u001b[0m\n",
      "\u001b[?25hRequirement already satisfied: urllib3<1.27,>=1.21.1 in /opt/conda/lib/python3.10/site-packages (from requests>=2.20->openai) (1.26.14)\n",
      "Requirement already satisfied: idna<4,>=2.5 in /opt/conda/lib/python3.10/site-packages (from requests>=2.20->openai) (3.4)\n",
      "Requirement already satisfied: certifi>=2017.4.17 in /opt/conda/lib/python3.10/site-packages (from requests>=2.20->openai) (2022.12.7)\n",
      "Requirement already satisfied: charset-normalizer<4,>=2 in /opt/conda/lib/python3.10/site-packages (from requests>=2.20->openai) (2.1.1)\n",
      "Collecting frozenlist>=1.1.1\n",
      "  Downloading frozenlist-1.3.3-cp310-cp310-manylinux_2_5_x86_64.manylinux1_x86_64.manylinux_2_17_x86_64.manylinux2014_x86_64.whl (149 kB)\n",
      "\u001b[2K     \u001b[90m━━━━━━━━━━━━━━━━━━━━━━━━━━━━━━━━━━━━━━━\u001b[0m \u001b[32m149.6/149.6 kB\u001b[0m \u001b[31m8.0 MB/s\u001b[0m eta \u001b[36m0:00:00\u001b[0m\n",
      "\u001b[?25hCollecting multidict<7.0,>=4.5\n",
      "  Downloading multidict-6.0.4-cp310-cp310-manylinux_2_17_x86_64.manylinux2014_x86_64.whl (114 kB)\n",
      "\u001b[2K     \u001b[90m━━━━━━━━━━━━━━━━━━━━━━━━━━━━━━━━━━━━━━━\u001b[0m \u001b[32m114.5/114.5 kB\u001b[0m \u001b[31m6.4 MB/s\u001b[0m eta \u001b[36m0:00:00\u001b[0m\n",
      "\u001b[?25hRequirement already satisfied: attrs>=17.3.0 in /opt/conda/lib/python3.10/site-packages (from aiohttp->openai) (22.2.0)\n",
      "Collecting yarl<2.0,>=1.0\n",
      "  Downloading yarl-1.8.2-cp310-cp310-manylinux_2_17_x86_64.manylinux2014_x86_64.whl (264 kB)\n",
      "\u001b[2K     \u001b[90m━━━━━━━━━━━━━━━━━━━━━━━━━━━━━━━━━━━━━━\u001b[0m \u001b[32m264.0/264.0 kB\u001b[0m \u001b[31m10.0 MB/s\u001b[0m eta \u001b[36m0:00:00\u001b[0m\n",
      "\u001b[?25hCollecting aiosignal>=1.1.2\n",
      "  Downloading aiosignal-1.3.1-py3-none-any.whl (7.6 kB)\n",
      "Collecting async-timeout<5.0,>=4.0.0a3\n",
      "  Downloading async_timeout-4.0.2-py3-none-any.whl (5.8 kB)\n",
      "Installing collected packages: python-dotenv, multidict, frozenlist, async-timeout, yarl, aiosignal, aiohttp, openai\n",
      "Successfully installed aiohttp-3.8.4 aiosignal-1.3.1 async-timeout-4.0.2 frozenlist-1.3.3 multidict-6.0.4 openai-0.27.4 python-dotenv-1.0.0 yarl-1.8.2\n",
      "Note: you may need to restart the kernel to use updated packages.\n"
     ]
    }
   ],
   "source": [
    "pip install openai python-dotenv"
   ]
  },
  {
   "cell_type": "markdown",
   "metadata": {
    "nteract": {
     "transient": {
      "deleting": false
     }
    }
   },
   "source": [
    "### 2. Import helper libraries and instantiate credentials"
   ]
  },
  {
   "cell_type": "code",
   "execution_count": 4,
   "metadata": {
    "collapsed": false,
    "gather": {
     "logged": 1674829434433
    },
    "jupyter": {
     "outputs_hidden": false,
     "source_hidden": false
    },
    "nteract": {
     "transient": {
      "deleting": false
     }
    },
    "tags": []
   },
   "outputs": [],
   "source": [
    "import os\n",
    "import openai\n",
    "from dotenv import load_dotenv\n",
    "load_dotenv()\n",
    "\n",
    "openai.api_type = \"azure\"\n",
    "openai.api_version = \"2022-12-01\"\n",
    "\n",
    "API_KEY = os.getenv(\"OPENAI_API_KEY\",\"\").strip()\n",
    "assert API_KEY, \"ERROR: Azure OpenAI Key is missing\"\n",
    "openai.api_key = API_KEY\n",
    "\n",
    "RESOURCE_ENDPOINT = os.getenv(\"OPENAI_API_BASE\",\"\").strip()\n",
    "assert RESOURCE_ENDPOINT, \"ERROR: Azure OpenAI Endpoint is missing\"\n",
    "assert \"openai.azure.com\" in RESOURCE_ENDPOINT.lower(), \"ERROR: Azure OpenAI Endpoint should be in the form: \\n\\n\\t<your unique endpoint identifier>.openai.azure.com\"\n",
    "openai.api_base = RESOURCE_ENDPOINT"
   ]
  },
  {
   "cell_type": "markdown",
   "metadata": {
    "nteract": {
     "transient": {
      "deleting": false
     }
    }
   },
   "source": [
    "### 3. Finding the right model  \n",
    "The GPT-3 models can understand and generate natural language. The service offers four model capabilities, each with different levels of power and speed suitable for different tasks. Davinci is the most capable model, while Ada is the fastest. The following list represents the latest versions of GPT-3 models, ordered by increasing capability(1).  \n",
    "\n",
    "* text-ada-001\n",
    "* text-babbage-001\n",
    "* text-curie-001\n",
    "* text-davinci-003  \n",
    "\n",
    "[Azure OpenAI models](https://learn.microsoft.com/en-us/azure/cognitive-services/openai/concepts/models])  \n",
    "![](images/a-b-c-d-models-reduced.jpg)  \n",
    "\n",
    "| | Similarity embedding | Text search embedding | Code Search Embedding |\n",
    "| --- | --- | --- |\n",
    "| |These models are good at capturing **semantic similarity** between two or more pieces of text. | These models help measure whether long documents are relevant to a short search query. There are two input types supported by this family: **doc**, for embedding the documents to be retrieved, and **query**, for embedding the search query. |Similar to text search embedding models, there are two input types supported by this family: **code**, for embedding code snippets to be retrieved, and text, for embedding natural language search queries. | \n",
    "|**Use cases** | Clustering, regression, anomaly detection, visualization | Search, context relevance, information retrieval | Code search and relevance |\n",
    "|**Models** |text-similarity-ada-001 <br> text-similarity-babbage-001 <br> text-similarity-curie-001 <br> text-similarity-davinci-001 | text-search-ada-doc-001  <br> text-search-ada-query-001  <br> text-search-babbage-doc-001  <br> text-search-babbage-query-001  <br> text-search-curie-doc-001  <br>text-search-curie-query-001  <br> text-search-davinci-doc-001  <br> text-search-davinci-query-001 | code-search-ada-code-001 <br> code-search-ada-text-001 <br> code-search-babbage-code-001 <br> code-search-babbage-text-001 | \n",
    "\n",
    "\n"
   ]
  },
  {
   "cell_type": "markdown",
   "metadata": {
    "nteract": {
     "transient": {
      "deleting": false
     }
    }
   },
   "source": [
    "### Model Taxonomy  \n",
    "Let's choose a general text GPT-3 model, using the second most powerful model (Curie)\n",
    "\n",
    "**Model taxonomy**: {family} - {capability} - {input-type} - {identifier}  \n",
    "\n",
    "{family}     --> text   (general text GPT-3 model)  \n",
    "{capability} --> curie  (curie is second most powerful in ada-babbage-curie-davinci family)  \n",
    "{input-type} --> n/a    (only specified for search models)  \n",
    "{identifier} --> 001    (version 001)  \n",
    "\n",
    "model = \"text-curie-001\""
   ]
  },
  {
   "cell_type": "code",
   "execution_count": 5,
   "metadata": {
    "collapsed": true,
    "gather": {
     "logged": 1674742720788
    },
    "jupyter": {
     "outputs_hidden": true
    },
    "nteract": {
     "transient": {
      "deleting": false
     }
    },
    "tags": []
   },
   "outputs": [],
   "source": [
    "# Select the General Purpose curie model for text\n",
    "model = \"text-davinci-003\""
   ]
  },
  {
   "cell_type": "markdown",
   "metadata": {
    "nteract": {
     "transient": {
      "deleting": false
     }
    }
   },
   "source": [
    "## 4. Prompt Design  \n",
    "\n",
    "\"The magic of large language models is that by being trained to minimize this prediction error over vast quantities of text, the models end up learning concepts useful for these predictions. For example, they learn concepts like\"(1):\n",
    "\n",
    "* how to spell\n",
    "* how grammar works\n",
    "* how to paraphrase\n",
    "* how to answer questions\n",
    "* how to hold a conversation\n",
    "* how to write in many languages\n",
    "* how to code\n",
    "* etc.\n",
    "\n",
    "#### How to control a large language model  \n",
    "\"Of all the inputs to a large language model, by far the most influential is the text prompt(1).\n",
    "\n",
    "Large language models can be prompted to produce output in a few ways:\n",
    "\n",
    "Instruction: Tell the model what you want\n",
    "Completion: Induce the model to complete the beginning of what you want\n",
    "Demonstration: Show the model what you want, with either:\n",
    "A few examples in the prompt\n",
    "Many hundreds or thousands of examples in a fine-tuning training dataset\"\n",
    "\n",
    "\n",
    "\n",
    "#### There are three basic guidelines to creating prompts:\n",
    "\n",
    "**Show and tell**. Make it clear what you want either through instructions, examples, or a combination of the two. If you want the model to rank a list of items in alphabetical order or to classify a paragraph by sentiment, show it that's what you want.\n",
    "\n",
    "**Provide quality data**. If you're trying to build a classifier or get the model to follow a pattern, make sure that there are enough examples. Be sure to proofread your examples — the model is usually smart enough to see through basic spelling mistakes and give you a response, but it also might assume this is intentional and it can affect the response.\n",
    "\n",
    "**Check your settings.** The temperature and top_p settings control how deterministic the model is in generating a response. If you're asking it for a response where there's only one right answer, then you'd want to set these lower. If you're looking for more diverse responses, then you might want to set them higher. The number one mistake people use with these settings is assuming that they're \"cleverness\" or \"creativity\" controls.\n",
    "\n",
    "\n",
    "Source: https://github.com/Azure/OpenAI/blob/main/How%20to/Completions.md"
   ]
  },
  {
   "cell_type": "markdown",
   "metadata": {
    "nteract": {
     "transient": {
      "deleting": false
     }
    }
   },
   "source": [
    "![](images/prompt_design.jpg)\n",
    "image is creating your first text prompt!"
   ]
  },
  {
   "cell_type": "markdown",
   "metadata": {
    "nteract": {
     "transient": {
      "deleting": false
     }
    }
   },
   "source": [
    "### 5. Submit!"
   ]
  },
  {
   "cell_type": "code",
   "execution_count": 6,
   "metadata": {
    "collapsed": false,
    "gather": {
     "logged": 1674494935186
    },
    "jupyter": {
     "outputs_hidden": false,
     "source_hidden": false
    },
    "nteract": {
     "transient": {
      "deleting": false
     }
    },
    "tags": []
   },
   "outputs": [],
   "source": [
    "# Create your first prompt\n",
    "text_prompt = \"Should oxford commas always be used?\""
   ]
  },
  {
   "cell_type": "code",
   "execution_count": 7,
   "metadata": {
    "collapsed": false,
    "gather": {
     "logged": 1674494938225
    },
    "jupyter": {
     "outputs_hidden": false,
     "source_hidden": false
    },
    "nteract": {
     "transient": {
      "deleting": false
     }
    },
    "tags": []
   },
   "outputs": [
    {
     "data": {
      "text/plain": [
       "<OpenAIObject text_completion id=cmpl-73NtxRKG0Wj9xTHtYDMmgi8pQP1PN at 0x7f648442bd30> JSON: {\n",
       "  \"choices\": [\n",
       "    {\n",
       "      \"finish_reason\": \"stop\",\n",
       "      \"index\": 0,\n",
       "      \"logprobs\": null,\n",
       "      \"text\": \"\\n\\nNo, oxford commas are not always necessary. The use of an oxford comma is based on personal preference, style guide conventions, and clarity in certain contexts.\"\n",
       "    }\n",
       "  ],\n",
       "  \"created\": 1681041217,\n",
       "  \"id\": \"cmpl-73NtxRKG0Wj9xTHtYDMmgi8pQP1PN\",\n",
       "  \"model\": \"text-davinci-003\",\n",
       "  \"object\": \"text_completion\",\n",
       "  \"usage\": {\n",
       "    \"completion_tokens\": 36,\n",
       "    \"prompt_tokens\": 9,\n",
       "    \"total_tokens\": 45\n",
       "  }\n",
       "}"
      ]
     },
     "execution_count": 7,
     "metadata": {},
     "output_type": "execute_result"
    }
   ],
   "source": [
    "# Simple API Call\n",
    "openai.Completion.create(\n",
    "    engine=model,\n",
    "    prompt=text_prompt,\n",
    "    max_tokens=60\n",
    ")"
   ]
  },
  {
   "cell_type": "markdown",
   "metadata": {
    "nteract": {
     "transient": {
      "deleting": false
     }
    }
   },
   "source": [
    "### Repeat the same call, how do the results compare?"
   ]
  },
  {
   "cell_type": "code",
   "execution_count": 8,
   "metadata": {
    "collapsed": false,
    "gather": {
     "logged": 1674494940872
    },
    "jupyter": {
     "outputs_hidden": false,
     "source_hidden": false
    },
    "nteract": {
     "transient": {
      "deleting": false
     }
    },
    "tags": []
   },
   "outputs": [
    {
     "data": {
      "text/plain": [
       "<OpenAIObject text_completion id=cmpl-73NuDgqvfo62Qwlib2TSgsjdys14R at 0x7f6484481e40> JSON: {\n",
       "  \"choices\": [\n",
       "    {\n",
       "      \"finish_reason\": \"length\",\n",
       "      \"index\": 0,\n",
       "      \"logprobs\": null,\n",
       "      \"text\": \"\\n\\nNo, oxford commas are not required in all cases. It is a matter of personal preference and style. Generally, it is recommended to use an oxford comma when it helps to clarify a sentence, such as when there are multiple adjectives, or when items in a list contain\"\n",
       "    }\n",
       "  ],\n",
       "  \"created\": 1681041233,\n",
       "  \"id\": \"cmpl-73NuDgqvfo62Qwlib2TSgsjdys14R\",\n",
       "  \"model\": \"text-davinci-003\",\n",
       "  \"object\": \"text_completion\",\n",
       "  \"usage\": {\n",
       "    \"completion_tokens\": 60,\n",
       "    \"prompt_tokens\": 9,\n",
       "    \"total_tokens\": 69\n",
       "  }\n",
       "}"
      ]
     },
     "execution_count": 8,
     "metadata": {},
     "output_type": "execute_result"
    }
   ],
   "source": [
    "openai.Completion.create(\n",
    "    engine=model,\n",
    "    prompt=text_prompt,\n",
    "    max_tokens=60\n",
    ")"
   ]
  },
  {
   "cell_type": "markdown",
   "metadata": {
    "nteract": {
     "transient": {
      "deleting": false
     }
    }
   },
   "source": [
    "## Embeddings \n",
    "Esta seção mostra como usar embeddings para achar textos similares."
   ]
  },
  {
   "cell_type": "code",
   "execution_count": 1,
   "metadata": {
    "collapsed": false,
    "gather": {
     "logged": 1674829364153
    },
    "jupyter": {
     "outputs_hidden": false,
     "source_hidden": false
    },
    "nteract": {
     "transient": {
      "deleting": false
     }
    },
    "tags": []
   },
   "outputs": [],
   "source": [
    "from dotenv import load_dotenv\n",
    "load_dotenv()\n",
    "import openai\n",
    "import re\n",
    "import requests\n",
    "import sys\n",
    "import os\n",
    "import pandas as pd\n",
    "import numpy as np\n",
    "from dotenv import load_dotenv\n",
    "from openai.embeddings_utils import get_embedding, cosine_similarity\n",
    "\n",
    "load_dotenv()\n",
    "\n",
    "openai.api_type = \"azure\"\n",
    "openai.api_version = \"2022-12-01\"\n",
    "\n",
    "API_KEY = os.getenv(\"OPENAI_API_KEY\",\"\").strip()\n",
    "assert API_KEY, \"ERROR: Azure OpenAI Key is missing\"\n",
    "openai.api_key = API_KEY\n",
    "\n",
    "RESOURCE_ENDPOINT = os.getenv(\"OPENAI_API_BASE\",\"\").strip()\n",
    "assert RESOURCE_ENDPOINT, \"ERROR: Azure OpenAI Endpoint is missing\"\n",
    "assert \"openai.azure.com\" in RESOURCE_ENDPOINT.lower(), \"ERROR: Azure OpenAI Endpoint should be in the form: \\n\\n\\t<your unique endpoint identifier>.openai.azure.com\"\n",
    "openai.api_base = RESOURCE_ENDPOINT\n",
    "COMPLETIONS_MODEL = os.getenv('DEPLOYMENT_NAME')\n"
   ]
  },
  {
   "cell_type": "code",
   "execution_count": 2,
   "metadata": {
    "collapsed": false,
    "gather": {
     "logged": 1674829424097
    },
    "jupyter": {
     "outputs_hidden": false,
     "source_hidden": false
    },
    "nteract": {
     "transient": {
      "deleting": false
     }
    },
    "tags": []
   },
   "outputs": [],
   "source": [
    "text = 'the quick brown fox jumped over the lazy dog'\n",
    "\n",
    "model = 'text-similarity-curie-001'"
   ]
  },
  {
   "cell_type": "code",
   "execution_count": 3,
   "metadata": {
    "collapsed": true,
    "gather": {
     "logged": 1674829446467
    },
    "jupyter": {
     "outputs_hidden": true
    },
    "nteract": {
     "transient": {
      "deleting": false
     }
    },
    "tags": []
   },
   "outputs": [
    {
     "data": {
      "text/plain": [
       "[-0.008196013979613781,\n",
       " 0.0003595264570321888,\n",
       " -0.00248400098644197,\n",
       " 0.022667398676276207,\n",
       " -0.015117938630282879,\n",
       " 0.013691717758774757,\n",
       " -0.0019776925910264254,\n",
       " -0.01912086457014084,\n",
       " -0.0009745840798132122,\n",
       " 0.013339917175471783,\n",
       " -0.012845493853092194,\n",
       " 2.2953237930778414e-05,\n",
       " 0.011989761143922806,\n",
       " 0.027782777324318886,\n",
       " -0.004378497134894133,\n",
       " -0.02152642235159874,\n",
       " 0.0017815872561186552,\n",
       " -0.016487110406160355,\n",
       " -5.6194578064605594e-05,\n",
       " -0.0010678826365619898,\n",
       " 0.010563540272414684,\n",
       " -0.010420918464660645,\n",
       " -0.0008628634386695921,\n",
       " 0.020195282995700836,\n",
       " 0.005947339814156294,\n",
       " 0.030958496034145355,\n",
       " 0.0007101389928720891,\n",
       " -0.02232510596513748,\n",
       " 0.01463302318006754,\n",
       " 0.004428415093570948,\n",
       " -0.009232401847839355,\n",
       " -0.012864509597420692,\n",
       " 0.02082282118499279,\n",
       " 0.09713513404130936,\n",
       " 0.019272994250059128,\n",
       " 0.008562077768146992,\n",
       " 0.003132931189611554,\n",
       " 0.013140246272087097,\n",
       " -0.0016413421835750341,\n",
       " -0.10086232423782349,\n",
       " -0.007592247799038887,\n",
       " -0.007093070540577173,\n",
       " -0.005029804538935423,\n",
       " -0.01359663624316454,\n",
       " 0.01577400043606758,\n",
       " 0.008324374444782734,\n",
       " 0.00016446106019429862,\n",
       " 0.0013537210179492831,\n",
       " 0.013396965339779854,\n",
       " 0.009764856658875942,\n",
       " 0.013938928954303265,\n",
       " -0.01938709244132042,\n",
       " 0.011447797529399395,\n",
       " 0.0044070216827094555,\n",
       " -0.0003197111072950065,\n",
       " 0.0027644908986985683,\n",
       " 0.0013228196185082197,\n",
       " -0.0035560433752834797,\n",
       " 0.0009811209747567773,\n",
       " 0.0029237521812319756,\n",
       " -0.0032517830841243267,\n",
       " 0.012902542017400265,\n",
       " -0.02029036544263363,\n",
       " 0.0031662096735090017,\n",
       " -0.08466045558452606,\n",
       " -0.002538672648370266,\n",
       " 0.00907551683485508,\n",
       " 0.010050101205706596,\n",
       " 0.020062169060111046,\n",
       " -0.007055038120597601,\n",
       " 0.001631834078580141,\n",
       " 0.019833974540233612,\n",
       " -0.015469739213585854,\n",
       " 0.015973670408129692,\n",
       " 0.006313403137028217,\n",
       " 0.022952644154429436,\n",
       " -0.002819162793457508,\n",
       " 0.020879870280623436,\n",
       " -0.007758640218526125,\n",
       " -0.013501554727554321,\n",
       " 0.01206582598388195,\n",
       " -0.014604498632252216,\n",
       " -0.02567197009921074,\n",
       " 0.017609070986509323,\n",
       " -0.009265679866075516,\n",
       " 0.023884441703557968,\n",
       " 0.0017281039617955685,\n",
       " 0.03154800087213516,\n",
       " -0.00043648292194120586,\n",
       " 0.0015819163527339697,\n",
       " 0.0011938655516132712,\n",
       " -0.00223322375677526,\n",
       " 0.0003134713915642351,\n",
       " 0.008709453977644444,\n",
       " -0.0026385081000626087,\n",
       " 0.013606144115328789,\n",
       " 0.030787348747253418,\n",
       " 0.017618577927350998,\n",
       " -0.023085758090019226,\n",
       " 0.0014285976067185402,\n",
       " -0.0014476139331236482,\n",
       " -0.00713585689663887,\n",
       " 0.00031881974427960813,\n",
       " 0.022686416283249855,\n",
       " 0.01137173268944025,\n",
       " 0.008376669138669968,\n",
       " -0.0026860488578677177,\n",
       " -0.0008319620392285287,\n",
       " 0.0008878223015926778,\n",
       " -0.008742731995880604,\n",
       " 0.013149754144251347,\n",
       " 0.004076614044606686,\n",
       " -0.02428378351032734,\n",
       " 0.013929421082139015,\n",
       " 0.0031828489154577255,\n",
       " 0.011057963594794273,\n",
       " 0.013615652918815613,\n",
       " -0.013634668663144112,\n",
       " -6.629697600146756e-05,\n",
       " -0.005215213168412447,\n",
       " -0.0017768332036212087,\n",
       " -0.012864509597420692,\n",
       " 0.00459956144914031,\n",
       " -0.015850065276026726,\n",
       " 0.02000512182712555,\n",
       " 0.017038581892848015,\n",
       " 0.023523131385445595,\n",
       " 0.007069299928843975,\n",
       " -0.005885537248104811,\n",
       " -0.004471201449632645,\n",
       " -0.007169135380536318,\n",
       " -0.01788480579853058,\n",
       " 0.03284110501408577,\n",
       " 0.00026414793683215976,\n",
       " -0.004000548738986254,\n",
       " 0.016534650698304176,\n",
       " -0.006940940394997597,\n",
       " 0.004837264772504568,\n",
       " 0.008457488380372524,\n",
       " 0.011019931174814701,\n",
       " -0.0015177364693954587,\n",
       " 0.01097239088267088,\n",
       " 0.01193271204829216,\n",
       " 0.01421466562896967,\n",
       " -0.014728104695677757,\n",
       " 0.01971987634897232,\n",
       " 0.02371329441666603,\n",
       " 0.010696654208004475,\n",
       " 0.021906748414039612,\n",
       " -0.009008959867060184,\n",
       " 0.01786579005420208,\n",
       " 0.0002867297735065222,\n",
       " 0.005738161038607359,\n",
       " 0.027383435517549515,\n",
       " -0.010249772109091282,\n",
       " 4.828350938623771e-05,\n",
       " 0.0020894131157547235,\n",
       " -0.003670141100883484,\n",
       " 0.010592064820230007,\n",
       " 0.015194003470242023,\n",
       " 0.00025241132243536413,\n",
       " -0.0005083882133476436,\n",
       " 0.011970745399594307,\n",
       " 0.0032779304310679436,\n",
       " 0.010145182721316814,\n",
       " 0.015469739213585854,\n",
       " 0.005405376199632883,\n",
       " -0.0024412141647189856,\n",
       " 0.006608155556023121,\n",
       " -0.0025053941644728184,\n",
       " 0.0044521852396428585,\n",
       " 0.002564819995313883,\n",
       " -0.02181166782975197,\n",
       " -0.016924483701586723,\n",
       " -0.005671604070812464,\n",
       " -0.009080271236598492,\n",
       " 0.013919913209974766,\n",
       " -0.006089962087571621,\n",
       " -0.010772719979286194,\n",
       " 0.00017337493773084134,\n",
       " -0.009479613043367863,\n",
       " -0.002529164543375373,\n",
       " 0.005395867861807346,\n",
       " 0.008338636718690395,\n",
       " -0.011809106916189194,\n",
       " 0.012294021435081959,\n",
       " -0.006722253281623125,\n",
       " -0.0024602306075394154,\n",
       " -0.00251965643838048,\n",
       " 0.0026289999950677156,\n",
       " -0.002918998245149851,\n",
       " 0.001723349909298122,\n",
       " 0.002586213406175375,\n",
       " 0.015232035890221596,\n",
       " 0.0027478516567498446,\n",
       " 0.0031662096735090017,\n",
       " -0.01075370330363512,\n",
       " -0.0018695375183597207,\n",
       " -0.018093984574079514,\n",
       " 0.026679834350943565,\n",
       " -1.9610533854574896e-05,\n",
       " 0.024645091965794563,\n",
       " 0.011856647208333015,\n",
       " 0.01151435449719429,\n",
       " 0.029817519709467888,\n",
       " 2.4123184630298056e-05,\n",
       " 0.020081186667084694,\n",
       " -0.02426476590335369,\n",
       " 0.01062058936804533,\n",
       " -0.02000512182712555,\n",
       " -0.004834888037294149,\n",
       " -0.022667398676276207,\n",
       " -0.010858292691409588,\n",
       " -0.010554032400250435,\n",
       " 0.017827756702899933,\n",
       " 0.0006091150571592152,\n",
       " 0.012588773854076862,\n",
       " -0.01283598504960537,\n",
       " -0.007444871589541435,\n",
       " 0.00484201917424798,\n",
       " -0.0033349792938679457,\n",
       " -0.00530554074794054,\n",
       " -0.008699946105480194,\n",
       " -0.03624501824378967,\n",
       " 0.03286012262105942,\n",
       " -0.015869081020355225,\n",
       " 0.009703054092824459,\n",
       " -0.042140066623687744,\n",
       " 0.01317827869206667,\n",
       " -0.003411044366657734,\n",
       " -0.019891023635864258,\n",
       " -0.005096361506730318,\n",
       " 0.0035560433752834797,\n",
       " 0.012018285691738129,\n",
       " 0.006598647218197584,\n",
       " 0.00769208325073123,\n",
       " -0.006265862379223108,\n",
       " 0.033449627459049225,\n",
       " 0.00011900028039235622,\n",
       " -0.008267325349152088,\n",
       " 0.002995063317939639,\n",
       " 0.018626440316438675,\n",
       " 0.0001433648867532611,\n",
       " -0.01200877781957388,\n",
       " -0.014233681373298168,\n",
       " 0.012655330821871758,\n",
       " -0.008685683831572533,\n",
       " 0.006812580395489931,\n",
       " -0.0019444141071289778,\n",
       " 0.002918998245149851,\n",
       " 0.005181934684514999,\n",
       " 0.0027026880998164415,\n",
       " 0.02000512182712555,\n",
       " 0.02122216299176216,\n",
       " -0.003403913229703903,\n",
       " 0.011961236596107483,\n",
       " -0.002512525301426649,\n",
       " 0.0041954657062888145,\n",
       " 0.0007618395029567182,\n",
       " -0.014081551693379879,\n",
       " 0.022401170805096626,\n",
       " 0.005994880571961403,\n",
       " 0.007730115670710802,\n",
       " 0.010658621788024902,\n",
       " -0.009222893044352531,\n",
       " -0.009013714268803596,\n",
       " 0.004763576667755842,\n",
       " 0.01047796756029129,\n",
       " 0.003708173520863056,\n",
       " 0.0002617709105834365,\n",
       " -0.004250137601047754,\n",
       " -0.01923496276140213,\n",
       " 0.004038581158965826,\n",
       " -0.016553666442632675,\n",
       " -0.0038674348033964634,\n",
       " 0.01718120463192463,\n",
       " 0.005296032410115004,\n",
       " 0.008951911702752113,\n",
       " -0.0007897696341387928,\n",
       " 0.009665021672844887,\n",
       " 0.0026860488578677177,\n",
       " -0.012227464467287064,\n",
       " -0.009698299691081047,\n",
       " 0.007539953105151653,\n",
       " 0.0006311025936156511,\n",
       " 0.00023250367667060345,\n",
       " -0.008419455960392952,\n",
       " -0.014946792274713516,\n",
       " 0.008685683831572533,\n",
       " 0.015317609533667564,\n",
       " -0.003972024191170931,\n",
       " 0.006893399637192488,\n",
       " 0.009222893044352531,\n",
       " -0.0033682577777653933,\n",
       " 0.024188701063394547,\n",
       " -0.005215213168412447,\n",
       " -0.011314683593809605,\n",
       " 0.013216311112046242,\n",
       " 0.0009401170536875725,\n",
       " -0.030292926356196404,\n",
       " -0.019491681829094887,\n",
       " 0.020480528473854065,\n",
       " 0.006051929667592049,\n",
       " 0.000558305939193815,\n",
       " 0.033715855330228806,\n",
       " 0.024454928934574127,\n",
       " 0.014167124405503273,\n",
       " -0.0029403914231806993,\n",
       " 0.024093620479106903,\n",
       " 0.006765039637684822,\n",
       " 0.005386359989643097,\n",
       " -0.0025244103744626045,\n",
       " 0.003346864366903901,\n",
       " -0.01570744253695011,\n",
       " -0.012332053855061531,\n",
       " 0.0031923570204526186,\n",
       " -0.02508246712386608,\n",
       " -0.00802962202578783,\n",
       " -0.002176174893975258,\n",
       " -0.012607790529727936,\n",
       " -0.013663193210959435,\n",
       " -0.004399890545755625,\n",
       " -0.023409035056829453,\n",
       " 0.0008557323599234223,\n",
       " 0.015222528018057346,\n",
       " 0.0055099655874073505,\n",
       " -0.050697389990091324,\n",
       " -0.004174072295427322,\n",
       " 0.013225818984210491,\n",
       " -0.009027976542711258,\n",
       " -0.01973889395594597,\n",
       " -0.004292923957109451,\n",
       " 0.004426037892699242,\n",
       " -0.013957945629954338,\n",
       " 0.0011427592253312469,\n",
       " 0.020594624802470207,\n",
       " 0.01192320417612791,\n",
       " 0.015327117405831814,\n",
       " 0.010734686627984047,\n",
       " 0.005785701796412468,\n",
       " 0.00012063448957633227,\n",
       " 0.010867800563573837,\n",
       " -0.00125982821919024,\n",
       " -0.012122875079512596,\n",
       " 0.009161090478301048,\n",
       " 0.002833424834534526,\n",
       " -0.01601170375943184,\n",
       " -0.009046992287039757,\n",
       " -0.00010028113320004195,\n",
       " 0.024492962285876274,\n",
       " 0.004233498126268387,\n",
       " 0.007397330831736326,\n",
       " 0.025710003450512886,\n",
       " -0.02013823576271534,\n",
       " 0.005124886054545641,\n",
       " 0.0035251418594270945,\n",
       " -0.0071786437183618546,\n",
       " -0.0005482035339809954,\n",
       " -0.008699946105480194,\n",
       " -0.013330408371984959,\n",
       " 0.02979850210249424,\n",
       " 0.00752093642950058,\n",
       " -0.0206706915050745,\n",
       " -0.02124117873609066,\n",
       " -0.041303347796201706,\n",
       " -0.013111721724271774,\n",
       " 0.013007132336497307,\n",
       " -0.010278296656906605,\n",
       " 0.03576961159706116,\n",
       " -0.006094716023653746,\n",
       " 0.0013941306388005614,\n",
       " -0.023789359256625175,\n",
       " -0.0018148657400161028,\n",
       " 0.0022676908411085606,\n",
       " -0.008105686865746975,\n",
       " -0.0077871643006801605,\n",
       " -0.0179133303463459,\n",
       " 0.013216311112046242,\n",
       " 0.025881150737404823,\n",
       " -0.008200768381357193,\n",
       " 0.008685683831572533,\n",
       " -0.007226184476166964,\n",
       " 0.024169685319066048,\n",
       " 0.011086488142609596,\n",
       " -0.015355641953647137,\n",
       " 0.012294021435081959,\n",
       " -0.017922839149832726,\n",
       " -0.014281222596764565,\n",
       " 0.0025434268172830343,\n",
       " 0.011561894789338112,\n",
       " 0.005196196958422661,\n",
       " -0.02040446363389492,\n",
       " -0.026660816743969917,\n",
       " 0.020347414538264275,\n",
       " -0.020917901769280434,\n",
       " 0.007007497362792492,\n",
       " -0.020689707249403,\n",
       " 0.01855037547647953,\n",
       " -0.05723898857831955,\n",
       " -0.015650393441319466,\n",
       " -0.023751327767968178,\n",
       " 0.011257634498178959,\n",
       " 0.030559154227375984,\n",
       " 0.004782592877745628,\n",
       " -0.003974401392042637,\n",
       " -0.0034704701974987984,\n",
       " -0.01332090049982071,\n",
       " -0.009470105171203613,\n",
       " -0.010373378172516823,\n",
       " -0.02262936718761921,\n",
       " 0.014034010469913483,\n",
       " 0.010934357531368732,\n",
       " -0.024340830743312836,\n",
       " -0.011837631464004517,\n",
       " -0.01504187285900116,\n",
       " -0.0018861767603084445,\n",
       " -0.007753885816782713,\n",
       " -0.0059378319419920444,\n",
       " 0.023104773834347725,\n",
       " 0.002445968333631754,\n",
       " -0.003705796552821994,\n",
       " 0.00980289001017809,\n",
       " 0.013910405337810516,\n",
       " -0.009916987270116806,\n",
       " -0.02112708054482937,\n",
       " -0.017105139791965485,\n",
       " 0.011086488142609596,\n",
       " -0.02580508403480053,\n",
       " -0.016392027959227562,\n",
       " 0.011476322077214718,\n",
       " -0.0023187969345599413,\n",
       " -0.034552570432424545,\n",
       " -0.017694642767310143,\n",
       " 0.002327116671949625,\n",
       " -0.024321814998984337,\n",
       " -0.015498263761401176,\n",
       " 0.02207789570093155,\n",
       " 0.0035893218591809273,\n",
       " 0.004292923957109451,\n",
       " 0.002650393405929208,\n",
       " -0.00790601596236229,\n",
       " 0.013701225630939007,\n",
       " 0.020176267251372337,\n",
       " 0.00479685515165329,\n",
       " 0.0008325562812387943,\n",
       " 0.01164746843278408,\n",
       " 0.010401902720332146,\n",
       " -0.020765772089362144,\n",
       " -0.002242731861770153,\n",
       " -0.03333552926778793,\n",
       " 0.005909307394176722,\n",
       " 0.0023687146604061127,\n",
       " -0.003570305649191141,\n",
       " -0.008400439284741879,\n",
       " -0.012893034145236015,\n",
       " 0.017133664339780807,\n",
       " -0.007820443250238895,\n",
       " 0.001547449384815991,\n",
       " 0.007473396137356758,\n",
       " 0.0014523679856210947,\n",
       " -0.004901445005089045,\n",
       " -0.008833060041069984,\n",
       " -0.010392393916845322,\n",
       " 0.017276285216212273,\n",
       " 0.01636350527405739,\n",
       " 0.025025418028235435,\n",
       " 0.0010809563100337982,\n",
       " 0.013739258050918579,\n",
       " -0.017922839149832726,\n",
       " 0.014262205921113491,\n",
       " -0.013206803239881992,\n",
       " -0.009907479397952557,\n",
       " -0.0008153227972798049,\n",
       " -0.013967453502118587,\n",
       " 0.005429146345704794,\n",
       " -0.006717498879879713,\n",
       " -0.009546170011162758,\n",
       " -0.01836972124874592,\n",
       " 0.009384531527757645,\n",
       " -0.005505211651325226,\n",
       " -0.020746756345033646,\n",
       " -0.0055575063452124596,\n",
       " -0.0040552206337451935,\n",
       " 0.00713585689663887,\n",
       " 0.0054196384735405445,\n",
       " 0.02648967131972313,\n",
       " 0.007112086750566959,\n",
       " -0.005857012700289488,\n",
       " -0.00035209819907322526,\n",
       " 0.004090876318514347,\n",
       " -0.01567891798913479,\n",
       " -0.01502285711467266,\n",
       " -0.0020644543692469597,\n",
       " 0.026927044615149498,\n",
       " -0.012740904465317726,\n",
       " -0.0008551381179131567,\n",
       " -0.002418632386252284,\n",
       " -0.014680564403533936,\n",
       " 0.010249772109091282,\n",
       " -0.01836972124874592,\n",
       " -0.0038222712464630604,\n",
       " 0.0018861767603084445,\n",
       " -0.004459316376596689,\n",
       " 0.0012069392250850797,\n",
       " 0.008961419574916363,\n",
       " -0.000828990712761879,\n",
       " 0.013558603823184967,\n",
       " -0.02991260029375553,\n",
       " -0.006850612815469503,\n",
       " -0.006023405119776726,\n",
       " -0.02496836893260479,\n",
       " -0.01985299028456211,\n",
       " -0.014366795308887959,\n",
       " 0.020252332091331482,\n",
       " -0.0070360214449465275,\n",
       " 0.0030806364957243204,\n",
       " -0.00730700371786952,\n",
       " 0.0007558969082310796,\n",
       " 0.022153960540890694,\n",
       " -0.02135527692735195,\n",
       " 0.013263851404190063,\n",
       " 0.04594331979751587,\n",
       " 0.013035655952990055,\n",
       " 0.026299508288502693,\n",
       " -0.016991041600704193,\n",
       " 0.022762481123209,\n",
       " -0.009665021672844887,\n",
       " -0.015602853149175644,\n",
       " -0.004300055094063282,\n",
       " 0.013691717758774757,\n",
       " 0.007021759636700153,\n",
       " 0.011980253271758556,\n",
       " 0.0008866338175721467,\n",
       " 0.02027134969830513,\n",
       " 0.004792101215571165,\n",
       " 0.0061660269275307655,\n",
       " -0.006175535265356302,\n",
       " 0.004281038884073496,\n",
       " -0.013054672628641129,\n",
       " 0.007677820976823568,\n",
       " -0.011714025400578976,\n",
       " -0.008324374444782734,\n",
       " -0.00931797455996275,\n",
       " 0.01875004731118679,\n",
       " 0.007587493397295475,\n",
       " -0.008077162317931652,\n",
       " -0.012474676594138145,\n",
       " 0.004704150836914778,\n",
       " -0.002102486789226532,\n",
       " 0.019158896058797836,\n",
       " 0.00956043228507042,\n",
       " -0.001111263525672257,\n",
       " -0.008224538527429104,\n",
       " -0.004385628271847963,\n",
       " -0.01110550481826067,\n",
       " 0.0012847870821133256,\n",
       " -0.02938014455139637,\n",
       " -0.002207076409831643,\n",
       " 0.01385335624217987,\n",
       " 0.0059378319419920444,\n",
       " 0.026908028870821,\n",
       " 0.002726458478718996,\n",
       " 0.01088681723922491,\n",
       " 0.015669411048293114,\n",
       " -0.013824831694364548,\n",
       " -0.0006221887306310236,\n",
       " -0.014034010469913483,\n",
       " -0.03390601649880409,\n",
       " -0.02660376764833927,\n",
       " 0.008024867624044418,\n",
       " -0.015241543762385845,\n",
       " -0.014252698048949242,\n",
       " 0.002560066059231758,\n",
       " -0.0024958860594779253,\n",
       " 0.008509783074259758,\n",
       " -0.020499544218182564,\n",
       " -0.003040226874873042,\n",
       " -0.005476687103509903,\n",
       " -0.011057963594794273,\n",
       " -0.013263851404190063,\n",
       " 0.016867436468601227,\n",
       " 0.017628086730837822,\n",
       " 0.03365880623459816,\n",
       " 0.009132565930485725,\n",
       " 0.013539587147533894,\n",
       " 0.0002255211293231696,\n",
       " 0.001983635127544403,\n",
       " 0.01819857582449913,\n",
       " -0.008234047330915928,\n",
       " 0.01270287111401558,\n",
       " 0.028904737904667854,\n",
       " 0.010658621788024902,\n",
       " -0.0036558788269758224,\n",
       " 0.02179265022277832,\n",
       " 0.002750228624790907,\n",
       " 0.0018422015709802508,\n",
       " 0.018845127895474434,\n",
       " -0.010116658173501492,\n",
       " -0.0007654050714336336,\n",
       " -9.367000893689692e-05,\n",
       " -0.009123058058321476,\n",
       " -0.010088133625686169,\n",
       " -0.005571768619120121,\n",
       " 0.0011065094731748104,\n",
       " -0.006997989024966955,\n",
       " -0.008400439284741879,\n",
       " 0.0025790822692215443,\n",
       " 0.009707808494567871,\n",
       " -0.006646187976002693,\n",
       " 0.014100567437708378,\n",
       " -0.014794661663472652,\n",
       " -0.0009876578114926815,\n",
       " -5.660313036059961e-05,\n",
       " -0.007782410364598036,\n",
       " 0.019025782123208046,\n",
       " -0.014566466212272644,\n",
       " 0.015669411048293114,\n",
       " 0.027630647644400597,\n",
       " -0.010829768143594265,\n",
       " 0.005524227861315012,\n",
       " 0.002392485039308667,\n",
       " 0.004891936667263508,\n",
       " -0.009432071819901466,\n",
       " 0.013263851404190063,\n",
       " -0.015583837404847145,\n",
       " -0.016420552507042885,\n",
       " -0.004076614044606686,\n",
       " 0.007972572930157185,\n",
       " 0.015621869824826717,\n",
       " -0.01214189175516367,\n",
       " 0.011894679628312588,\n",
       " -0.01572645828127861,\n",
       " -0.0058617666363716125,\n",
       " -0.0144904013723135,\n",
       " 0.014433352276682854,\n",
       " 0.0037842385936528444,\n",
       " -0.019330043345689774,\n",
       " -0.01684841886162758,\n",
       " 0.02358018048107624,\n",
       " -0.015754982829093933,\n",
       " 0.0010845218785107136,\n",
       " 0.0017815872561186552,\n",
       " 0.005196196958422661,\n",
       " 0.004689888563007116,\n",
       " -0.0060756998136639595,\n",
       " -0.0058142258785665035,\n",
       " -0.026927044615149498,\n",
       " 0.02122216299176216,\n",
       " -0.017561528831720352,\n",
       " -0.0030592430848628283,\n",
       " -0.0055575063452124596,\n",
       " -0.0029237521812319756,\n",
       " 0.00893289502710104,\n",
       " 0.005410130135715008,\n",
       " -0.022933626547455788,\n",
       " 0.01317827869206667,\n",
       " -0.007226184476166964,\n",
       " 0.029589323326945305,\n",
       " 0.019025782123208046,\n",
       " -0.010934357531368732,\n",
       " 0.010877309367060661,\n",
       " 0.007031267508864403,\n",
       " -0.0027763762045651674,\n",
       " -0.01801791973412037,\n",
       " -0.00744962552562356,\n",
       " 0.005643079522997141,\n",
       " -0.0018778571393340826,\n",
       " -0.0006002011941745877,\n",
       " -0.012636314146220684,\n",
       " 0.011875663883984089,\n",
       " 0.009403548203408718,\n",
       " -0.016315963119268417,\n",
       " 0.006199305411428213,\n",
       " -0.01801791973412037,\n",
       " -0.010515999980270863,\n",
       " -0.002959407866001129,\n",
       " -0.0022938381880521774,\n",
       " 0.011866155080497265,\n",
       " -0.039667949080467224,\n",
       " -0.018978241831064224,\n",
       " -0.0016377766150981188,\n",
       " 0.0032945696730166674,\n",
       " 0.003235143842175603,\n",
       " -0.006070945877581835,\n",
       " 0.0022665022406727076,\n",
       " 2.029764436883852e-05,\n",
       " -0.010687146335840225,\n",
       " -0.004342841915786266,\n",
       " -0.03381093591451645,\n",
       " 0.0009139697067439556,\n",
       " -0.011143537238240242,\n",
       " -0.02523459680378437,\n",
       " 0.03173816204071045,\n",
       " 0.01839824579656124,\n",
       " 0.009161090478301048,\n",
       " -0.0024887549225240946,\n",
       " 0.00048105232417583466,\n",
       " -0.001464253175072372,\n",
       " -0.004128908738493919,\n",
       " -0.010981898754835129,\n",
       " 0.003522764891386032,\n",
       " -0.0033492413349449635,\n",
       " 0.00130855746101588,\n",
       " 0.001705522183328867,\n",
       " -0.032365698367357254,\n",
       " -0.009232401847839355,\n",
       " 0.022306090220808983,\n",
       " 0.006047175265848637,\n",
       " 0.021716585382819176,\n",
       " 0.00769208325073123,\n",
       " -0.0018576523289084435,\n",
       " 0.005044066812843084,\n",
       " -0.032479796558618546,\n",
       " 0.008619126863777637,\n",
       " 0.007720607332885265,\n",
       " -0.009203877300024033,\n",
       " -0.013377949595451355,\n",
       " 0.0021535931155085564,\n",
       " -0.00024305176339112222,\n",
       " -0.009945511817932129,\n",
       " -0.010573049075901508,\n",
       " -0.023504115641117096,\n",
       " 0.018540868535637856,\n",
       " 0.004133662674576044,\n",
       " 0.008619126863777637,\n",
       " -0.0033444873988628387,\n",
       " 0.0012990492396056652,\n",
       " 0.006513074040412903,\n",
       " 0.002388919470831752,\n",
       " -0.0010078625055029988,\n",
       " 0.008243555203080177,\n",
       " -0.0013097459450364113,\n",
       " -0.02139330841600895,\n",
       " -0.006912415847182274,\n",
       " 0.014737612567842007,\n",
       " 0.02719327248632908,\n",
       " 0.010687146335840225,\n",
       " 0.004744560457766056,\n",
       " 0.0011005669366568327,\n",
       " 0.0033326020929962397,\n",
       " 0.0025933445431292057,\n",
       " -0.01088681723922491,\n",
       " -0.01295959111303091,\n",
       " -0.012389102950692177,\n",
       " -0.014804169535636902,\n",
       " -0.017133664339780807,\n",
       " 0.016582190990447998,\n",
       " 0.015108429826796055,\n",
       " -0.0036772722378373146,\n",
       " 0.007116840686649084,\n",
       " 0.00014797039330005646,\n",
       " 0.0031733408104628325,\n",
       " -0.020442495122551918,\n",
       " 0.0031662096735090017,\n",
       " -0.00346571602858603,\n",
       " 0.00838142354041338,\n",
       " -0.009061254560947418,\n",
       " 0.009436826221644878,\n",
       " -0.0010090511059388518,\n",
       " -0.0032684223260730505,\n",
       " 0.008210276253521442,\n",
       " 0.007264216896146536,\n",
       " 0.010905833914875984,\n",
       " -0.004789724014699459,\n",
       " -0.0011249314993619919,\n",
       " 0.0016187604051083326,\n",
       " 0.016353996470570564,\n",
       " -0.02540574222803116,\n",
       " -0.016620224341750145,\n",
       " 0.02468312531709671,\n",
       " -0.004216859117150307,\n",
       " -0.008324374444782734,\n",
       " 0.009389285929501057,\n",
       " -0.00661766342818737,\n",
       " -0.01332090049982071,\n",
       " 0.010097641497850418,\n",
       " -0.003225635504350066,\n",
       " -0.011989761143922806,\n",
       " -0.024911319836974144,\n",
       " 0.014176633208990097,\n",
       " 0.007753885816782713,\n",
       " -0.016230391338467598,\n",
       " 0.0015807278687134385,\n",
       " 0.010639606043696404,\n",
       " 0.02082282118499279,\n",
       " -0.004996526055037975,\n",
       " -0.02122216299176216,\n",
       " 0.007944048382341862,\n",
       " -0.014537941664457321,\n",
       " 0.006926678121089935,\n",
       " -0.0024483453016728163,\n",
       " -0.0015450723003596067,\n",
       " 0.01530810073018074,\n",
       " 0.005143902264535427,\n",
       " 0.008809288963675499,\n",
       " 0.004872920457273722,\n",
       " -6.466275954153389e-05,\n",
       " 0.012902542017400265,\n",
       " 0.004616200923919678,\n",
       " -0.028904737904667854,\n",
       " 0.006470287684351206,\n",
       " 0.015260560438036919,\n",
       " 0.023485099896788597,\n",
       " -0.004078990779817104,\n",
       " 0.00895666517317295,\n",
       " 0.014690072275698185,\n",
       " 0.008034376427531242,\n",
       " 0.027231305837631226,\n",
       " -0.006294386927038431,\n",
       " -0.017200220376253128,\n",
       " -0.009503383189439774,\n",
       " 0.0020917903166264296,\n",
       " 0.019196929410099983,\n",
       " 0.04636167734861374,\n",
       " -0.0011902999831363559,\n",
       " -0.0013537210179492831,\n",
       " -0.014861218631267548,\n",
       " -0.07119693607091904,\n",
       " 0.0024317060597240925,\n",
       " -0.0018303164979442954,\n",
       " 0.004112269263714552,\n",
       " -0.004214481916278601,\n",
       " -0.0017922838451340795,\n",
       " -0.009436826221644878,\n",
       " -0.009227647446095943,\n",
       " -0.014908759854733944,\n",
       " -0.007444871589541435,\n",
       " -0.03713878616690636,\n",
       " -0.009484367445111275,\n",
       " 0.010173707269132137,\n",
       " 0.0007523313979618251,\n",
       " -0.012208448722958565,\n",
       " -0.010687146335840225,\n",
       " -0.006218321621417999,\n",
       " 0.01255074143409729,\n",
       " 0.006669958587735891,\n",
       " -0.009869446977972984,\n",
       " 0.0005238389712758362,\n",
       " 0.003734320867806673,\n",
       " -0.023694278672337532,\n",
       " -0.002752605825662613,\n",
       " 0.007169135380536318,\n",
       " 0.011172061786055565,\n",
       " -0.010164198465645313,\n",
       " -0.00993600394576788,\n",
       " 0.010373378172516823,\n",
       " 0.016201866790652275,\n",
       " 0.00016505531675647944,\n",
       " -0.016772354021668434,\n",
       " 0.03645419701933861,\n",
       " 0.0158595722168684,\n",
       " 0.005685866344720125,\n",
       " 0.002361583523452282,\n",
       " 0.0033040777780115604,\n",
       " -0.06651893258094788,\n",
       " -0.007825196720659733,\n",
       " -0.015260560438036919,\n",
       " 4.638931204681285e-05,\n",
       " 0.007677820976823568,\n",
       " -0.007188152056187391,\n",
       " 0.004977509845048189,\n",
       " -0.012883526273071766,\n",
       " 0.009037484414875507,\n",
       " 0.029208997264504433,\n",
       " 0.009298957884311676,\n",
       " 0.008885354734957218,\n",
       " 0.016182849183678627,\n",
       " -0.010107150301337242,\n",
       " 0.01206582598388195,\n",
       " 0.0268890131264925,\n",
       " 0.00737831462174654,\n",
       " 0.008329127915203571,\n",
       " 0.01985299028456211,\n",
       " 0.00446644751355052,\n",
       " -0.008699946105480194,\n",
       " -0.02112708054482937,\n",
       " -0.008167490363121033,\n",
       " 0.011618943884968758,\n",
       " -0.0015129824168980122,\n",
       " -0.005704882554709911,\n",
       " -0.002455476438626647,\n",
       " -0.003327848156914115,\n",
       " 0.026147378608584404,\n",
       " -0.026318524032831192,\n",
       " -0.0008896050858311355,\n",
       " -0.006318157073110342,\n",
       " 0.020100202411413193,\n",
       " 0.01166648417711258,\n",
       " 0.018341196700930595,\n",
       " 0.004863412119448185,\n",
       " 0.006389468442648649,\n",
       " -0.01282647717744112,\n",
       " -0.009793381206691265,\n",
       " 0.015897605568170547,\n",
       " -0.0033967820927500725,\n",
       " -0.002214207546785474,\n",
       " -0.005329310894012451,\n",
       " -0.014252698048949242,\n",
       " 0.0067365155555307865,\n",
       " -0.006760285701602697,\n",
       " 0.010088133625686169,\n",
       " 0.009669776074588299,\n",
       " 0.011076980270445347,\n",
       " 0.014547450467944145,\n",
       " 0.004202596843242645,\n",
       " -0.018759554252028465,\n",
       " 0.021412326022982597,\n",
       " 0.020366430282592773,\n",
       " -0.013073689304292202,\n",
       " -0.0001155832942458801,\n",
       " -0.010116658173501492,\n",
       " -0.00600438890978694,\n",
       " 0.01372024230659008,\n",
       " 0.0019967088010162115,\n",
       " -0.01502285711467266,\n",
       " -0.0048087406903505325,\n",
       " -0.0025529349222779274,\n",
       " -0.0013846225338056684,\n",
       " 0.002612360753118992,\n",
       " -0.018445786088705063,\n",
       " 0.027497533708810806,\n",
       " -0.005904553458094597,\n",
       " 0.005866520572453737,\n",
       " 0.021830683574080467,\n",
       " 0.006394222378730774,\n",
       " 0.0003746800357475877,\n",
       " 0.007406839169561863,\n",
       " 0.021070033311843872,\n",
       " -0.004601938650012016,\n",
       " 0.015117938630282879,\n",
       " -0.003919729497283697,\n",
       " 0.002196379704400897,\n",
       " 0.01775169186294079,\n",
       " -0.015460231341421604,\n",
       " 0.005329310894012451,\n",
       " 0.025862133130431175,\n",
       " -0.02080380544066429,\n",
       " 0.0047136591747403145,\n",
       " 0.009427318349480629,\n",
       " -0.007192905992269516,\n",
       " -0.014880235306918621,\n",
       " -0.004991772118955851,\n",
       " -0.00788700021803379,\n",
       " 0.010506492108106613,\n",
       " 0.00919912289828062,\n",
       " -0.002418632386252284,\n",
       " -0.01718120463192463,\n",
       " 0.009356006979942322,\n",
       " -0.0036202233750373125,\n",
       " -0.01387237198650837,\n",
       " -0.00036012069904245436,\n",
       " -0.015079906210303307,\n",
       " -0.004169318359345198,\n",
       " 0.009085025638341904,\n",
       " 0.00548619544133544,\n",
       " 0.008419455960392952,\n",
       " -0.0022474860306829214,\n",
       " 0.024511978030204773,\n",
       " 0.02540574222803116,\n",
       " 0.004513988271355629,\n",
       " 1.628639984119218e-05,\n",
       " 0.012179924175143242,\n",
       " 0.0038698120042681694,\n",
       " 0.009484367445111275,\n",
       " 0.013834339566528797,\n",
       " 0.014091059565544128,\n",
       " 0.0026860488578677177,\n",
       " -0.007235692348331213,\n",
       " -0.0025339187122881413,\n",
       " -0.01254123356193304,\n",
       " -0.015469739213585854,\n",
       " 0.0061184861697256565,\n",
       " -0.0031210461165755987,\n",
       " 0.0036939114797860384,\n",
       " -0.00033753886236809194,\n",
       " 0.03131980448961258,\n",
       " -0.013007132336497307,\n",
       " -0.016800878569483757,\n",
       " -0.009008959867060184,\n",
       " 0.004977509845048189,\n",
       " 0.017067106440663338,\n",
       " 0.009403548203408718,\n",
       " 0.023637229576706886,\n",
       " -0.004447431303560734,\n",
       " 0.004782592877745628,\n",
       " -0.03337356075644493,\n",
       " -0.0004040958301629871,\n",
       " 0.01089632511138916,\n",
       " -0.003363503608852625,\n",
       " -0.028923753648996353,\n",
       " 0.002762113930657506,\n",
       " -0.0022023222409188747,\n",
       " -0.007625526282936335,\n",
       " 0.01476613711565733,\n",
       " 0.018046444281935692,\n",
       " -0.0003229795547667891,\n",
       " -0.0017601939616724849,\n",
       " -0.001181980362161994,\n",
       " 0.02139330841600895,\n",
       " -0.01826513186097145,\n",
       " ...]"
      ]
     },
     "execution_count": 3,
     "metadata": {},
     "output_type": "execute_result"
    }
   ],
   "source": [
    "openai.Embedding.create(\n",
    "    input=text, engine=model\n",
    ")[\"data\"][0][\"embedding\"]"
   ]
  },
  {
   "cell_type": "code",
   "execution_count": 4,
   "metadata": {
    "collapsed": false,
    "gather": {
     "logged": 1674829555255
    },
    "jupyter": {
     "outputs_hidden": false
    },
    "nteract": {
     "transient": {
      "deleting": false
     }
    },
    "tags": []
   },
   "outputs": [
    {
     "name": "stdout",
     "output_type": "stream",
     "text": [
      "0.918429933118848\n",
      "0.8513610722570389\n",
      "0.7644908519153902\n",
      "0.758017309090713\n"
     ]
    }
   ],
   "source": [
    "# compare several words\n",
    "automobile_embedding    = openai.Embedding.create(input='automobile', engine=model)[\"data\"][0][\"embedding\"]\n",
    "vehicle_embedding       = openai.Embedding.create(input='vehicle', engine=model)[\"data\"][0][\"embedding\"]\n",
    "carro_embedding       = openai.Embedding.create(input='carro', engine=model)[\"data\"][0][\"embedding\"]\n",
    "dinosaur_embedding      = openai.Embedding.create(input='dinosaur', engine=model)[\"data\"][0][\"embedding\"]\n",
    "stick_embedding         = openai.Embedding.create(input='stick', engine=model)[\"data\"][0][\"embedding\"]\n",
    "\n",
    "print(cosine_similarity(automobile_embedding, vehicle_embedding))\n",
    "print(cosine_similarity(automobile_embedding, carro_embedding))\n",
    "print(cosine_similarity(automobile_embedding, dinosaur_embedding))\n",
    "print(cosine_similarity(automobile_embedding, stick_embedding))"
   ]
  },
  {
   "cell_type": "markdown",
   "metadata": {
    "nteract": {
     "transient": {
      "deleting": false
     }
    }
   },
   "source": [
    "## Comparando artigos da CNN\n",
    "source: https://huggingface.co/datasets/cnn_dailymail\n"
   ]
  },
  {
   "cell_type": "code",
   "execution_count": 5,
   "metadata": {
    "collapsed": false,
    "gather": {
     "logged": 1674831122093
    },
    "jupyter": {
     "outputs_hidden": false,
     "source_hidden": false
    },
    "nteract": {
     "transient": {
      "deleting": false
     }
    },
    "tags": []
   },
   "outputs": [
    {
     "data": {
      "text/html": [
       "<div>\n",
       "<style scoped>\n",
       "    .dataframe tbody tr th:only-of-type {\n",
       "        vertical-align: middle;\n",
       "    }\n",
       "\n",
       "    .dataframe tbody tr th {\n",
       "        vertical-align: top;\n",
       "    }\n",
       "\n",
       "    .dataframe thead th {\n",
       "        text-align: right;\n",
       "    }\n",
       "</style>\n",
       "<table border=\"1\" class=\"dataframe\">\n",
       "  <thead>\n",
       "    <tr style=\"text-align: right;\">\n",
       "      <th></th>\n",
       "      <th>articles</th>\n",
       "      <th>highligths</th>\n",
       "    </tr>\n",
       "  </thead>\n",
       "  <tbody>\n",
       "    <tr>\n",
       "      <th>0</th>\n",
       "      <td>BREMEN, Germany -- Carlos Alberto, who scored ...</td>\n",
       "      <td>Werder Bremen pay a club record $10.7 million ...</td>\n",
       "    </tr>\n",
       "    <tr>\n",
       "      <th>1</th>\n",
       "      <td>(CNN) -- Football superstar, celebrity, fashio...</td>\n",
       "      <td>Beckham has agreed to a five-year contract wit...</td>\n",
       "    </tr>\n",
       "    <tr>\n",
       "      <th>2</th>\n",
       "      <td>LOS ANGELES, California (CNN) -- Youssif, the ...</td>\n",
       "      <td>Boy on meeting Spider-Man: \"It was my favorite...</td>\n",
       "    </tr>\n",
       "  </tbody>\n",
       "</table>\n",
       "</div>"
      ],
      "text/plain": [
       "                                            articles  \\\n",
       "0  BREMEN, Germany -- Carlos Alberto, who scored ...   \n",
       "1  (CNN) -- Football superstar, celebrity, fashio...   \n",
       "2  LOS ANGELES, California (CNN) -- Youssif, the ...   \n",
       "\n",
       "                                          highligths  \n",
       "0  Werder Bremen pay a club record $10.7 million ...  \n",
       "1  Beckham has agreed to a five-year contract wit...  \n",
       "2  Boy on meeting Spider-Man: \"It was my favorite...  "
      ]
     },
     "execution_count": 5,
     "metadata": {},
     "output_type": "execute_result"
    }
   ],
   "source": [
    "import pandas as pd\n",
    "cnn_daily_articles = ['BREMEN, Germany -- Carlos Alberto, who scored in FC Porto\\'s Champions League final victory against Monaco in 2004, has joined Bundesliga club Werder Bremen for a club record fee of 7.8 million euros ($10.7 million). Carlos Alberto enjoyed success at FC Porto under Jose Mourinho. \"I\\'m here to win titles with Werder,\" the 22-year-old said after his first training session with his new club. \"I like Bremen and would only have wanted to come here.\" Carlos Alberto started his career with Fluminense, and helped them to lift the Campeonato Carioca in 2002. In January 2004 he moved on to FC Porto, who were coached by José Mourinho, and the club won the Portuguese title as well as the Champions League. Early in 2005, he moved to Corinthians, where he impressed as they won the Brasileirão,but in 2006 Corinthians had a poor season and Carlos Alberto found himself at odds with manager, Emerson Leão. Their poor relationship came to a climax at a Copa Sul-Americana game against Club Atlético Lanús, and Carlos Alberto declared that he would not play for Corinthians again while Leão remained as manager. Since January this year he has been on loan with his first club Fluminense. Bundesliga champions VfB Stuttgart said on Sunday that they would sign a loan agreement with Real Zaragoza on Monday for Ewerthon, the third top Brazilian player to join the German league in three days. A VfB spokesman said Ewerthon, who played in the Bundesliga for Borussia Dortmund from 2001 to 2005, was expected to join the club for their pre-season training in Austria on Monday. On Friday, Ailton returned to Germany where he was the league\\'s top scorer in 2004, signing a one-year deal with Duisburg on a transfer from Red Star Belgrade. E-mail to a friend .',\n",
    "                        '(CNN) -- Football superstar, celebrity, fashion icon, multimillion-dollar heartthrob. Now, David Beckham is headed for the Hollywood Hills as he takes his game to U.S. Major League Soccer. CNN looks at how Bekham fulfilled his dream of playing for Manchester United, and his time playing for England. The world\\'s famous footballer has begun a five-year contract with the Los Angeles Galaxy team, and on Friday Beckham will meet the press and reveal his new shirt number. This week, we take an in depth look at the life and times of Beckham, as CNN\\'s very own \"Becks,\" Becky Anderson, sets out to examine what makes the man tick -- as footballer, fashion icon and global phenomenon. It\\'s a long way from the streets of east London to the Hollywood Hills and Becky charts Beckham\\'s incredible rise to football stardom, a journey that has seen his skills grace the greatest stages in world soccer. She goes in pursuit of the current hottest property on the sports/celebrity circuit in the U.S. and along the way explores exactly what\\'s behind the man with the golden boot. CNN will look back at the life of Beckham, the wonderfully talented youngster who fulfilled his dream of playing for Manchester United, his marriage to pop star Victoria, and the trials and tribulations of playing for England. We\\'ll look at the highs (scoring against Greece), the lows (being sent off during the World Cup), the Man. U departure for the Galacticos of Madrid -- and now the Home Depot stadium in L.A. We\\'ll ask how Beckham and his family will adapt to life in Los Angeles -- the people, the places to see and be seen and the celebrity endorsement. Beckham is no stranger to exposure. He has teamed with Reggie Bush in an Adidas commercial, is the face of Motorola, is the face on a PlayStation game and doesn\\'t need fashion tips as he has his own international clothing line. But what does the star couple need to do to become an accepted part of Tinseltown\\'s glitterati? The road to major league football in the U.S.A. is a well-worn route for some of the world\\'s greatest players. We talk to some of the former greats who came before him and examine what impact these overseas stars had on U.S. soccer and look at what is different now. We also get a rare glimpse inside the David Beckham academy in L.A, find out what drives the kids and who are their heroes. The perception that in the U.S.A. soccer is a \"game for girls\" after the teenage years is changing. More and more young kids are choosing the European game over the traditional U.S. sports. E-mail to a friend .',\n",
    "                        'LOS ANGELES, California (CNN) -- Youssif, the 5-year-old burned Iraqi boy, rounded the corner at Universal Studios when suddenly the little boy hero met his favorite superhero. Youssif has always been a huge Spider-Man fan. Meeting him was \"my favorite thing,\" he said. Spider-Man was right smack dab in front of him, riding a four-wheeler amid a convoy of other superheroes. The legendary climber of buildings and fighter of evil dismounted, walked over to Youssif and introduced himself. Spidey then gave the boy from a far-away land a gentle hug, embracing him in his iconic blue and red tights. He showed Youssif a few tricks, like how to shoot a web from his wrist. Only this time, no web was spun. \"All right Youssif!\" Spider-Man said after the boy mimicked his wrist movement. Other superheroes crowded around to get a closer look. Even the Green Goblin stopped his villainous ways to tell the boy hi. Youssif remained unfazed. He didn\\'t take a liking to Spider-Man\\'s nemesis. Spidey was just too cool. \"It was my favorite thing,\" the boy said later. \"I want to see him again.\" He then felt compelled to add: \"I know it\\'s not the real Spider-Man.\" This was the day of dreams when the boy\\'s nightmares were, at least temporarily, forgotten. He met SpongeBob, Lassie and a 3-year-old orangutan named Archie. The hairy, brownish-red primate took to the boy, grabbing his hand and holding it. Even when Youssif pulled away, Archie would inch his hand back toward the boy\\'s and then snatch it. See Youssif enjoy being a boy again » . The boy giggled inside a play area where sponge-like balls shot out of toy guns. It was a far different artillery than what he was used to seeing in central Baghdad, as recently as a week ago. He squealed with delight and raced around the room collecting as many balls as he could. He rode a tram through the back stages at Universal Studios. At one point, the car shook. Fire and smoke filled the air, debris cascaded down and a big rig skidded toward the vehicle. The boy and his family survived the pretend earthquake unscathed. \"Even I was scared,\" the dad said. \"Well, I wasn\\'t,\" Youssif replied. The father and mother grinned from ear to ear throughout the day. Youssif pushed his 14-month-old sister, Ayaa, in a stroller. \"Did you even need to ask us if we were interested in coming here?\" Youssif\\'s father said in amazement. \"Other than my wedding day, this is the happiest day of my life,\" he said. Just a day earlier, the mother and father talked about their journey out of Iraq and to the United States. They also discussed that day nine months ago when masked men grabbed their son outside the family home, doused him in gas and set him on fire. His mother heard her boy screaming from inside. The father sought help for his boy across Baghdad, but no one listened. He remembers his son\\'s two months of hospitalization. The doctors didn\\'t use anesthetics. He could hear his boy\\'s piercing screams from the other side of the hospital. Watch Youssif meet his doctor and play with his little sister » . The father knew that speaking to CNN would put his family\\'s lives in jeopardy. The possibility of being killed was better than seeing his son suffer, he said. \"Anything for Youssif,\" he said. \"We had to do it.\" They described a life of utter chaos in Baghdad. Neighbors had recently given birth to a baby girl. Shortly afterward, the father was kidnapped and killed. Then, there was the time when some girls wore tanktops and jeans. They were snatched off the street by gunmen. The stories can be even more gruesome. The couple said they had heard reports that a young girl was kidnapped and beheaded --and her killers sewed a dog\\'s head on the corpse and delivered it to her family\\'s doorstep. \"These are just some of the stories,\" said Youssif\\'s mother, Zainab. Under Saddam Hussein, there was more security and stability, they said. There was running water and electricity most of the time. But still life was tough under the dictator, like the time when Zainab\\'s uncle disappeared and was never heard from again after he read a \"religious book,\" she said. Sitting in the parking lot of a Target in suburban Los Angeles, Youssif\\'s father watched as husbands and wives, boyfriends and girlfriends, parents and their children, came and went. Some held hands. Others smiled and laughed. \"Iraq finished,\" he said in what few English words he knows. He elaborated in Arabic: His homeland won\\'t be enjoying such freedoms anytime soon. It\\'s just not possible. Too much violence. Too many killings. His two children have only seen war. But this week, the family has seen a much different side of America -- an outpouring of generosity and a peaceful nation at home. \"It\\'s been a dream,\" the father said. He used to do a lot of volunteer work back in Baghdad. \"Maybe that\\'s why I\\'m being helped now,\" the father said. At Universal Studios, he looked out across the valley below. The sun glistened off treetops and buildings. It was a picturesque sight fit for a Hollywood movie. \"Good America, good America,\" he said in English. E-mail to a friend . CNN\\'s Arwa Damon contributed to this report.'\n",
    "]\n",
    "\n",
    "cnn_daily_article_highlights = ['Werder Bremen pay a club record $10.7 million for Carlos Alberto .\\nThe Brazilian midfielder won the Champions League with FC Porto in 2004 .\\nSince January he has been on loan with his first club, Fluminense .',\n",
    "                                'Beckham has agreed to a five-year contract with Los Angeles Galaxy .\\nNew contract took effect July 1, 2007 .\\nFormer English captain to meet press, unveil new shirt number Friday .\\nCNN to look at Beckham as footballer, fashion icon and global phenomenon .',\n",
    "                                'Boy on meeting Spider-Man: \"It was my favorite thing\"\\nYoussif also met SpongeBob, Lassie and an orangutan at Universal Studios .\\nDad: \"Other than my wedding day, this is the happiest day of my life\"' \n",
    "]\n",
    "\n",
    "cnn_df = pd.DataFrame({\"articles\":cnn_daily_articles, \"highligths\":cnn_daily_article_highlights})\n",
    "\n",
    "cnn_df.head()                      "
   ]
  },
  {
   "cell_type": "code",
   "execution_count": 6,
   "metadata": {
    "collapsed": false,
    "gather": {
     "logged": 1674831294043
    },
    "jupyter": {
     "outputs_hidden": false,
     "source_hidden": false
    },
    "nteract": {
     "transient": {
      "deleting": false
     }
    },
    "tags": []
   },
   "outputs": [
    {
     "name": "stdout",
     "output_type": "stream",
     "text": [
      "0.7425548425631076\n",
      "0.657811250957557\n"
     ]
    }
   ],
   "source": [
    "article1_embedding    = openai.Embedding.create(input=cnn_df.articles.iloc[0], engine=model)[\"data\"][0][\"embedding\"]\n",
    "article2_embedding    = openai.Embedding.create(input=cnn_df.articles.iloc[1], engine=model)[\"data\"][0][\"embedding\"]\n",
    "article3_embedding    = openai.Embedding.create(input=cnn_df.articles.iloc[2], engine=model)[\"data\"][0][\"embedding\"]\n",
    "\n",
    "print(cosine_similarity(article1_embedding, article2_embedding))\n",
    "print(cosine_similarity(article1_embedding, article3_embedding))"
   ]
  }
 ],
 "metadata": {
  "kernel_info": {
   "name": "python310-sdkv2"
  },
  "kernelspec": {
   "display_name": "Python 3 (ipykernel)",
   "language": "python",
   "name": "python3"
  },
  "language_info": {
   "codemirror_mode": {
    "name": "ipython",
    "version": 3
   },
   "file_extension": ".py",
   "mimetype": "text/x-python",
   "name": "python",
   "nbconvert_exporter": "python",
   "pygments_lexer": "ipython3",
   "version": "3.10.9"
  },
  "microsoft": {
   "host": {
    "AzureML": {
     "notebookHasBeenCompleted": true
    }
   }
  },
  "nteract": {
   "version": "nteract-front-end@1.0.0"
  }
 },
 "nbformat": 4,
 "nbformat_minor": 4
}
