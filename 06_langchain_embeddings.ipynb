{
 "cells": [
  {
   "cell_type": "markdown",
   "id": "8934ec46-1813-4003-b276-d71254e45cd7",
   "metadata": {
    "nteract": {
     "transient": {
      "deleting": false
     }
    }
   },
   "source": [
    "## Lang Chain \n",
    "Esta seção mostra como usar embeddings para busca semântica e responder a perguntas sobre bases de dados.\n",
    "Ela usa a biblioteca LangChain."
   ]
  },
  {
   "cell_type": "code",
   "execution_count": 1,
   "id": "f2412063-f66d-413b-967e-ac280cc9303a",
   "metadata": {
    "tags": []
   },
   "outputs": [],
   "source": [
    "from dotenv import load_dotenv\n",
    "load_dotenv()\n",
    "import re\n",
    "import requests\n",
    "import sys\n",
    "import os\n",
    "from dotenv import load_dotenv\n",
    "load_dotenv()\n",
    "\n",
    "\n",
    "API_KEY = os.getenv(\"AZURE_OPENAI_API_KEY\",\"\").strip()\n",
    "assert API_KEY, \"ERROR: Azure OpenAI Key is missing\"\n",
    "\n",
    "RESOURCE_ENDPOINT = os.getenv(\"AZURE_OPENAI_API_BASE\",\"\").strip()\n",
    "assert RESOURCE_ENDPOINT, \"ERROR: Azure OpenAI Endpoint is missing\"\n",
    "assert \"openai.azure.com\" in RESOURCE_ENDPOINT.lower(), \"ERROR: Azure OpenAI Endpoint should be in the form: \\n\\n\\t<your unique endpoint identifier>.openai.azure.com\"\n",
    "COMPLETIONS_MODEL = os.getenv('DEPLOYMENT_NAME')\n",
    "\n",
    "os.environ[\"AZURE_OPENAI_API_KEY\"] = API_KEY\n",
    "os.environ[\"AZURE_OPENAI_ENDPOINT\"] = RESOURCE_ENDPOINT\n"
   ]
  },
  {
   "cell_type": "code",
   "execution_count": 3,
   "id": "d19f4a2a-04b9-4768-81bf-ba88ec5b43c7",
   "metadata": {
    "tags": []
   },
   "outputs": [],
   "source": [
    "from langchain_openai import AzureOpenAIEmbeddings\n",
    "from langchain_community.vectorstores.faiss import FAISS\n",
    "from langchain.text_splitter import CharacterTextSplitter\n",
    "from langchain_openai import AzureOpenAI\n",
    "from langchain.chains import RetrievalQA\n",
    "from langchain.chains import LLMChain\n",
    "from langchain.prompts import PromptTemplate"
   ]
  },
  {
   "cell_type": "markdown",
   "id": "df2b0b09-f85d-43aa-9f09-6b18edcc4b26",
   "metadata": {
    "nteract": {
     "transient": {
      "deleting": false
     }
    }
   },
   "source": [
    "### Indexando documentos em uma base vetorial\n"
   ]
  },
  {
   "cell_type": "code",
   "execution_count": 12,
   "id": "50487b49-5900-4c9d-a9a9-d70846b53a85",
   "metadata": {
    "tags": []
   },
   "outputs": [
    {
     "name": "stderr",
     "output_type": "stream",
     "text": [
      "Created a chunk of size 1234, which is longer than the specified 1000\n",
      "Created a chunk of size 10119, which is longer than the specified 1000\n",
      "Created a chunk of size 1038, which is longer than the specified 1000\n",
      "Created a chunk of size 1095, which is longer than the specified 1000\n",
      "Created a chunk of size 10119, which is longer than the specified 1000\n"
     ]
    },
    {
     "name": "stdout",
     "output_type": "stream",
     "text": [
      "done\n"
     ]
    }
   ],
   "source": [
    "from langchain.document_loaders import TextLoader\n",
    "loader = TextLoader(\"./data/constituicao.txt\", encoding=\"latin1\")\n",
    "documents = loader.load()\n",
    "text_splitter = CharacterTextSplitter(chunk_size=1000, chunk_overlap=0)\n",
    "texts = text_splitter.split_documents(documents)\n",
    "\n",
    "embeddings = AzureOpenAIEmbeddings(\n",
    "    azure_deployment=\"text-embedding-ada-002\",\n",
    "    openai_api_version=\"2023-05-15\",\n",
    "    chunk_size=1\n",
    ")\n",
    "docsearch = FAISS.from_documents(texts, embeddings)\n",
    "print('done')"
   ]
  },
  {
   "cell_type": "markdown",
   "id": "d8de9a2b-8ebd-4370-85c3-a6a1ddabc843",
   "metadata": {
    "nteract": {
     "transient": {
      "deleting": false
     }
    }
   },
   "source": [
    "### Buscando no documento\n"
   ]
  },
  {
   "cell_type": "code",
   "execution_count": 14,
   "id": "062083f2-a2a8-429f-bf74-9d1fa1310ae0",
   "metadata": {
    "tags": []
   },
   "outputs": [
    {
     "name": "stdout",
     "output_type": "stream",
     "text": [
      "Não há um percentual específico do fundo partidário que deve ser destinado a campanhas eleitorais de negros. No entanto, a Lei nº 9.504/1997, que estabelece normas para as eleições, determina que os partidos políticos devem destinar pelo menos 30% dos recursos do fundo partidário para a promoção da participação feminina na política. Além disso, a Lei nº 13.487/2017, que instituiu o Fundo Especial de Financiamento de Campanha (FEFC), estabelece que pelo menos 30% dos recursos devem ser destinados às candidaturas de mulheres. Portanto, é possível que parte desses recursos seja destinada a campanhas de candidatos negros, mas não há uma porcentagem específica para isso.\n"
     ]
    },
    {
     "data": {
      "text/plain": [
       "' 30% (trinta por cento)'"
      ]
     },
     "execution_count": 14,
     "metadata": {},
     "output_type": "execute_result"
    }
   ],
   "source": [
    "llm = AzureOpenAI(temperature=0, deployment_name=\"gpt-35-turbo-instruct\", model_name=\"gpt-35-turbo-instruct\", api_version='2023-05-15')\n",
    "\n",
    "qa = RetrievalQA.from_chain_type(llm=llm, chain_type=\"stuff\", retriever=docsearch.as_retriever())\n",
    "\n",
    "template = \"\"\"Question: {question}\n",
    "\n",
    "\"\"\"\n",
    "\n",
    "prompt = PromptTemplate(template=template, input_variables=[\"question\"])\n",
    "\n",
    "llm_chain = LLMChain(prompt=prompt, llm=llm)\n",
    "\n",
    "\n",
    "\n",
    "\n",
    "query = \"Qual o percentual do fundo partidário que deve ser destinado a campanhas eleitorais de negros?\"\n",
    "print(llm_chain.run(query))\n",
    "\n",
    "qa.run(query)"
   ]
  },
  {
   "cell_type": "markdown",
   "id": "77a56f6d-8d13-43e9-b301-cda9a45d0e34",
   "metadata": {
    "nteract": {
     "transient": {
      "deleting": false
     }
    }
   },
   "source": [
    "### Salvando o arquivo e carregando de novo\n"
   ]
  },
  {
   "cell_type": "code",
   "execution_count": 16,
   "id": "75d12d53-1bdd-428e-b71e-23d04ca17eda",
   "metadata": {
    "tags": []
   },
   "outputs": [],
   "source": [
    "docsearch.save_local('./data/constituicao/')\n",
    "\n",
    "\n",
    "loaded = FAISS.load_local('./data/constituicao/', embeddings, allow_dangerous_deserialization=True)\n"
   ]
  }
 ],
 "metadata": {
  "kernelspec": {
   "display_name": "Python 3 (ipykernel)",
   "language": "python",
   "name": "python3"
  },
  "language_info": {
   "codemirror_mode": {
    "name": "ipython",
    "version": 3
   },
   "file_extension": ".py",
   "mimetype": "text/x-python",
   "name": "python",
   "nbconvert_exporter": "python",
   "pygments_lexer": "ipython3",
   "version": "3.12.4"
  }
 },
 "nbformat": 4,
 "nbformat_minor": 5
}
