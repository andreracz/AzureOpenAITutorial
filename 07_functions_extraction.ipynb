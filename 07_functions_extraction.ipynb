{
 "cells": [
  {
   "cell_type": "markdown",
   "id": "e992deab-e6d6-4478-b58c-464d0dafc71d",
   "metadata": {},
   "source": [
    "# Functions\n",
    "\n",
    "Exemplo de extração de entidades com Functions\n"
   ]
  },
  {
   "cell_type": "code",
   "execution_count": 1,
   "id": "b4f5e0eb-d71b-4821-a160-6da1e810377e",
   "metadata": {
    "tags": []
   },
   "outputs": [],
   "source": [
    "import os\n",
    "from openai import AzureOpenAI\n",
    "from dotenv import load_dotenv\n",
    "load_dotenv()\n",
    "\n",
    "API_KEY = os.getenv(\"AZURE_OPENAI_API_KEY\",\"\").strip()\n",
    "assert API_KEY, \"ERROR: Azure OpenAI Key is missing\"\n",
    "\n",
    "RESOURCE_ENDPOINT = os.getenv(\"AZURE_OPENAI_API_BASE\",\"\").strip()\n",
    "assert RESOURCE_ENDPOINT, \"ERROR: Azure OpenAI Endpoint is missing\"\n",
    "assert \"openai.azure.com\" in RESOURCE_ENDPOINT.lower(), \"ERROR: Azure OpenAI Endpoint should be in the form: \\n\\n\\t<your unique endpoint identifier>.openai.azure.com\"\n",
    "\n",
    "client = AzureOpenAI(\n",
    "    api_version=os.getenv(\"AZURE_OPENAI_VERSION\",\"\"),\n",
    "    azure_endpoint=RESOURCE_ENDPOINT,\n",
    "    api_key = API_KEY,\n",
    ")\n"
   ]
  },
  {
   "cell_type": "code",
   "execution_count": 2,
   "id": "87ffc308-5fe5-41b5-8a95-3c5b7bdec610",
   "metadata": {
    "tags": []
   },
   "outputs": [],
   "source": [
    "def build_message(role, content):\n",
    "    return {\"role\":role, \"content\":content}"
   ]
  },
  {
   "cell_type": "code",
   "execution_count": 3,
   "id": "d62a995e",
   "metadata": {},
   "outputs": [],
   "source": [
    "tools = [\n",
    "    {\n",
    "        \"type\": \"function\",\n",
    "        \"function\": {\n",
    "            \"name\": \"contact-information-extraction\",\n",
    "            \"description\": \"report the contact information extracted from the text\",\n",
    "            \"parameters\": {\n",
    "                \"type\": \"object\",\n",
    "                \"properties\": {\n",
    "                    \"name\": {\n",
    "                        \"type\": \"string\",\n",
    "                        \"description\": \"name extracted from the text\",\n",
    "                    },\n",
    "                    \"email\": {\n",
    "                        \"type\": \"string\",\n",
    "                        \"description\": \"email extracted from the text\",\n",
    "                    },\n",
    "                    \"phone\": {\n",
    "                        \"type\": \"string\",\n",
    "                        \"description\": \"phone extracted from the text\",\n",
    "                    },\n",
    "                    \n",
    "\n",
    "                },\n",
    "                \"required\": [\"name\"],\n",
    "                \"additionalProperties\": False,\n",
    "            },\n",
    "        }\n",
    "    }\n",
    "]"
   ]
  },
  {
   "cell_type": "code",
   "execution_count": 4,
   "id": "2634b014-c3f1-4d25-a26a-7d62ee2c19b3",
   "metadata": {
    "tags": []
   },
   "outputs": [
    {
     "name": "stdout",
     "output_type": "stream",
     "text": [
      "ChatCompletionMessage(content=None, refusal=None, role='assistant', function_call=None, tool_calls=[ChatCompletionMessageToolCall(id='call_225EvoVwJyCBc1MzAjjyXlHk', function=Function(arguments='{\"name\":\"João\",\"email\":\"joao@contoso.com\"}', name='contact-information-extraction'), type='function')])\n"
     ]
    }
   ],
   "source": [
    "\n",
    "system_prompt = \"\"\"Você é um assistente para extrair informações de um texto.\"\"\"\n",
    "\n",
    "query = \"Olá, meu nome é João e meu email é joao@contoso.com\"\n",
    "\n",
    "messages = [ \n",
    "                build_message(\"system\", system_prompt),\n",
    "                build_message(\"user\", query),\n",
    "    \n",
    "           ]\n",
    "\n",
    "\n",
    "response = client.chat.completions.create(\n",
    "  model=\"gpt-4o\",\n",
    "  messages = messages,\n",
    "  temperature=1,\n",
    "  max_tokens=400,\n",
    "  top_p=0.95,\n",
    "  frequency_penalty=0,\n",
    "  presence_penalty=0,\n",
    "  stop=None,\n",
    "  tools=tools)\n",
    "\n",
    "response_message = response.choices[0].message\n",
    "print(response_message)"
   ]
  },
  {
   "cell_type": "code",
   "execution_count": 5,
   "id": "bcfed7dc-f31a-4554-bcbd-a68bf22da176",
   "metadata": {
    "tags": []
   },
   "outputs": [
    {
     "name": "stdout",
     "output_type": "stream",
     "text": [
      "ChatCompletionMessage(content=None, refusal=None, role='assistant', function_call=None, tool_calls=[ChatCompletionMessageToolCall(id='call_QOMRQiGmo4Ljg6O1qRsVXoWI', function=Function(arguments='{\"name\":\"Maria\",\"phone\":\"(11) 91234-5678\"}', name='contact-information-extraction'), type='function')])\n"
     ]
    }
   ],
   "source": [
    "query = \"Olá, meu nome é Maria e meu telefone é (11) 91234-5678\"\n",
    "\n",
    "messages = [ \n",
    "                build_message(\"system\", system_prompt),\n",
    "                build_message(\"user\", query),\n",
    "    \n",
    "           ]\n",
    "\n",
    "\n",
    "response = client.chat.completions.create(\n",
    "  model=\"gpt-4o\",\n",
    "  messages = messages,\n",
    "  temperature=1,\n",
    "  max_tokens=400,\n",
    "  top_p=0.95,\n",
    "  frequency_penalty=0,\n",
    "  presence_penalty=0,\n",
    "  stop=None,\n",
    "  tools=tools)\n",
    "\n",
    "response_message = response.choices[0].message\n",
    "print(response_message)\n"
   ]
  },
  {
   "cell_type": "code",
   "execution_count": 6,
   "id": "13432bcc-71cd-4fba-a4c8-2f589a254fe4",
   "metadata": {
    "tags": []
   },
   "outputs": [
    {
     "name": "stdout",
     "output_type": "stream",
     "text": [
      "ChatCompletionMessage(content=None, refusal=None, role='assistant', function_call=None, tool_calls=[ChatCompletionMessageToolCall(id='call_e0eeE94Zc1uf7XjP8wLSIWoz', function=Function(arguments='{\"name\":\"Maria\",\"email\":\"maria@contoso.com\",\"phone\":\"(11) 91234-5678\"}', name='contact-information-extraction'), type='function')])\n"
     ]
    }
   ],
   "source": [
    "query = \"Olá, meu nome é Maria e meu telefone é (11) 91234-5678 e meu e-mail é maria@contoso.com\"\n",
    "\n",
    "messages = [ \n",
    "                build_message(\"system\", system_prompt),\n",
    "                build_message(\"user\", query),\n",
    "    \n",
    "           ]\n",
    "\n",
    "\n",
    "response = client.chat.completions.create(\n",
    "  model=\"gpt-4o\",\n",
    "  messages = messages,\n",
    "  temperature=1,\n",
    "  max_tokens=400,\n",
    "  top_p=0.95,\n",
    "  frequency_penalty=0,\n",
    "  presence_penalty=0,\n",
    "  stop=None,\n",
    "  tools=tools)\n",
    "\n",
    "response_message = response.choices[0].message\n",
    "print(response_message)"
   ]
  },
  {
   "cell_type": "code",
   "execution_count": 7,
   "id": "b2bdb0ff",
   "metadata": {},
   "outputs": [
    {
     "name": "stdout",
     "output_type": "stream",
     "text": [
      "ChatCompletionMessage(content=None, refusal=None, role='assistant', function_call=None, tool_calls=[ChatCompletionMessageToolCall(id='call_I2KzIqCEAi5D7VUSRBELD9LC', function=Function(arguments='{\"name\": \"Maria\", \"email\": \"maria@contoso.com\", \"phone\": \"(11) 91234-5678\"}', name='contact-information-extraction'), type='function'), ChatCompletionMessageToolCall(id='call_JmMHiUNRtWFDoReBdmSgxmbO', function=Function(arguments='{\"name\": \"João\", \"email\": \"joao@contoso.com\", \"phone\": \"(11) 91234-5678\"}', name='contact-information-extraction'), type='function')])\n"
     ]
    }
   ],
   "source": [
    "query = \"Maria - telefone é (11) 91234-5678 - e-mail é maria@contoso.com. \\n João - telefone é (11) 91234-5678 - e-mail é joao@contoso.com\"\n",
    "\n",
    "messages = [ \n",
    "                build_message(\"system\", system_prompt),\n",
    "                build_message(\"user\", query),\n",
    "    \n",
    "           ]\n",
    "\n",
    "\n",
    "response = client.chat.completions.create(\n",
    "  model=\"gpt-4o\",\n",
    "  messages = messages,\n",
    "  temperature=1,\n",
    "  max_tokens=400,\n",
    "  top_p=0.95,\n",
    "  frequency_penalty=0,\n",
    "  presence_penalty=0,\n",
    "  stop=None,\n",
    "  tools=tools)\n",
    "\n",
    "response_message = response.choices[0].message\n",
    "print(response_message)"
   ]
  }
 ],
 "metadata": {
  "kernelspec": {
   "display_name": "Python 3 (ipykernel)",
   "language": "python",
   "name": "python3"
  },
  "language_info": {
   "codemirror_mode": {
    "name": "ipython",
    "version": 3
   },
   "file_extension": ".py",
   "mimetype": "text/x-python",
   "name": "python",
   "nbconvert_exporter": "python",
   "pygments_lexer": "ipython3",
   "version": "3.12.4"
  }
 },
 "nbformat": 4,
 "nbformat_minor": 5
}
