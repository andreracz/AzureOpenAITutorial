{
 "cells": [
  {
   "cell_type": "markdown",
   "id": "e992deab-e6d6-4478-b58c-464d0dafc71d",
   "metadata": {},
   "source": [
    "# Functions\n",
    "\n",
    "Exemplo de reserva de restaurantes com functions\n"
   ]
  },
  {
   "cell_type": "code",
   "execution_count": 1,
   "id": "b4f5e0eb-d71b-4821-a160-6da1e810377e",
   "metadata": {
    "tags": []
   },
   "outputs": [],
   "source": [
    "import os\n",
    "from openai import AzureOpenAI\n",
    "from dotenv import load_dotenv\n",
    "load_dotenv()\n",
    "\n",
    "API_KEY = os.getenv(\"AZURE_OPENAI_API_KEY\",\"\").strip()\n",
    "assert API_KEY, \"ERROR: Azure OpenAI Key is missing\"\n",
    "\n",
    "RESOURCE_ENDPOINT = os.getenv(\"AZURE_OPENAI_API_BASE\",\"\").strip()\n",
    "assert RESOURCE_ENDPOINT, \"ERROR: Azure OpenAI Endpoint is missing\"\n",
    "assert \"openai.azure.com\" in RESOURCE_ENDPOINT.lower(), \"ERROR: Azure OpenAI Endpoint should be in the form: \\n\\n\\t<your unique endpoint identifier>.openai.azure.com\"\n",
    "\n",
    "client = AzureOpenAI(\n",
    "    api_version=os.getenv(\"AZURE_OPENAI_VERSION\",\"\"),\n",
    "    azure_endpoint=RESOURCE_ENDPOINT,\n",
    "    api_key = API_KEY,\n",
    ")\n"
   ]
  },
  {
   "cell_type": "code",
   "execution_count": 2,
   "id": "87ffc308-5fe5-41b5-8a95-3c5b7bdec610",
   "metadata": {
    "tags": []
   },
   "outputs": [],
   "source": [
    "def build_message(role, content):\n",
    "    return {\"role\":role, \"content\":content}"
   ]
  },
  {
   "cell_type": "code",
   "execution_count": 3,
   "id": "d62a995e",
   "metadata": {},
   "outputs": [],
   "source": [
    "tools = [\n",
    "    {\n",
    "        \"type\": \"function\",\n",
    "        \"function\": {\n",
    "            \"name\": \"bookRestaurant\",\n",
    "            \"description\": \"Book a restaurant\",\n",
    "            \"parameters\": {\n",
    "                \"type\": \"object\",\n",
    "                \"properties\": {\n",
    "                    \"name\": {\n",
    "                        \"type\": \"string\",\n",
    "                        \"description\": \"name of the restaurant\",\n",
    "                    },\n",
    "                    \"persons\": {\n",
    "                        \"type\": \"integer\",\n",
    "                        \"description\": \"quantity of persons for the reservation\",\n",
    "                    },\n",
    "                    \"date\": {\n",
    "                        \"type\": \"string\",\n",
    "                        \"description\": \"date for the reservation\",\n",
    "                    },\n",
    "                    \"time\": {\n",
    "                        \"type\": \"string\",\n",
    "                        \"description\": \"time for the reservation\",\n",
    "                    }\n",
    "                    \n",
    "\n",
    "                },\n",
    "                \"required\": [\"name\", \"persons\", \"date\", \"time\"],\n",
    "                \"additionalProperties\": False,\n",
    "            },\n",
    "        }\n",
    "    }\n",
    "]"
   ]
  },
  {
   "cell_type": "code",
   "execution_count": 15,
   "id": "2634b014-c3f1-4d25-a26a-7d62ee2c19b3",
   "metadata": {
    "tags": []
   },
   "outputs": [
    {
     "name": "stdout",
     "output_type": "stream",
     "text": [
      "ChatCompletionMessage(content='Olá! Como posso ajudar você hoje? Está procurando um restaurante ou gostaria de fazer uma reserva?', refusal=None, role='assistant', function_call=None, tool_calls=None)\n"
     ]
    }
   ],
   "source": [
    "\n",
    "system_prompt = \"\"\"Você é um assistente virtual que ajuda as pessoas a encontrar um restaurante e fazer uma reserva. Data atual: 2024-09-04.\"\"\"\n",
    "\n",
    "query = \"Olá\"\n",
    "\n",
    "messages = [ \n",
    "                build_message(\"system\", system_prompt),\n",
    "                build_message(\"user\", query),\n",
    "    \n",
    "           ]\n",
    "\n",
    "\n",
    "response = client.chat.completions.create(\n",
    "  model=\"gpt-4o\",\n",
    "  messages = messages,\n",
    "  temperature=1,\n",
    "  max_tokens=400,\n",
    "  top_p=0.95,\n",
    "  frequency_penalty=0,\n",
    "  presence_penalty=0,\n",
    "  stop=None,\n",
    "  tools=tools)\n",
    "\n",
    "response_message = response.choices[0].message\n",
    "print(response_message)\n",
    "\n",
    "messages.append(build_message(\"assistant\", response_message.content))"
   ]
  },
  {
   "cell_type": "code",
   "execution_count": 16,
   "id": "bcfed7dc-f31a-4554-bcbd-a68bf22da176",
   "metadata": {
    "tags": []
   },
   "outputs": [
    {
     "name": "stdout",
     "output_type": "stream",
     "text": [
      "ChatCompletionMessage(content='Ótimo! Aqui estão alguns restaurantes mexicanos em São Paulo que você pode gostar:\\n\\n1. **Mé Taco**\\n   - Endereço: R. Augusta, 430 - Consolação, São Paulo - SP\\n   - Descrição: Conhecido por seus tacos autênticos e atmosfera descontraída.\\n\\n2. **La Mexicana**\\n   - Endereço: Av. São Luís, 86 - República, São Paulo - SP\\n   - Descrição: Um lugar tradicional com pratos típicos mexicanos.\\n\\n3. **Yucatán**\\n   - Endereço: R. dos Três Irmãos, 158 - Vila Progredior, São Paulo - SP\\n   - Descrição: Restaurante com ambiente acolhedor e diversas opções de pratos mexicanos.\\n\\nVocê gostaria de mais informações sobre algum desses restaurantes ou deseja fazer uma reserva?', refusal=None, role='assistant', function_call=None, tool_calls=None)\n"
     ]
    }
   ],
   "source": [
    "messages.append(build_message(\"user\", \"Quero um restaurante mexicano em São Paulo\"))\n",
    "\n",
    "\n",
    "response = client.chat.completions.create(\n",
    "  model=\"gpt-4o\",\n",
    "  messages = messages,\n",
    "  temperature=1,\n",
    "  max_tokens=400,\n",
    "  top_p=0.95,\n",
    "  frequency_penalty=0,\n",
    "  presence_penalty=0,\n",
    "  stop=None,\n",
    "  tools=tools)\n",
    "\n",
    "response_message = response.choices[0].message\n",
    "print(response_message)\n",
    "\n",
    "messages.append(build_message(\"assistant\", response_message.content))\n"
   ]
  },
  {
   "cell_type": "code",
   "execution_count": 17,
   "id": "13432bcc-71cd-4fba-a4c8-2f589a254fe4",
   "metadata": {
    "tags": []
   },
   "outputs": [
    {
     "name": "stdout",
     "output_type": "stream",
     "text": [
      "ChatCompletionMessage(content=None, refusal=None, role='assistant', function_call=None, tool_calls=[ChatCompletionMessageToolCall(id='call_CfgRPqIpSYECYaOxR9KidGri', function=Function(arguments='{\"name\":\"Hecho em México\",\"persons\":2,\"date\":\"2024-09-10\",\"time\":\"19:00\"}', name='bookRestaurant'), type='function')])\n"
     ]
    }
   ],
   "source": [
    "\n",
    "messages.append(build_message(\"user\", \"Quero fazer uma reserva para 2 pessoas no Hecho em México no dia 10 de setembro às 19h\"))\n",
    "\n",
    "\n",
    "response = client.chat.completions.create(\n",
    "  model=\"gpt-4o\",\n",
    "  messages = messages,\n",
    "  temperature=1,\n",
    "  max_tokens=400,\n",
    "  top_p=0.95,\n",
    "  frequency_penalty=0,\n",
    "  presence_penalty=0,\n",
    "  stop=None,\n",
    "  tools=tools)\n",
    "\n",
    "response_message = response.choices[0].message\n",
    "print(response_message)\n",
    "\n",
    "messages.append(response_message)"
   ]
  },
  {
   "cell_type": "code",
   "execution_count": 18,
   "id": "b2bdb0ff",
   "metadata": {},
   "outputs": [
    {
     "name": "stdout",
     "output_type": "stream",
     "text": [
      "ChatCompletionMessage(content='Sua reserva para 2 pessoas no restaurante \"Hecho em México\" no dia 10 de setembro às 19h foi confirmada. \\n\\nSe precisar de mais alguma coisa, é só me avisar! Aproveite sua refeição!', refusal=None, role='assistant', function_call=None, tool_calls=None)\n"
     ]
    }
   ],
   "source": [
    "\n",
    "messages.append(build_message(\"tool\", \"'OK'\"))\n",
    "messages[-1][\"tool_call_id\"] = messages[-2].tool_calls[0].id\t\n",
    "\n",
    "response = client.chat.completions.create(\n",
    "  model=\"gpt-4o\",\n",
    "  messages = messages,\n",
    "  temperature=1,\n",
    "  max_tokens=400,\n",
    "  top_p=0.95,\n",
    "  frequency_penalty=0,\n",
    "  presence_penalty=0,\n",
    "  stop=None,\n",
    "  tools=tools)\n",
    "\n",
    "response_message = response.choices[0].message\n",
    "print(response_message)\n",
    "\n",
    "messages.append(build_message(\"assistant\", response_message.content))"
   ]
  },
  {
   "cell_type": "code",
   "execution_count": 19,
   "id": "d788b173",
   "metadata": {},
   "outputs": [
    {
     "data": {
      "text/plain": [
       "[{'role': 'system',\n",
       "  'content': 'Você é um assistente virtual que ajuda as pessoas a encontrar um restaurante e fazer uma reserva. Data atual: 2024-09-04.'},\n",
       " {'role': 'user', 'content': 'Olá'},\n",
       " {'role': 'assistant',\n",
       "  'content': 'Olá! Como posso ajudar você hoje? Está procurando um restaurante ou gostaria de fazer uma reserva?'},\n",
       " {'role': 'user', 'content': 'Quero um restaurante mexicano em São Paulo'},\n",
       " {'role': 'assistant',\n",
       "  'content': 'Ótimo! Aqui estão alguns restaurantes mexicanos em São Paulo que você pode gostar:\\n\\n1. **Mé Taco**\\n   - Endereço: R. Augusta, 430 - Consolação, São Paulo - SP\\n   - Descrição: Conhecido por seus tacos autênticos e atmosfera descontraída.\\n\\n2. **La Mexicana**\\n   - Endereço: Av. São Luís, 86 - República, São Paulo - SP\\n   - Descrição: Um lugar tradicional com pratos típicos mexicanos.\\n\\n3. **Yucatán**\\n   - Endereço: R. dos Três Irmãos, 158 - Vila Progredior, São Paulo - SP\\n   - Descrição: Restaurante com ambiente acolhedor e diversas opções de pratos mexicanos.\\n\\nVocê gostaria de mais informações sobre algum desses restaurantes ou deseja fazer uma reserva?'},\n",
       " {'role': 'user',\n",
       "  'content': 'Quero fazer uma reserva para 2 pessoas no Hecho em México no dia 10 de setembro às 19h'},\n",
       " ChatCompletionMessage(content=None, refusal=None, role='assistant', function_call=None, tool_calls=[ChatCompletionMessageToolCall(id='call_CfgRPqIpSYECYaOxR9KidGri', function=Function(arguments='{\"name\":\"Hecho em México\",\"persons\":2,\"date\":\"2024-09-10\",\"time\":\"19:00\"}', name='bookRestaurant'), type='function')]),\n",
       " {'role': 'tool',\n",
       "  'content': \"'OK'\",\n",
       "  'tool_call_id': 'call_CfgRPqIpSYECYaOxR9KidGri'},\n",
       " {'role': 'assistant',\n",
       "  'content': 'Sua reserva para 2 pessoas no restaurante \"Hecho em México\" no dia 10 de setembro às 19h foi confirmada. \\n\\nSe precisar de mais alguma coisa, é só me avisar! Aproveite sua refeição!'}]"
      ]
     },
     "execution_count": 19,
     "metadata": {},
     "output_type": "execute_result"
    }
   ],
   "source": [
    "messages"
   ]
  }
 ],
 "metadata": {
  "kernelspec": {
   "display_name": "Python 3 (ipykernel)",
   "language": "python",
   "name": "python3"
  },
  "language_info": {
   "codemirror_mode": {
    "name": "ipython",
    "version": 3
   },
   "file_extension": ".py",
   "mimetype": "text/x-python",
   "name": "python",
   "nbconvert_exporter": "python",
   "pygments_lexer": "ipython3",
   "version": "3.12.4"
  }
 },
 "nbformat": 4,
 "nbformat_minor": 5
}
