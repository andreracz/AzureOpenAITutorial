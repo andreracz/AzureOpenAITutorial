{
 "cells": [
  {
   "cell_type": "markdown",
   "id": "e992deab-e6d6-4478-b58c-464d0dafc71d",
   "metadata": {},
   "source": [
    "# Functions\n",
    "\n",
    "Exemplo de chatbot para banco com Functions"
   ]
  },
  {
   "cell_type": "code",
   "execution_count": 12,
   "id": "b4f5e0eb-d71b-4821-a160-6da1e810377e",
   "metadata": {
    "tags": []
   },
   "outputs": [],
   "source": [
    "import os\n",
    "from openai import AzureOpenAI\n",
    "from dotenv import load_dotenv\n",
    "load_dotenv()\n",
    "\n",
    "API_KEY = os.getenv(\"AZURE_OPENAI_API_KEY\",\"\").strip()\n",
    "assert API_KEY, \"ERROR: Azure OpenAI Key is missing\"\n",
    "\n",
    "RESOURCE_ENDPOINT = os.getenv(\"AZURE_OPENAI_API_BASE\",\"\").strip()\n",
    "assert RESOURCE_ENDPOINT, \"ERROR: Azure OpenAI Endpoint is missing\"\n",
    "assert \"openai.azure.com\" in RESOURCE_ENDPOINT.lower(), \"ERROR: Azure OpenAI Endpoint should be in the form: \\n\\n\\t<your unique endpoint identifier>.openai.azure.com\"\n",
    "\n",
    "client = AzureOpenAI(\n",
    "    api_version=os.getenv(\"AZURE_OPENAI_VERSION\",\"\"),\n",
    "    azure_endpoint=RESOURCE_ENDPOINT,\n",
    "    api_key = API_KEY,\n",
    ")\n"
   ]
  },
  {
   "cell_type": "code",
   "execution_count": 13,
   "id": "87ffc308-5fe5-41b5-8a95-3c5b7bdec610",
   "metadata": {
    "tags": []
   },
   "outputs": [],
   "source": [
    "def build_message(role, content):\n",
    "    return {\"role\":role, \"content\":content}"
   ]
  },
  {
   "cell_type": "code",
   "execution_count": 14,
   "id": "d62a995e",
   "metadata": {},
   "outputs": [],
   "source": [
    "from bankdomain import BankFunctions, Boleto, ContaCorrente\n",
    "\n",
    "functions = BankFunctions(ContaCorrente(numero=\"123\", saldo=1000, apelido=\"conta principal\"),[\n",
    "        Boleto(100, \"123\", \"Escola\"),\n",
    "        Boleto(200, \"456\", \"Escola\"),\n",
    "        Boleto(1200, \"789\", \"Escola\"),\n",
    "    ],\n",
    "    [\n",
    "        ContaCorrente(numero=\"987\", saldo=0, apelido=\"André\"),\n",
    "        ContaCorrente(numero=\"654\", saldo=0, apelido=\"João\"),\n",
    "    ])\n",
    "\n",
    "tools = []\n",
    "for function in functions.get_functions():\n",
    "    tools.append({\"type\": \"function\", \"function\": function})\n",
    "\n"
   ]
  },
  {
   "cell_type": "code",
   "execution_count": 15,
   "id": "2634b014-c3f1-4d25-a26a-7d62ee2c19b3",
   "metadata": {
    "tags": []
   },
   "outputs": [
    {
     "name": "stdout",
     "output_type": "stream",
     "text": [
      "ChatCompletionMessage(content='Olá! Como posso ajudar você hoje?', refusal=None, role='assistant', function_call=None, tool_calls=None)\n"
     ]
    }
   ],
   "source": [
    "system_prompt = \"\"\"\"Voce é um assistente bancário que ajuda um cliente a transacionar em usa conta. Seja solicito e educado.\", \"Este é uma simulação de um assistente bancário, que simula um bot de operações bancárias com linguagem natural.\\nSe tiver dúvidas das capacidades, pergunte o que ele pode fazer.\" Data atual: 2024-09-04.\"\"\"\n",
    "\n",
    "query = \"Olá\"\n",
    "\n",
    "messages = [ \n",
    "                build_message(\"system\", system_prompt),\n",
    "                build_message(\"user\", query),\n",
    "    \n",
    "           ]\n",
    "\n",
    "\n",
    "response = client.chat.completions.create(\n",
    "  model=\"gpt-4o\",\n",
    "  messages = messages,\n",
    "  temperature=1,\n",
    "  max_tokens=400,\n",
    "  top_p=0.95,\n",
    "  frequency_penalty=0,\n",
    "  presence_penalty=0,\n",
    "  stop=None,\n",
    "  tools=tools)\n",
    "\n",
    "response_message = response.choices[0].message\n",
    "print(response_message)\n",
    "\n",
    "messages.append(build_message(\"assistant\", response_message.content))"
   ]
  },
  {
   "cell_type": "code",
   "execution_count": 16,
   "id": "59cd593f",
   "metadata": {},
   "outputs": [],
   "source": [
    "import json\n",
    "\n",
    "def todict(obj):\n",
    "    tool_calls = None\n",
    "    if (obj.tool_calls is not None):\n",
    "        tool_calls = []\n",
    "        for tool_call in obj.tool_calls:\n",
    "            tool_calls.append({\"id\": tool_call.id, \"function\": {\"name\": tool_call.function.name, \"arguments\": tool_call.function.arguments}, \"type\": tool_call.type})\n",
    "    return {\"content\": obj.content, \"role\": obj.role, \"tool_calls\": tool_calls}\n",
    "\n",
    "def function_call(functionsObject, messages):\n",
    "        try:\n",
    "            print('function_call')\n",
    "            #for message in chat_context[\"conversation\"]:\n",
    "            #    print(message[\"role\"])\n",
    "            #    print(message[\"content\"])\n",
    "            \n",
    "            response_message = client.chat.completions.create(\n",
    "                model=\"gpt-4o\",\n",
    "                messages=messages,\n",
    "                tools=tools,\n",
    "                tool_choice=\"auto\", \n",
    "            ).choices[0].message\n",
    "            print(response_message)\n",
    "            if response_message.tool_calls is not None:\n",
    "                messages.append( # adding assistant response to messages\n",
    "                    todict(response_message)\n",
    "                )\n",
    "                for tool_call in response_message.tool_calls:\n",
    "                        # Call the function. The JSON response may not always be valid so make sure to handle errors\n",
    "                    function_name = tool_call.function.name\n",
    "                    function_args = json.loads(tool_call.function.arguments)\n",
    "                    function_response = getattr(functionsObject, function_name)(**function_args)\n",
    "                    messages.append( # adding function response to messages\n",
    "                        {\n",
    "                            \"tool_call_id\": tool_call.id,\n",
    "                            \"role\": \"tool\",\n",
    "                            \"name\": function_name,\n",
    "                            \"content\": json.dumps(function_response),\n",
    "                        }\n",
    "                    ) \n",
    "                return function_call(functionsObject, messages)\n",
    "            else:\n",
    "                print(\"not function\")\n",
    "                messages.append( # adding assistant response to messages\n",
    "                    {\n",
    "                        \"role\": response_message.role,\n",
    "                        \"content\": response_message.content,\n",
    "                    }\n",
    "                )\n",
    "                print(messages)\n",
    "                return \n",
    "        except Exception as e:\n",
    "            print(e)\n",
    "            return"
   ]
  },
  {
   "cell_type": "code",
   "execution_count": 17,
   "id": "bcfed7dc-f31a-4554-bcbd-a68bf22da176",
   "metadata": {
    "tags": []
   },
   "outputs": [
    {
     "name": "stdout",
     "output_type": "stream",
     "text": [
      "function_call\n",
      "ChatCompletionMessage(content=None, refusal=None, role='assistant', function_call=None, tool_calls=[ChatCompletionMessageToolCall(id='call_79Y4bXaN1Ir5pjVwdwpABwqd', function=Function(arguments='{}', name='saldo'), type='function')])\n",
      "function_call\n",
      "ChatCompletionMessage(content='O saldo da sua conta é R$ 1.000,00. Há algo mais que eu possa ajudar?', refusal=None, role='assistant', function_call=None, tool_calls=None)\n",
      "not function\n",
      "[{'role': 'system', 'content': '\"Voce é um assistente bancário que ajuda um cliente a transacionar em usa conta. Seja solicito e educado.\", \"Este é uma simulação de um assistente bancário, que simula um bot de operações bancárias com linguagem natural.\\nSe tiver dúvidas das capacidades, pergunte o que ele pode fazer.\" Data atual: 2024-09-04.'}, {'role': 'user', 'content': 'Olá'}, {'role': 'assistant', 'content': 'Olá! Como posso ajudar você hoje?'}, {'role': 'user', 'content': 'Qual é o saldo da minha conta?'}, {'content': None, 'role': 'assistant', 'tool_calls': [{'id': 'call_79Y4bXaN1Ir5pjVwdwpABwqd', 'function': {'name': 'saldo', 'arguments': '{}'}, 'type': 'function'}]}, {'tool_call_id': 'call_79Y4bXaN1Ir5pjVwdwpABwqd', 'role': 'tool', 'name': 'saldo', 'content': '1000'}, {'role': 'assistant', 'content': 'O saldo da sua conta é R$ 1.000,00. Há algo mais que eu possa ajudar?'}]\n"
     ]
    },
    {
     "data": {
      "text/plain": [
       "[{'role': 'system',\n",
       "  'content': '\"Voce é um assistente bancário que ajuda um cliente a transacionar em usa conta. Seja solicito e educado.\", \"Este é uma simulação de um assistente bancário, que simula um bot de operações bancárias com linguagem natural.\\nSe tiver dúvidas das capacidades, pergunte o que ele pode fazer.\" Data atual: 2024-09-04.'},\n",
       " {'role': 'user', 'content': 'Olá'},\n",
       " {'role': 'assistant', 'content': 'Olá! Como posso ajudar você hoje?'},\n",
       " {'role': 'user', 'content': 'Qual é o saldo da minha conta?'},\n",
       " {'content': None,\n",
       "  'role': 'assistant',\n",
       "  'tool_calls': [{'id': 'call_79Y4bXaN1Ir5pjVwdwpABwqd',\n",
       "    'function': {'name': 'saldo', 'arguments': '{}'},\n",
       "    'type': 'function'}]},\n",
       " {'tool_call_id': 'call_79Y4bXaN1Ir5pjVwdwpABwqd',\n",
       "  'role': 'tool',\n",
       "  'name': 'saldo',\n",
       "  'content': '1000'},\n",
       " {'role': 'assistant',\n",
       "  'content': 'O saldo da sua conta é R$ 1.000,00. Há algo mais que eu possa ajudar?'}]"
      ]
     },
     "execution_count": 17,
     "metadata": {},
     "output_type": "execute_result"
    }
   ],
   "source": [
    "messages.append(build_message(\"user\", \"Qual é o saldo da minha conta?\"))\n",
    "\n",
    "function_call(functions, messages)\n",
    "\n",
    "messages"
   ]
  },
  {
   "cell_type": "code",
   "execution_count": 18,
   "id": "13432bcc-71cd-4fba-a4c8-2f589a254fe4",
   "metadata": {
    "tags": []
   },
   "outputs": [
    {
     "name": "stdout",
     "output_type": "stream",
     "text": [
      "function_call\n",
      "ChatCompletionMessage(content='Vou começar verificando os boletos pendentes. Em seguida, farei os pagamentos possíveis e a transferência solicitada. Um momento, por favor.', refusal=None, role='assistant', function_call=None, tool_calls=[ChatCompletionMessageToolCall(id='call_BG4g80PJo74eJf7zwpMSXqJF', function=Function(arguments='{}', name='boletos_pendentes'), type='function')])\n",
      "function_call\n",
      "ChatCompletionMessage(content='Aqui estão os boletos pendentes encontrados:\\n\\n1. Boleto número 123 - Valor: R$ 100,00\\n2. Boleto número 456 - Valor: R$ 200,00\\n3. Boleto número 789 - Valor: R$ 1200,00\\n\\nLevando em consideração que o saldo atual é de R$ 1.000,00, vou prosseguir com o pagamento dos boletos que estão dentro deste limite e em seguida farei a transferência de R$ 200,00 para a conta do João. \\n\\nVou começar pagando os boletos de R$ 100,00 e R$ 200,00.', refusal=None, role='assistant', function_call=None, tool_calls=[ChatCompletionMessageToolCall(id='call_ZC7tV5hXLGChfpu7HvR9O63B', function=Function(arguments='{\"numero_boleto\": \"123\"}', name='pagarBoleto'), type='function'), ChatCompletionMessageToolCall(id='call_Xhh8rEfNnMZ6pNVD0GbZGFad', function=Function(arguments='{\"numero_boleto\": \"456\"}', name='pagarBoleto'), type='function')])\n",
      "function_call\n",
      "ChatCompletionMessage(content='Os boletos de R$ 100,00 e R$ 200,00 foram pagos com sucesso. \\n\\nAgora, vou prosseguir com a transferência de R$ 200,00 para a conta do João. Primeiro, vou obter o número da conta dele pelo apelido \"João\".', refusal=None, role='assistant', function_call=None, tool_calls=[ChatCompletionMessageToolCall(id='call_II57ZaH5XTG3pWMdtdacCFqe', function=Function(arguments='{\"apelido\":\"João\"}', name='obter_numero_conta_por_apelido'), type='function')])\n",
      "function_call\n",
      "ChatCompletionMessage(content=None, refusal=None, role='assistant', function_call=None, tool_calls=[ChatCompletionMessageToolCall(id='call_n4C6BytEbVRZixZiamdJZntd', function=Function(arguments='{\"valor\":200,\"numero_conta_destino\":\"654\"}', name='transferir'), type='function')])\n",
      "function_call\n",
      "ChatCompletionMessage(content='Todos os procedimentos foram realizados com sucesso:\\n\\n- Os boletos de R$ 100,00 e R$ 200,00 foram pagos.\\n- A transferência de R$ 200,00 para a conta do João foi realizada com sucesso.\\n\\nPosso ajudar com mais alguma coisa?', refusal=None, role='assistant', function_call=None, tool_calls=None)\n",
      "not function\n",
      "[{'role': 'system', 'content': '\"Voce é um assistente bancário que ajuda um cliente a transacionar em usa conta. Seja solicito e educado.\", \"Este é uma simulação de um assistente bancário, que simula um bot de operações bancárias com linguagem natural.\\nSe tiver dúvidas das capacidades, pergunte o que ele pode fazer.\" Data atual: 2024-09-04.'}, {'role': 'user', 'content': 'Olá'}, {'role': 'assistant', 'content': 'Olá! Como posso ajudar você hoje?'}, {'role': 'user', 'content': 'Qual é o saldo da minha conta?'}, {'content': None, 'role': 'assistant', 'tool_calls': [{'id': 'call_79Y4bXaN1Ir5pjVwdwpABwqd', 'function': {'name': 'saldo', 'arguments': '{}'}, 'type': 'function'}]}, {'tool_call_id': 'call_79Y4bXaN1Ir5pjVwdwpABwqd', 'role': 'tool', 'name': 'saldo', 'content': '1000'}, {'role': 'assistant', 'content': 'O saldo da sua conta é R$ 1.000,00. Há algo mais que eu possa ajudar?'}, {'role': 'user', 'content': 'Pague todos os boletos pendentes que não estouram o saldo e depois transfira 200 reais para a conta do João.'}, {'content': 'Vou começar verificando os boletos pendentes. Em seguida, farei os pagamentos possíveis e a transferência solicitada. Um momento, por favor.', 'role': 'assistant', 'tool_calls': [{'id': 'call_BG4g80PJo74eJf7zwpMSXqJF', 'function': {'name': 'boletos_pendentes', 'arguments': '{}'}, 'type': 'function'}]}, {'tool_call_id': 'call_BG4g80PJo74eJf7zwpMSXqJF', 'role': 'tool', 'name': 'boletos_pendentes', 'content': '\"Boleto Pendentes:\\\\nNumero: 123 - Valor: 100\\\\nNumero: 456 - Valor: 200\\\\nNumero: 789 - Valor: 1200\"'}, {'content': 'Aqui estão os boletos pendentes encontrados:\\n\\n1. Boleto número 123 - Valor: R$ 100,00\\n2. Boleto número 456 - Valor: R$ 200,00\\n3. Boleto número 789 - Valor: R$ 1200,00\\n\\nLevando em consideração que o saldo atual é de R$ 1.000,00, vou prosseguir com o pagamento dos boletos que estão dentro deste limite e em seguida farei a transferência de R$ 200,00 para a conta do João. \\n\\nVou começar pagando os boletos de R$ 100,00 e R$ 200,00.', 'role': 'assistant', 'tool_calls': [{'id': 'call_ZC7tV5hXLGChfpu7HvR9O63B', 'function': {'name': 'pagarBoleto', 'arguments': '{\"numero_boleto\": \"123\"}'}, 'type': 'function'}, {'id': 'call_Xhh8rEfNnMZ6pNVD0GbZGFad', 'function': {'name': 'pagarBoleto', 'arguments': '{\"numero_boleto\": \"456\"}'}, 'type': 'function'}]}, {'tool_call_id': 'call_ZC7tV5hXLGChfpu7HvR9O63B', 'role': 'tool', 'name': 'pagarBoleto', 'content': '\"Boleto pago com sucesso\"'}, {'tool_call_id': 'call_Xhh8rEfNnMZ6pNVD0GbZGFad', 'role': 'tool', 'name': 'pagarBoleto', 'content': '\"Boleto pago com sucesso\"'}, {'content': 'Os boletos de R$ 100,00 e R$ 200,00 foram pagos com sucesso. \\n\\nAgora, vou prosseguir com a transferência de R$ 200,00 para a conta do João. Primeiro, vou obter o número da conta dele pelo apelido \"João\".', 'role': 'assistant', 'tool_calls': [{'id': 'call_II57ZaH5XTG3pWMdtdacCFqe', 'function': {'name': 'obter_numero_conta_por_apelido', 'arguments': '{\"apelido\":\"João\"}'}, 'type': 'function'}]}, {'tool_call_id': 'call_II57ZaH5XTG3pWMdtdacCFqe', 'role': 'tool', 'name': 'obter_numero_conta_por_apelido', 'content': '\"654\"'}, {'content': None, 'role': 'assistant', 'tool_calls': [{'id': 'call_n4C6BytEbVRZixZiamdJZntd', 'function': {'name': 'transferir', 'arguments': '{\"valor\":200,\"numero_conta_destino\":\"654\"}'}, 'type': 'function'}]}, {'tool_call_id': 'call_n4C6BytEbVRZixZiamdJZntd', 'role': 'tool', 'name': 'transferir', 'content': '\"Transfer\\\\u00eancia realizada com sucesso\"'}, {'role': 'assistant', 'content': 'Todos os procedimentos foram realizados com sucesso:\\n\\n- Os boletos de R$ 100,00 e R$ 200,00 foram pagos.\\n- A transferência de R$ 200,00 para a conta do João foi realizada com sucesso.\\n\\nPosso ajudar com mais alguma coisa?'}]\n"
     ]
    },
    {
     "data": {
      "text/plain": [
       "[{'role': 'system',\n",
       "  'content': '\"Voce é um assistente bancário que ajuda um cliente a transacionar em usa conta. Seja solicito e educado.\", \"Este é uma simulação de um assistente bancário, que simula um bot de operações bancárias com linguagem natural.\\nSe tiver dúvidas das capacidades, pergunte o que ele pode fazer.\" Data atual: 2024-09-04.'},\n",
       " {'role': 'user', 'content': 'Olá'},\n",
       " {'role': 'assistant', 'content': 'Olá! Como posso ajudar você hoje?'},\n",
       " {'role': 'user', 'content': 'Qual é o saldo da minha conta?'},\n",
       " {'content': None,\n",
       "  'role': 'assistant',\n",
       "  'tool_calls': [{'id': 'call_79Y4bXaN1Ir5pjVwdwpABwqd',\n",
       "    'function': {'name': 'saldo', 'arguments': '{}'},\n",
       "    'type': 'function'}]},\n",
       " {'tool_call_id': 'call_79Y4bXaN1Ir5pjVwdwpABwqd',\n",
       "  'role': 'tool',\n",
       "  'name': 'saldo',\n",
       "  'content': '1000'},\n",
       " {'role': 'assistant',\n",
       "  'content': 'O saldo da sua conta é R$ 1.000,00. Há algo mais que eu possa ajudar?'},\n",
       " {'role': 'user',\n",
       "  'content': 'Pague todos os boletos pendentes que não estouram o saldo e depois transfira 200 reais para a conta do João.'},\n",
       " {'content': 'Vou começar verificando os boletos pendentes. Em seguida, farei os pagamentos possíveis e a transferência solicitada. Um momento, por favor.',\n",
       "  'role': 'assistant',\n",
       "  'tool_calls': [{'id': 'call_BG4g80PJo74eJf7zwpMSXqJF',\n",
       "    'function': {'name': 'boletos_pendentes', 'arguments': '{}'},\n",
       "    'type': 'function'}]},\n",
       " {'tool_call_id': 'call_BG4g80PJo74eJf7zwpMSXqJF',\n",
       "  'role': 'tool',\n",
       "  'name': 'boletos_pendentes',\n",
       "  'content': '\"Boleto Pendentes:\\\\nNumero: 123 - Valor: 100\\\\nNumero: 456 - Valor: 200\\\\nNumero: 789 - Valor: 1200\"'},\n",
       " {'content': 'Aqui estão os boletos pendentes encontrados:\\n\\n1. Boleto número 123 - Valor: R$ 100,00\\n2. Boleto número 456 - Valor: R$ 200,00\\n3. Boleto número 789 - Valor: R$ 1200,00\\n\\nLevando em consideração que o saldo atual é de R$ 1.000,00, vou prosseguir com o pagamento dos boletos que estão dentro deste limite e em seguida farei a transferência de R$ 200,00 para a conta do João. \\n\\nVou começar pagando os boletos de R$ 100,00 e R$ 200,00.',\n",
       "  'role': 'assistant',\n",
       "  'tool_calls': [{'id': 'call_ZC7tV5hXLGChfpu7HvR9O63B',\n",
       "    'function': {'name': 'pagarBoleto',\n",
       "     'arguments': '{\"numero_boleto\": \"123\"}'},\n",
       "    'type': 'function'},\n",
       "   {'id': 'call_Xhh8rEfNnMZ6pNVD0GbZGFad',\n",
       "    'function': {'name': 'pagarBoleto',\n",
       "     'arguments': '{\"numero_boleto\": \"456\"}'},\n",
       "    'type': 'function'}]},\n",
       " {'tool_call_id': 'call_ZC7tV5hXLGChfpu7HvR9O63B',\n",
       "  'role': 'tool',\n",
       "  'name': 'pagarBoleto',\n",
       "  'content': '\"Boleto pago com sucesso\"'},\n",
       " {'tool_call_id': 'call_Xhh8rEfNnMZ6pNVD0GbZGFad',\n",
       "  'role': 'tool',\n",
       "  'name': 'pagarBoleto',\n",
       "  'content': '\"Boleto pago com sucesso\"'},\n",
       " {'content': 'Os boletos de R$ 100,00 e R$ 200,00 foram pagos com sucesso. \\n\\nAgora, vou prosseguir com a transferência de R$ 200,00 para a conta do João. Primeiro, vou obter o número da conta dele pelo apelido \"João\".',\n",
       "  'role': 'assistant',\n",
       "  'tool_calls': [{'id': 'call_II57ZaH5XTG3pWMdtdacCFqe',\n",
       "    'function': {'name': 'obter_numero_conta_por_apelido',\n",
       "     'arguments': '{\"apelido\":\"João\"}'},\n",
       "    'type': 'function'}]},\n",
       " {'tool_call_id': 'call_II57ZaH5XTG3pWMdtdacCFqe',\n",
       "  'role': 'tool',\n",
       "  'name': 'obter_numero_conta_por_apelido',\n",
       "  'content': '\"654\"'},\n",
       " {'content': None,\n",
       "  'role': 'assistant',\n",
       "  'tool_calls': [{'id': 'call_n4C6BytEbVRZixZiamdJZntd',\n",
       "    'function': {'name': 'transferir',\n",
       "     'arguments': '{\"valor\":200,\"numero_conta_destino\":\"654\"}'},\n",
       "    'type': 'function'}]},\n",
       " {'tool_call_id': 'call_n4C6BytEbVRZixZiamdJZntd',\n",
       "  'role': 'tool',\n",
       "  'name': 'transferir',\n",
       "  'content': '\"Transfer\\\\u00eancia realizada com sucesso\"'},\n",
       " {'role': 'assistant',\n",
       "  'content': 'Todos os procedimentos foram realizados com sucesso:\\n\\n- Os boletos de R$ 100,00 e R$ 200,00 foram pagos.\\n- A transferência de R$ 200,00 para a conta do João foi realizada com sucesso.\\n\\nPosso ajudar com mais alguma coisa?'}]"
      ]
     },
     "execution_count": 18,
     "metadata": {},
     "output_type": "execute_result"
    }
   ],
   "source": [
    "\n",
    "messages.append(build_message(\"user\", \"Pague todos os boletos pendentes que não estouram o saldo e depois transfira 200 reais para a conta do João.\"))\n",
    "\n",
    "function_call(functions, messages)\n",
    "\n",
    "messages\n"
   ]
  }
 ],
 "metadata": {
  "kernelspec": {
   "display_name": "Python 3 (ipykernel)",
   "language": "python",
   "name": "python3"
  },
  "language_info": {
   "codemirror_mode": {
    "name": "ipython",
    "version": 3
   },
   "file_extension": ".py",
   "mimetype": "text/x-python",
   "name": "python",
   "nbconvert_exporter": "python",
   "pygments_lexer": "ipython3",
   "version": "3.12.4"
  }
 },
 "nbformat": 4,
 "nbformat_minor": 5
}
