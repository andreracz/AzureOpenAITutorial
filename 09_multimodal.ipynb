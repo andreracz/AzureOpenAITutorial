{
 "cells": [
  {
   "cell_type": "markdown",
   "id": "e992deab-e6d6-4478-b58c-464d0dafc71d",
   "metadata": {},
   "source": [
    "# Multimodal\n",
    "\n",
    "Uso de Imagens e Texto - IA Multimodal"
   ]
  },
  {
   "cell_type": "code",
   "execution_count": 2,
   "id": "b4f5e0eb-d71b-4821-a160-6da1e810377e",
   "metadata": {
    "tags": []
   },
   "outputs": [],
   "source": [
    "import os\n",
    "from openai import AzureOpenAI\n",
    "from dotenv import load_dotenv\n",
    "load_dotenv()\n",
    "\n",
    "API_KEY = os.getenv(\"AZURE_OPENAI_API_KEY\",\"\").strip()\n",
    "assert API_KEY, \"ERROR: Azure OpenAI Key is missing\"\n",
    "\n",
    "RESOURCE_ENDPOINT = os.getenv(\"AZURE_OPENAI_API_BASE\",\"\").strip()\n",
    "assert RESOURCE_ENDPOINT, \"ERROR: Azure OpenAI Endpoint is missing\"\n",
    "assert \"openai.azure.com\" in RESOURCE_ENDPOINT.lower(), \"ERROR: Azure OpenAI Endpoint should be in the form: \\n\\n\\t<your unique endpoint identifier>.openai.azure.com\"\n",
    "\n",
    "client = AzureOpenAI(\n",
    "    api_version=os.getenv(\"AZURE_OPENAI_VERSION\",\"\"),\n",
    "    azure_endpoint=RESOURCE_ENDPOINT,\n",
    "    api_key = API_KEY,\n",
    ")\n"
   ]
  },
  {
   "cell_type": "code",
   "execution_count": 3,
   "id": "87ffc308-5fe5-41b5-8a95-3c5b7bdec610",
   "metadata": {
    "tags": []
   },
   "outputs": [],
   "source": [
    "def build_message(role, content):\n",
    "    return {\"role\":role, \"content\":content}\n",
    "\n",
    "def build_multimodal_message(role, content, image_url):\n",
    "    return {\"role\":role, \"content\": \n",
    "            [ \n",
    "                {\n",
    "                    \"type\": \"text\", \"text\": content\n",
    "                }, \n",
    "                {\n",
    "                    \"type\": \"image_url\",\n",
    "                    \"image_url\": {\n",
    "                        \"url\": image_url\n",
    "                    }\n",
    "                }    \n",
    "    \n",
    "            ]}"
   ]
  },
  {
   "cell_type": "code",
   "execution_count": 4,
   "id": "2634b014-c3f1-4d25-a26a-7d62ee2c19b3",
   "metadata": {
    "tags": []
   },
   "outputs": [
    {
     "name": "stdout",
     "output_type": "stream",
     "text": [
      "ChatCompletionMessage(content='A imagem mostra o Jardim Botânico de Curitiba, um dos pontos turísticos mais famosos da cidade de Curitiba, no Paraná, Brasil. Aqui estão algumas outras sugestões de locais para visitar na mesma cidade:\\n\\n1. **Ópera de Arame**: Um teatro construído em estrutura tubular, cercado por um belo lago e vegetação.\\n\\n2. **Museu Oscar Niemeyer**: Também conhecido como Museu do Olho, abriga exposições de arte contemporânea e moderna.\\n\\n3. **Parque Tanguá**: Um parque com uma bela vista panorâmica, jardins e cascatas.\\n\\n4. **Parque Barigui**: Um dos maiores parques da cidade, ideal para caminhadas, passeios de bicicleta e atividades ao ar livre.\\n\\n5. **Rua XV de Novembro (Rua das Flores)**: Uma rua pedonal no centro da cidade, repleta de lojas, cafés e artistas de rua.\\n\\n6. **Bosque Alemão**: Um parque dedicado à cultura alemã, com trilhas, um mirante e uma biblioteca infantil.\\n\\n7. **Memorial Ucraniano**: Localizado no Parque Tingui, este memorial celebra a cultura e a imigração ucraniana.\\n\\n8. **Centro Histórico de Curitiba**: Uma área com edifícios históricos, igrejas e museus, ideal para um passeio a pé.\\n\\nExplorar esses pontos turísticos vai proporcionar uma visão mais abrangente e rica da cidade de Curitiba.', refusal=None, role='assistant', function_call=None, tool_calls=None)\n"
     ]
    }
   ],
   "source": [
    "\n",
    "system_prompt = \"\"\"Você é um assistente virtual. Você está aqui para ajudar as pessoas com suas dúvidas e perguntas.\"\"\"\n",
    "\n",
    "query = \"Olá\"\n",
    "\n",
    "messages = [ \n",
    "                build_message(\"system\", system_prompt),\n",
    "                build_multimodal_message(\"user\", \"Com base na imagem, sugira outros locais para visita na mesma cidade\", \"https://www.viajeparana.com/sites/viaje-parana/arquivos_restritos/files/imagem/2019-02/botanical-garden-2168222_1920.jpg\"),    \n",
    "           ]\n",
    "\n",
    "\n",
    "response = client.chat.completions.create(\n",
    "  model=\"gpt-4o\",\n",
    "  messages = messages,\n",
    "  temperature=1,\n",
    "  max_tokens=400,\n",
    "  top_p=0.95,\n",
    "  frequency_penalty=0,\n",
    "  presence_penalty=0,\n",
    "  stop=None)\n",
    "\n",
    "response_message = response.choices[0].message\n",
    "print(response_message)\n",
    "\n"
   ]
  }
 ],
 "metadata": {
  "kernelspec": {
   "display_name": "Python 3 (ipykernel)",
   "language": "python",
   "name": "python3"
  },
  "language_info": {
   "codemirror_mode": {
    "name": "ipython",
    "version": 3
   },
   "file_extension": ".py",
   "mimetype": "text/x-python",
   "name": "python",
   "nbconvert_exporter": "python",
   "pygments_lexer": "ipython3",
   "version": "3.12.4"
  }
 },
 "nbformat": 4,
 "nbformat_minor": 5
}
