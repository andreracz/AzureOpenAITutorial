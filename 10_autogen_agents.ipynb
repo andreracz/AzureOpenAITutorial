{
 "cells": [
  {
   "cell_type": "markdown",
   "id": "e992deab-e6d6-4478-b58c-464d0dafc71d",
   "metadata": {},
   "source": [
    "# Agentes com Autogen\n",
    "\n",
    "Exemplo Básico de Agentes com Autogen"
   ]
  },
  {
   "cell_type": "code",
   "execution_count": 13,
   "id": "b4f5e0eb-d71b-4821-a160-6da1e810377e",
   "metadata": {
    "tags": []
   },
   "outputs": [
    {
     "data": {
      "text/plain": [
       "'Claro! Aqui vai uma:\\n\\nPor que o programador foi preso?\\n\\nPorque ele executou um código. 😄'"
      ]
     },
     "execution_count": 13,
     "metadata": {},
     "output_type": "execute_result"
    }
   ],
   "source": [
    "import os\n",
    "from dotenv import load_dotenv\n",
    "load_dotenv()\n",
    "\n",
    "\n",
    "\n",
    "API_KEY = os.getenv(\"AZURE_OPENAI_API_KEY\",\"\").strip()\n",
    "assert API_KEY, \"ERROR: Azure OpenAI Key is missing\"\n",
    "\n",
    "RESOURCE_ENDPOINT = os.getenv(\"AZURE_OPENAI_API_BASE\",\"\").strip()\n",
    "assert RESOURCE_ENDPOINT, \"ERROR: Azure OpenAI Endpoint is missing\"\n",
    "assert \"openai.azure.com\" in RESOURCE_ENDPOINT.lower(), \"ERROR: Azure OpenAI Endpoint should be in the form: \\n\\n\\t<your unique endpoint identifier>.openai.azure.com\"\n",
    "\n",
    "from autogen import ConversableAgent, UserProxyAgent\n",
    "\n",
    "\n",
    "llm_config = {\n",
    "    \"model\": \"gpt-4o\", \n",
    "    \"api_type\": \"azure\",\n",
    "    \"api_key\": API_KEY,\n",
    "    \"base_url\": RESOURCE_ENDPOINT,\n",
    "    \"api_version\":os.getenv(\"AZURE_OPENAI_VERSION\",\"\")\n",
    "}\n",
    "agent = ConversableAgent(\"chatbot\", llm_config=llm_config, code_execution_config=False, function_map=None, human_input_mode=\"NEVER\")\n",
    "\n",
    "\n",
    "# Start the chat\n",
    "agent.generate_reply(\n",
    "        messages=[{\"content\": \"Me conte uma piada boa sobre programadores\", \"role\": \"user\"}]\n",
    ")\n"
   ]
  },
  {
   "cell_type": "code",
   "execution_count": 15,
   "id": "c52506dd",
   "metadata": {},
   "outputs": [
    {
     "name": "stdout",
     "output_type": "stream",
     "text": [
      "\u001b[33mjoao\u001b[0m (to maria):\n",
      "\n",
      "Maria, me conte uma piada de programador\n",
      "\n",
      "--------------------------------------------------------------------------------\n",
      "\u001b[33mmaria\u001b[0m (to joao):\n",
      "\n",
      "Claro, João! Aqui vai uma pra você:\n",
      "\n",
      "Por que o programador foi ao teatro?\n",
      "\n",
      "Porque ele queria conferir o desempenho do seu código na \"pasta\" de produção!\n",
      "\n",
      "--------------------------------------------------------------------------------\n",
      "\u001b[33mjoao\u001b[0m (to maria):\n",
      "\n",
      "Haha, essa foi boa, Maria! Mas você sabe qual é o animal preferido dos programadores?\n",
      "\n",
      "O Python! E parece que também gostam muito de bugs, porque sempre têm alguns no código!\n",
      "\n",
      "--------------------------------------------------------------------------------\n",
      "\u001b[33mmaria\u001b[0m (to joao):\n",
      "\n",
      "Haha! Boa, João! Então, aqui vai mais uma:\n",
      "\n",
      "Por que o programador não gosta de natureza?\n",
      "\n",
      "Porque tem muitos bugs por lá também!\n",
      "\n",
      "E você, João, prefere Python ou está mais pro time do Java?\n",
      "\n",
      "--------------------------------------------------------------------------------\n"
     ]
    }
   ],
   "source": [
    "joao = ConversableAgent(\"joao\", llm_config=llm_config, code_execution_config=False, function_map=None, human_input_mode=\"NEVER\",\n",
    "                        system_message=\"Seu nome é João, você é parte de um ato de comédia.\")\n",
    "\n",
    "maria = ConversableAgent(\"maria\", llm_config=llm_config, code_execution_config=False, function_map=None, human_input_mode=\"NEVER\",\n",
    "                        system_message=\"Seu nome é Maria, você é parte de um ato de comédia.\")\n",
    "\n",
    "result = joao.initiate_chat(maria, message=\"Maria, me conte uma piada de programador\", max_turns=2)"
   ]
  },
  {
   "cell_type": "code",
   "execution_count": 17,
   "id": "a9cae202",
   "metadata": {},
   "outputs": [
    {
     "name": "stdout",
     "output_type": "stream",
     "text": [
      "\u001b[33mjoao\u001b[0m (to maria):\n",
      "\n",
      "Maria, me conte uma piada de programador e depois diga tchau\n",
      "\n",
      "--------------------------------------------------------------------------------\n",
      "\u001b[33mmaria\u001b[0m (to joao):\n",
      "\n",
      "Claro, João! Aqui vai uma piada de programador:\n",
      "\n",
      "Por que o programador foi ao psicólogo?\n",
      "Porque ele tinha muitos \"loops\" sem saída!\n",
      "\n",
      "E agora, me despeço com um grande sorriso. Tchau, João! Até a próxima! 😊👋\n",
      "\n",
      "--------------------------------------------------------------------------------\n"
     ]
    }
   ],
   "source": [
    "joao = ConversableAgent(\"joao\", llm_config=llm_config, code_execution_config=False, function_map=None, human_input_mode=\"NEVER\",\n",
    "                        system_message=\"Seu nome é João, você é parte de um ato de comédia.\",\n",
    "                        is_termination_msg=lambda msg: \"tchau\" in msg[\"content\"].lower())\n",
    "\n",
    "result = joao.initiate_chat(maria, message=\"Maria, me conte uma piada de programador e depois diga tchau\")"
   ]
  }
 ],
 "metadata": {
  "kernelspec": {
   "display_name": "Python 3 (ipykernel)",
   "language": "python",
   "name": "python3"
  },
  "language_info": {
   "codemirror_mode": {
    "name": "ipython",
    "version": 3
   },
   "file_extension": ".py",
   "mimetype": "text/x-python",
   "name": "python",
   "nbconvert_exporter": "python",
   "pygments_lexer": "ipython3",
   "version": "3.12.4"
  }
 },
 "nbformat": 4,
 "nbformat_minor": 5
}
